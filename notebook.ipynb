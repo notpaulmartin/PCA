{
 "cells": [
  {
   "cell_type": "code",
   "metadata": {
    "tags": [],
    "cell_id": "00000-d7302252-6a93-4f4d-9841-b091e813f0e0",
    "deepnote_to_be_reexecuted": false,
    "source_hash": "537ed067",
    "execution_start": 1623692347292,
    "execution_millis": 2225,
    "deepnote_cell_type": "code"
   },
   "source": "import numpy as np\nimport pandas as pd\n\nimport seaborn as sns\nfrom matplotlib import pyplot as plt\nfrom mpl_toolkits.mplot3d import Axes3D\n\nimport plotly.express as px\n\nfrom sklearn import decomposition\nfrom sklearn import preprocessing\n\nimport statistics as stats\nfrom scipy.stats import zscore\n\nimport mgen",
   "execution_count": null,
   "outputs": []
  },
  {
   "cell_type": "code",
   "metadata": {
    "tags": [],
    "cell_id": "00001-387b3510-afa1-4d25-aa45-a383fa4c88b6",
    "deepnote_to_be_reexecuted": false,
    "source_hash": "1979c51f",
    "execution_start": 1623692349522,
    "execution_millis": 10,
    "deepnote_cell_type": "code"
   },
   "source": "def genData(m, c, size=20, noiseFactor=0.3):\n    # y=mx+c\n    xs = np.random.uniform(size=20)\n    ys = [m * x**2 + c + np.random.normal() * noiseFactor for x in xs]\n    return xs, ys\n\ndef gen3dData(m, c, size=20, noiseFactor=0.3):\n    # y=mx+c\n    xs = np.random.uniform(size=20)\n    ys = [m * x**2 + c + np.random.normal() * noiseFactor for x in xs]\n    zs = [m * x**2 + c + np.random.normal() * noiseFactor for x in xs]\n    return xs, ys, zs",
   "execution_count": null,
   "outputs": []
  },
  {
   "cell_type": "code",
   "metadata": {
    "tags": [],
    "cell_id": "00002-f1450ded-9c57-43f6-b5d5-b67c7ddab913",
    "deepnote_to_be_reexecuted": false,
    "source_hash": "cd6cf3f6",
    "execution_start": 1623692349536,
    "execution_millis": 8,
    "deepnote_cell_type": "code"
   },
   "source": "normalize = lambda arr: preprocessing.normalize([arr])[0]",
   "execution_count": null,
   "outputs": []
  },
  {
   "cell_type": "markdown",
   "source": "# Data creation",
   "metadata": {
    "tags": [],
    "cell_id": "00003-2193e522-7cbf-4c16-ab03-a5c8e52077a9",
    "deepnote_cell_type": "text-cell-h1"
   }
  },
  {
   "cell_type": "code",
   "metadata": {
    "tags": [],
    "cell_id": "00002-23c8bd3a-25f5-4d48-b35d-4ac55eed5fc8",
    "deepnote_to_be_reexecuted": false,
    "source_hash": "90537cc3",
    "execution_start": 1623692349548,
    "execution_millis": 6,
    "deepnote_cell_type": "code"
   },
   "source": "# y = mx+c\nm = 3\nc = 4",
   "execution_count": null,
   "outputs": []
  },
  {
   "cell_type": "code",
   "metadata": {
    "tags": [],
    "cell_id": "00003-c5cfa730-6c46-4383-983d-dc1e4aa95417",
    "deepnote_to_be_reexecuted": false,
    "source_hash": "7cee2ca7",
    "execution_start": 1623692349558,
    "execution_millis": 342,
    "deepnote_cell_type": "code"
   },
   "source": "xs, ys = genData(m, c, size=20, noiseFactor=0.3)\nxs = normalize(xs)\nys = normalize(ys)\n\nsns.scatterplot(xs, ys)\n\n\"Variance: \", stats.variance(xs)",
   "execution_count": null,
   "outputs": [
    {
     "name": "stderr",
     "text": "/shared-libs/python3.7/py/lib/python3.7/site-packages/seaborn/_decorators.py:43: FutureWarning: Pass the following variables as keyword args: x, y. From version 0.12, the only valid positional argument will be `data`, and passing other arguments without an explicit keyword will result in an error or misinterpretation.\n  FutureWarning\n",
     "output_type": "stream"
    },
    {
     "output_type": "execute_result",
     "execution_count": 5,
     "data": {
      "text/plain": "('Variance: ', 0.01629384534476926)"
     },
     "metadata": {}
    },
    {
     "data": {
      "text/plain": "<Figure size 432x288 with 1 Axes>",
      "image/png": "[encoded data removed]"
     },
     "metadata": {
      "needs_background": "light",
      "image/png": {
       "width": 381,
       "height": 250
      }
     },
     "output_type": "display_data"
    }
   ]
  },
  {
   "cell_type": "markdown",
   "source": "# PCA",
   "metadata": {
    "tags": [],
    "cell_id": "00006-9b76113f-0ce5-4359-a79d-43204386dbe2",
    "deepnote_cell_type": "text-cell-h1"
   }
  },
  {
   "cell_type": "code",
   "metadata": {
    "tags": [],
    "cell_id": "00009-b7ae94ab-0f62-44d4-a386-33feac7fdb2a",
    "deepnote_to_be_reexecuted": false,
    "source_hash": "21b10510",
    "execution_start": 1623692349891,
    "execution_millis": 9,
    "deepnote_cell_type": "code"
   },
   "source": "# PCA\nX = np.ndarray.transpose(np.array([xs, ys]))\n\npca = decomposition.PCA(n_components=1)\nX_reduced = pca.fit_transform(X)\npca.explained_variance_ratio_",
   "execution_count": null,
   "outputs": [
    {
     "output_type": "execute_result",
     "execution_count": 6,
     "data": {
      "text/plain": "array([0.98724694])"
     },
     "metadata": {}
    }
   ]
  },
  {
   "cell_type": "code",
   "metadata": {
    "tags": [],
    "cell_id": "00010-c27f5941-a8fe-4a04-8168-a75d492457c8",
    "deepnote_to_be_reexecuted": false,
    "source_hash": "3eaed2d",
    "execution_start": 1623692349892,
    "execution_millis": 190,
    "deepnote_cell_type": "code"
   },
   "source": "# Plot PCA\nxs_reduced = np.transpose(X_reduced)[0]\nsns.stripplot(x=xs_reduced, jitter=0.03)",
   "execution_count": null,
   "outputs": [
    {
     "output_type": "execute_result",
     "execution_count": 7,
     "data": {
      "text/plain": "<AxesSubplot:>"
     },
     "metadata": {}
    },
    {
     "data": {
      "text/plain": "<Figure size 432x288 with 1 Axes>",
      "image/png": "[encoded data removed]"
     },
     "metadata": {
      "needs_background": "light",
      "image/png": {
       "width": 361,
       "height": 248
      }
     },
     "output_type": "display_data"
    }
   ]
  },
  {
   "cell_type": "markdown",
   "source": "# Game Theoretic approach",
   "metadata": {
    "tags": [],
    "cell_id": "00009-ed69d45e-3cb9-4426-b006-8e109f05193c",
    "deepnote_cell_type": "text-cell-h1"
   }
  },
  {
   "cell_type": "code",
   "metadata": {
    "tags": [],
    "cell_id": "00012-64fd3274-d875-42cf-b364-e8c53b7df6bd",
    "deepnote_to_be_reexecuted": false,
    "source_hash": "6b6620ea",
    "execution_start": 1623692350097,
    "execution_millis": 4,
    "deepnote_cell_type": "code"
   },
   "source": "vector = [1,0]\n\nrotation_degrees = 90\nrotation_radians = np.radians(rotation_degrees)\n\nplane_v1 = np.array([1, 0])\nplane_v2 = np.array([0, 1])\n\nM = mgen.rotation_from_angle_and_plane(rotation_radians, plane_v1, plane_v2)\nM.dot(vector)",
   "execution_count": null,
   "outputs": [
    {
     "output_type": "execute_result",
     "execution_count": 8,
     "data": {
      "text/plain": "array([1.11022302e-16, 1.00000000e+00])"
     },
     "metadata": {}
    }
   ]
  },
  {
   "cell_type": "code",
   "metadata": {
    "tags": [],
    "cell_id": "00012-8ccf8805-e163-4973-8b91-4924b3a0a4c4",
    "deepnote_to_be_reexecuted": false,
    "source_hash": "b18120b1",
    "execution_start": 1623692350150,
    "execution_millis": 0,
    "deepnote_cell_type": "code"
   },
   "source": "def unzip(xs):\n    return list( zip(*xs) )",
   "execution_count": null,
   "outputs": []
  },
  {
   "cell_type": "markdown",
   "source": "## In 2D:  -&gt;  1 component",
   "metadata": {
    "tags": [],
    "cell_id": "00012-df32d0aa-29b6-44d8-838e-133b98cfd912",
    "deepnote_cell_type": "text-cell-h2"
   }
  },
  {
   "cell_type": "code",
   "metadata": {
    "tags": [],
    "cell_id": "00012-6ac51093-3278-4b4e-8216-d94e4667631e",
    "deepnote_to_be_reexecuted": false,
    "source_hash": "ff402a9",
    "execution_start": 1623692350151,
    "execution_millis": 0,
    "deepnote_cell_type": "code"
   },
   "source": "def rotate(vec, angle_deg):\n    angle_rad = np.radians(angle_deg)\n    M = mgen.rotation_from_angle(angle_rad)\n    return M.dot(vec)\n\ndef rotateAll(vectors, angle_deg):\n    angle_rad = np.radians(angle_deg)\n    M = mgen.rotation_from_angle(angle_rad)\n    return [M.dot(v) for v in vectors]",
   "execution_count": null,
   "outputs": []
  },
  {
   "cell_type": "code",
   "metadata": {
    "tags": [],
    "cell_id": "00014-88085f75-c562-4e8b-a4ed-d43ff33032df",
    "deepnote_to_be_reexecuted": false,
    "source_hash": "57669cfa",
    "execution_start": 1623692350152,
    "execution_millis": 0,
    "deepnote_cell_type": "code"
   },
   "source": "def xsOf(vectors):\n    return list( list(unzip(vectors))[0] )\n\ndef ysOf(vectors):\n    return list( list(unzip(vectors))[1] )",
   "execution_count": null,
   "outputs": []
  },
  {
   "cell_type": "code",
   "metadata": {
    "tags": [],
    "cell_id": "00015-00a0ca60-2bbd-45bc-8041-6ef4c7e7f1d6",
    "deepnote_to_be_reexecuted": false,
    "source_hash": "1bcdd2f0",
    "execution_start": 1623692350198,
    "execution_millis": 1,
    "deepnote_cell_type": "code"
   },
   "source": "def plot1d(xs):\n    sns.stripplot(x=xs, jitter=0.03)\n\ndef plot2d(vectors):\n    xs, ys = unzip(vectors)\n    return sns.scatterplot(xs, ys)",
   "execution_count": null,
   "outputs": []
  },
  {
   "cell_type": "code",
   "metadata": {
    "tags": [],
    "cell_id": "00015-809506ae-4e83-4799-a8d6-dcd7843c8805",
    "deepnote_to_be_reexecuted": false,
    "source_hash": "77beabcf",
    "execution_start": 1623692350199,
    "execution_millis": 1797765,
    "deepnote_cell_type": "code"
   },
   "source": "vectors = list(zip(xs, ys))",
   "execution_count": null,
   "outputs": []
  },
  {
   "cell_type": "code",
   "metadata": {
    "tags": [],
    "cell_id": "00019-3df96360-c828-415d-abb9-48492fce9f9c",
    "deepnote_to_be_reexecuted": false,
    "source_hash": "af733ef8",
    "execution_start": 1623692350206,
    "execution_millis": 28,
    "deepnote_cell_type": "code"
   },
   "source": "angle = 0\nangle_change = 1\n\nvar = 0\nvar_new = stats.variance( xsOf(vectors) )\n\nvectors_new = vectors[:]\n\nwhile var < var_new:\n    var = var_new\n\n    vectors_left = rotateAll(vectors_new, -angle_change)\n    vectors_right = rotateAll(vectors_new, angle_change)\n\n    var_left = stats.variance(xsOf(vectors_left))\n    var_right = stats.variance(xsOf(vectors_right))\n\n    if var_left < var_right:\n        var_new = var_right\n        angle += angle_change\n        vectors_new = vectors_right\n\n    elif var_right < var_left:\n        var_new = var_left\n        angle -= angle_change\n        vectors_new = vectors_left\n\n    else:\n        break\n\nif angle < 0:\n    angle = 360 - angle\n\nprint(angle)\nvar_new",
   "execution_count": null,
   "outputs": [
    {
     "name": "stdout",
     "text": "376\n",
     "output_type": "stream"
    },
    {
     "output_type": "execute_result",
     "execution_count": 14,
     "data": {
      "text/plain": "0.01776121165726641"
     },
     "metadata": {}
    }
   ]
  },
  {
   "cell_type": "code",
   "metadata": {
    "tags": [],
    "cell_id": "00019-1c4135b2-481e-4082-963e-2ec1564f1673",
    "deepnote_to_be_reexecuted": false,
    "source_hash": "58da141d",
    "execution_start": 1623692350278,
    "execution_millis": 0,
    "deepnote_cell_type": "code"
   },
   "source": "# Variance explained\nxs, ys = unzip(vectors)\nvar_explained = var_new/(stats.variance(xs) + stats.variance(ys))\n\nprint( \"Variance explained by Game:\", var_explained)\nprint( \"Variance explained by PCA:\", pca.explained_variance_ratio_)",
   "execution_count": null,
   "outputs": [
    {
     "name": "stdout",
     "text": "Variance explained by Game: 0.987039197196552\nVariance explained by PCA: [0.98724694]\n",
     "output_type": "stream"
    }
   ]
  },
  {
   "cell_type": "code",
   "metadata": {
    "tags": [],
    "cell_id": "00020-544d3e3c-9c22-4af2-8ae2-905e75519d95",
    "deepnote_to_be_reexecuted": false,
    "source_hash": "325c990e",
    "execution_start": 1623692350279,
    "execution_millis": 174,
    "deepnote_cell_type": "code"
   },
   "source": "plot1d(xsOf(vectors_new))",
   "execution_count": null,
   "outputs": [
    {
     "data": {
      "text/plain": "<Figure size 432x288 with 1 Axes>",
      "image/png": "[encoded data removed]"
     },
     "metadata": {
      "needs_background": "light",
      "image/png": {
       "width": 352,
       "height": 248
      }
     },
     "output_type": "display_data"
    }
   ]
  },
  {
   "cell_type": "markdown",
   "source": "## In 3D:  -&gt;  1 component",
   "metadata": {
    "tags": [],
    "cell_id": "00019-77b2ac53-4f3a-4fd5-8c06-9395cf9b74ab",
    "deepnote_cell_type": "text-cell-h2"
   }
  },
  {
   "cell_type": "code",
   "metadata": {
    "tags": [],
    "cell_id": "00020-a823b6ad-a47d-41cc-990f-339df9ae66c7",
    "deepnote_to_be_reexecuted": false,
    "source_hash": "581467c9",
    "execution_start": 1623692350447,
    "execution_millis": 1797838,
    "deepnote_cell_type": "code"
   },
   "source": "def plot3d(vectors):\n    xs, ys, zs = unzip(vectors)\n    fig = px.scatter_3d(x=xs, y=ys, z=zs)\n    fig.show()",
   "execution_count": null,
   "outputs": []
  },
  {
   "cell_type": "code",
   "metadata": {
    "tags": [],
    "cell_id": "00023-568f9e92-5ac7-4546-a38a-9e9e4c32f323",
    "deepnote_to_be_reexecuted": false,
    "source_hash": "195248c3",
    "execution_start": 1623692350448,
    "execution_millis": 1797838,
    "deepnote_cell_type": "code"
   },
   "source": "def rot_xy(v, angle_deg):\n    rotation_radians = np.radians(angle_deg)\n\n    plane_v1 = np.array([1, 0, 0])\n    plane_v2 = np.array([0, 1, 0])\n\n    M = mgen.rotation_from_angle_and_plane(rotation_radians, plane_v1, plane_v2)\n\n    return M.dot(v)\n\ndef rotAll_xy(vs, angle_deg):\n    rotation_radians = np.radians(angle_deg)\n\n    plane_v1 = np.array([1, 0, 0])\n    plane_v2 = np.array([0, 1, 0])\n\n    M = mgen.rotation_from_angle_and_plane(rotation_radians, plane_v1, plane_v2)\n\n    return [M.dot(v) for v in vs]",
   "execution_count": null,
   "outputs": []
  },
  {
   "cell_type": "code",
   "metadata": {
    "tags": [],
    "cell_id": "00022-53b29620-b6d8-4dcd-a18c-48c756cabbe4",
    "deepnote_to_be_reexecuted": false,
    "source_hash": "67e20ca1",
    "execution_start": 1623692350491,
    "execution_millis": 1797838,
    "deepnote_cell_type": "code"
   },
   "source": "# Generate data\nxs, ys, zs = gen3dData(5, 2)\nxs = normalize(xs)\nys = normalize(ys)\nzs = normalize(zs)",
   "execution_count": null,
   "outputs": []
  },
  {
   "cell_type": "code",
   "metadata": {
    "tags": [],
    "cell_id": "00021-1afce68d-608b-43c0-811a-bf1bbc65cb11",
    "deepnote_to_be_reexecuted": false,
    "source_hash": "de05b094",
    "execution_start": 1623692350491,
    "execution_millis": 1797879,
    "deepnote_cell_type": "code"
   },
   "source": "# Package data\nvectors3d = list(zip(xs, ys, zs))\ndf = pd.DataFrame(vectors3d)",
   "execution_count": null,
   "outputs": []
  },
  {
   "cell_type": "code",
   "metadata": {
    "tags": [],
    "cell_id": "00023-7e3d3160-1a08-4752-bdd4-6f6d83a0c99c",
    "deepnote_to_be_reexecuted": false,
    "source_hash": "4cf530ad",
    "execution_start": 1623692350492,
    "execution_millis": 2835,
    "deepnote_cell_type": "code"
   },
   "source": "sns.pairplot(df)",
   "execution_count": null,
   "outputs": [
    {
     "output_type": "execute_result",
     "execution_count": 21,
     "data": {
      "text/plain": "<seaborn.axisgrid.PairGrid at 0x7effdf7be750>"
     },
     "metadata": {}
    },
    {
     "data": {
      "text/plain": "<Figure size 540x540 with 12 Axes>",
      "image/png": "[encoded data removed]"
     },
     "metadata": {
      "needs_background": "light",
      "image/png": {
       "width": 533,
       "height": 533
      }
     },
     "output_type": "display_data"
    }
   ]
  },
  {
   "cell_type": "code",
   "metadata": {
    "tags": [],
    "cell_id": "00024-35ba0964-0356-44e5-93bd-83c8d74f04a8",
    "deepnote_to_be_reexecuted": false,
    "source_hash": "7cee4d1a",
    "execution_start": 1623692353461,
    "execution_millis": 2813,
    "is_output_hidden": true,
    "deepnote_cell_type": "code"
   },
   "source": "df = pd.DataFrame(rotAll_xy(vectors3d, 145))\nsns.pairplot(df)",
   "execution_count": null,
   "outputs": [
    {
     "output_type": "execute_result",
     "execution_count": 22,
     "data": {
      "text/plain": "<seaborn.axisgrid.PairGrid at 0x7effdf32e410>"
     },
     "metadata": {}
    },
    {
     "data": {
      "text/plain": "<Figure size 540x540 with 12 Axes>",
      "image/png": "[encoded data removed]"
     },
     "metadata": {
      "needs_background": "light",
      "image/png": {
       "width": 533,
       "height": 533
      }
     },
     "output_type": "display_data"
    }
   ]
  },
  {
   "cell_type": "code",
   "metadata": {
    "tags": [],
    "cell_id": "00022-1c151dc0-568c-4391-aaf4-6b1137a6b6e6",
    "deepnote_to_be_reexecuted": false,
    "source_hash": "c2071901",
    "execution_start": 1623692356281,
    "execution_millis": 2118,
    "is_output_hidden": false,
    "deepnote_cell_type": "code"
   },
   "source": "plot3d(vectors3d)",
   "execution_count": null,
   "outputs": [
    {
     "data": {
      "text/html": "<html>\n<head><meta charset=\"utf-8\" /></head>\n<body>\n    <div>            <script src=\"https://cdnjs.cloudflare.com/ajax/libs/mathjax/2.7.5/MathJax.js?config=TeX-AMS-MML_SVG\"></script><script type=\"text/javascript\">if (window.MathJax) {MathJax.Hub.Config({SVG: {font: \"STIX-Web\"}});}</script>                <script type=\"text/javascript\">window.PlotlyConfig = {MathJaxConfig: 'local'};</script>\n        <script src=\"https://cdn.plot.ly/plotly-latest.min.js\"></script>                <div id=\"ce212ce4-3db7-4ab1-80ee-683bb5053fd2\" class=\"plotly-graph-div\" style=\"height:525px; width:100%;\"></div>            <script type=\"text/javascript\">                                    window.PLOTLYENV=window.PLOTLYENV || {};                                    if (document.getElementById(\"ce212ce4-3db7-4ab1-80ee-683bb5053fd2\")) {                    Plotly.newPlot(                        \"ce212ce4-3db7-4ab1-80ee-683bb5053fd2\",                        [{\"hovertemplate\": \"x=%{x}<br>y=%{y}<br>z=%{z}<extra></extra>\", \"legendgroup\": \"\", \"marker\": {\"color\": \"#636efa\", \"symbol\": \"circle\"}, \"mode\": \"markers\", \"name\": \"\", \"scene\": \"scene\", \"showlegend\": false, \"type\": \"scatter3d\", \"x\": [0.2628525263782248, 0.15131511966340305, 0.25980067401579704, 0.07752591945471804, 0.36867680252236823, 0.06061528060417147, 0.21951241524581847, 0.09657780742250134, 0.020359343881211012, 0.2608159561606193, 0.1152510677157216, 0.3877623374061455, 0.44155947959453024, 0.04507884778389982, 0.06895413929375857, 0.22889194526595186, 0.17597082443611614, 0.11700345965795737, 0.30220900798478695, 0.12318706443049135], \"y\": [0.24031087333229648, 0.188141147796752, 0.23078660296617282, 0.1594627232330613, 0.31908602607989694, 0.14114713395165848, 0.2118613872178679, 0.15935642782687906, 0.1587069328936229, 0.22728352221091178, 0.17432812892923413, 0.3374581648378826, 0.40912742679298786, 0.12185413526860507, 0.14645949845929604, 0.22352318040894142, 0.19570263915756106, 0.1783784845945123, 0.2608115913124065, 0.15245616265662792], \"z\": [0.26098258603947627, 0.17417578601176262, 0.19433664381955115, 0.1560713410268011, 0.32695362834330954, 0.15419938497946453, 0.1587339889020924, 0.14774005828601716, 0.1408738368593972, 0.24087038679567302, 0.16544704140549737, 0.3769639969748144, 0.4102500241357841, 0.12879053666495055, 0.13852728615228668, 0.1736825215255956, 0.20259806049922144, 0.1816670183941327, 0.2694925605107219, 0.18293433192750014]}],                        {\"legend\": {\"tracegroupgap\": 0}, \"margin\": {\"t\": 60}, \"scene\": {\"domain\": {\"x\": [0.0, 1.0], \"y\": [0.0, 1.0]}, \"xaxis\": {\"title\": {\"text\": \"x\"}}, \"yaxis\": {\"title\": {\"text\": \"y\"}}, \"zaxis\": {\"title\": {\"text\": \"z\"}}}, \"template\": {\"data\": {\"bar\": [{\"error_x\": {\"color\": \"#2a3f5f\"}, \"error_y\": {\"color\": \"#2a3f5f\"}, \"marker\": {\"line\": {\"color\": \"#E5ECF6\", \"width\": 0.5}}, \"type\": \"bar\"}], \"barpolar\": [{\"marker\": {\"line\": {\"color\": \"#E5ECF6\", \"width\": 0.5}}, \"type\": \"barpolar\"}], \"carpet\": [{\"aaxis\": {\"endlinecolor\": \"#2a3f5f\", \"gridcolor\": \"white\", \"linecolor\": \"white\", \"minorgridcolor\": \"white\", \"startlinecolor\": \"#2a3f5f\"}, \"baxis\": {\"endlinecolor\": \"#2a3f5f\", \"gridcolor\": \"white\", \"linecolor\": \"white\", \"minorgridcolor\": \"white\", \"startlinecolor\": \"#2a3f5f\"}, \"type\": \"carpet\"}], \"choropleth\": [{\"colorbar\": {\"outlinewidth\": 0, \"ticks\": \"\"}, \"type\": \"choropleth\"}], \"contour\": [{\"colorbar\": {\"outlinewidth\": 0, \"ticks\": \"\"}, \"colorscale\": [[0.0, \"#0d0887\"], [0.1111111111111111, \"#46039f\"], [0.2222222222222222, \"#7201a8\"], [0.3333333333333333, \"#9c179e\"], [0.4444444444444444, \"#bd3786\"], [0.5555555555555556, \"#d8576b\"], [0.6666666666666666, \"#ed7953\"], [0.7777777777777778, \"#fb9f3a\"], [0.8888888888888888, \"#fdca26\"], [1.0, \"#f0f921\"]], \"type\": \"contour\"}], \"contourcarpet\": [{\"colorbar\": {\"outlinewidth\": 0, \"ticks\": \"\"}, \"type\": \"contourcarpet\"}], \"heatmap\": [{\"colorbar\": {\"outlinewidth\": 0, \"ticks\": \"\"}, \"colorscale\": [[0.0, \"#0d0887\"], [0.1111111111111111, \"#46039f\"], [0.2222222222222222, \"#7201a8\"], [0.3333333333333333, \"#9c179e\"], [0.4444444444444444, \"#bd3786\"], [0.5555555555555556, \"#d8576b\"], [0.6666666666666666, \"#ed7953\"], [0.7777777777777778, \"#fb9f3a\"], [0.8888888888888888, \"#fdca26\"], [1.0, \"#f0f921\"]], \"type\": \"heatmap\"}], \"heatmapgl\": [{\"colorbar\": {\"outlinewidth\": 0, \"ticks\": \"\"}, \"colorscale\": [[0.0, \"#0d0887\"], [0.1111111111111111, \"#46039f\"], [0.2222222222222222, \"#7201a8\"], [0.3333333333333333, \"#9c179e\"], [0.4444444444444444, \"#bd3786\"], [0.5555555555555556, \"#d8576b\"], [0.6666666666666666, \"#ed7953\"], [0.7777777777777778, \"#fb9f3a\"], [0.8888888888888888, \"#fdca26\"], [1.0, \"#f0f921\"]], \"type\": \"heatmapgl\"}], \"histogram\": [{\"marker\": {\"colorbar\": {\"outlinewidth\": 0, \"ticks\": \"\"}}, \"type\": \"histogram\"}], \"histogram2d\": [{\"colorbar\": {\"outlinewidth\": 0, \"ticks\": \"\"}, \"colorscale\": [[0.0, \"#0d0887\"], [0.1111111111111111, \"#46039f\"], [0.2222222222222222, \"#7201a8\"], [0.3333333333333333, \"#9c179e\"], [0.4444444444444444, \"#bd3786\"], [0.5555555555555556, \"#d8576b\"], [0.6666666666666666, \"#ed7953\"], [0.7777777777777778, \"#fb9f3a\"], [0.8888888888888888, \"#fdca26\"], [1.0, \"#f0f921\"]], \"type\": \"histogram2d\"}], \"histogram2dcontour\": [{\"colorbar\": {\"outlinewidth\": 0, \"ticks\": \"\"}, \"colorscale\": [[0.0, \"#0d0887\"], [0.1111111111111111, \"#46039f\"], [0.2222222222222222, \"#7201a8\"], [0.3333333333333333, \"#9c179e\"], [0.4444444444444444, \"#bd3786\"], [0.5555555555555556, \"#d8576b\"], [0.6666666666666666, \"#ed7953\"], [0.7777777777777778, \"#fb9f3a\"], [0.8888888888888888, \"#fdca26\"], [1.0, \"#f0f921\"]], \"type\": \"histogram2dcontour\"}], \"mesh3d\": [{\"colorbar\": {\"outlinewidth\": 0, \"ticks\": \"\"}, \"type\": \"mesh3d\"}], \"parcoords\": [{\"line\": {\"colorbar\": {\"outlinewidth\": 0, \"ticks\": \"\"}}, \"type\": \"parcoords\"}], \"pie\": [{\"automargin\": true, \"type\": \"pie\"}], \"scatter\": [{\"marker\": {\"colorbar\": {\"outlinewidth\": 0, \"ticks\": \"\"}}, \"type\": \"scatter\"}], \"scatter3d\": [{\"line\": {\"colorbar\": {\"outlinewidth\": 0, \"ticks\": \"\"}}, \"marker\": {\"colorbar\": {\"outlinewidth\": 0, \"ticks\": \"\"}}, \"type\": \"scatter3d\"}], \"scattercarpet\": [{\"marker\": {\"colorbar\": {\"outlinewidth\": 0, \"ticks\": \"\"}}, \"type\": \"scattercarpet\"}], \"scattergeo\": [{\"marker\": {\"colorbar\": {\"outlinewidth\": 0, \"ticks\": \"\"}}, \"type\": \"scattergeo\"}], \"scattergl\": [{\"marker\": {\"colorbar\": {\"outlinewidth\": 0, \"ticks\": \"\"}}, \"type\": \"scattergl\"}], \"scattermapbox\": [{\"marker\": {\"colorbar\": {\"outlinewidth\": 0, \"ticks\": \"\"}}, \"type\": \"scattermapbox\"}], \"scatterpolar\": [{\"marker\": {\"colorbar\": {\"outlinewidth\": 0, \"ticks\": \"\"}}, \"type\": \"scatterpolar\"}], \"scatterpolargl\": [{\"marker\": {\"colorbar\": {\"outlinewidth\": 0, \"ticks\": \"\"}}, \"type\": \"scatterpolargl\"}], \"scatterternary\": [{\"marker\": {\"colorbar\": {\"outlinewidth\": 0, \"ticks\": \"\"}}, \"type\": \"scatterternary\"}], \"surface\": [{\"colorbar\": {\"outlinewidth\": 0, \"ticks\": \"\"}, \"colorscale\": [[0.0, \"#0d0887\"], [0.1111111111111111, \"#46039f\"], [0.2222222222222222, \"#7201a8\"], [0.3333333333333333, \"#9c179e\"], [0.4444444444444444, \"#bd3786\"], [0.5555555555555556, \"#d8576b\"], [0.6666666666666666, \"#ed7953\"], [0.7777777777777778, \"#fb9f3a\"], [0.8888888888888888, \"#fdca26\"], [1.0, \"#f0f921\"]], \"type\": \"surface\"}], \"table\": [{\"cells\": {\"fill\": {\"color\": \"#EBF0F8\"}, \"line\": {\"color\": \"white\"}}, \"header\": {\"fill\": {\"color\": \"#C8D4E3\"}, \"line\": {\"color\": \"white\"}}, \"type\": \"table\"}]}, \"layout\": {\"annotationdefaults\": {\"arrowcolor\": \"#2a3f5f\", \"arrowhead\": 0, \"arrowwidth\": 1}, \"autotypenumbers\": \"strict\", \"coloraxis\": {\"colorbar\": {\"outlinewidth\": 0, \"ticks\": \"\"}}, \"colorscale\": {\"diverging\": [[0, \"#8e0152\"], [0.1, \"#c51b7d\"], [0.2, \"#de77ae\"], [0.3, \"#f1b6da\"], [0.4, \"#fde0ef\"], [0.5, \"#f7f7f7\"], [0.6, \"#e6f5d0\"], [0.7, \"#b8e186\"], [0.8, \"#7fbc41\"], [0.9, \"#4d9221\"], [1, \"#276419\"]], \"sequential\": [[0.0, \"#0d0887\"], [0.1111111111111111, \"#46039f\"], [0.2222222222222222, \"#7201a8\"], [0.3333333333333333, \"#9c179e\"], [0.4444444444444444, \"#bd3786\"], [0.5555555555555556, \"#d8576b\"], [0.6666666666666666, \"#ed7953\"], [0.7777777777777778, \"#fb9f3a\"], [0.8888888888888888, \"#fdca26\"], [1.0, \"#f0f921\"]], \"sequentialminus\": [[0.0, \"#0d0887\"], [0.1111111111111111, \"#46039f\"], [0.2222222222222222, \"#7201a8\"], [0.3333333333333333, \"#9c179e\"], [0.4444444444444444, \"#bd3786\"], [0.5555555555555556, \"#d8576b\"], [0.6666666666666666, \"#ed7953\"], [0.7777777777777778, \"#fb9f3a\"], [0.8888888888888888, \"#fdca26\"], [1.0, \"#f0f921\"]]}, \"colorway\": [\"#636efa\", \"#EF553B\", \"#00cc96\", \"#ab63fa\", \"#FFA15A\", \"#19d3f3\", \"#FF6692\", \"#B6E880\", \"#FF97FF\", \"#FECB52\"], \"font\": {\"color\": \"#2a3f5f\"}, \"geo\": {\"bgcolor\": \"white\", \"lakecolor\": \"white\", \"landcolor\": \"#E5ECF6\", \"showlakes\": true, \"showland\": true, \"subunitcolor\": \"white\"}, \"hoverlabel\": {\"align\": \"left\"}, \"hovermode\": \"closest\", \"mapbox\": {\"style\": \"light\"}, \"paper_bgcolor\": \"white\", \"plot_bgcolor\": \"#E5ECF6\", \"polar\": {\"angularaxis\": {\"gridcolor\": \"white\", \"linecolor\": \"white\", \"ticks\": \"\"}, \"bgcolor\": \"#E5ECF6\", \"radialaxis\": {\"gridcolor\": \"white\", \"linecolor\": \"white\", \"ticks\": \"\"}}, \"scene\": {\"xaxis\": {\"backgroundcolor\": \"#E5ECF6\", \"gridcolor\": \"white\", \"gridwidth\": 2, \"linecolor\": \"white\", \"showbackground\": true, \"ticks\": \"\", \"zerolinecolor\": \"white\"}, \"yaxis\": {\"backgroundcolor\": \"#E5ECF6\", \"gridcolor\": \"white\", \"gridwidth\": 2, \"linecolor\": \"white\", \"showbackground\": true, \"ticks\": \"\", \"zerolinecolor\": \"white\"}, \"zaxis\": {\"backgroundcolor\": \"#E5ECF6\", \"gridcolor\": \"white\", \"gridwidth\": 2, \"linecolor\": \"white\", \"showbackground\": true, \"ticks\": \"\", \"zerolinecolor\": \"white\"}}, \"shapedefaults\": {\"line\": {\"color\": \"#2a3f5f\"}}, \"ternary\": {\"aaxis\": {\"gridcolor\": \"white\", \"linecolor\": \"white\", \"ticks\": \"\"}, \"baxis\": {\"gridcolor\": \"white\", \"linecolor\": \"white\", \"ticks\": \"\"}, \"bgcolor\": \"#E5ECF6\", \"caxis\": {\"gridcolor\": \"white\", \"linecolor\": \"white\", \"ticks\": \"\"}}, \"title\": {\"x\": 0.05}, \"xaxis\": {\"automargin\": true, \"gridcolor\": \"white\", \"linecolor\": \"white\", \"ticks\": \"\", \"title\": {\"standoff\": 15}, \"zerolinecolor\": \"white\", \"zerolinewidth\": 2}, \"yaxis\": {\"automargin\": true, \"gridcolor\": \"white\", \"linecolor\": \"white\", \"ticks\": \"\", \"title\": {\"standoff\": 15}, \"zerolinecolor\": \"white\", \"zerolinewidth\": 2}}}},                        {\"responsive\": true}                    ).then(function(){\n                            \nvar gd = document.getElementById('ce212ce4-3db7-4ab1-80ee-683bb5053fd2');\nvar x = new MutationObserver(function (mutations, observer) {{\n        var display = window.getComputedStyle(gd).display;\n        if (!display || display === 'none') {{\n            console.log([gd, 'removed!']);\n            Plotly.purge(gd);\n            observer.disconnect();\n        }}\n}});\n\n// Listen for the removal of the full notebook cells\nvar notebookContainer = gd.closest('#notebook-container');\nif (notebookContainer) {{\n    x.observe(notebookContainer, {childList: true});\n}}\n\n// Listen for the clearing of the current output cell\nvar outputEl = gd.closest('.output');\nif (outputEl) {{\n    x.observe(outputEl, {childList: true});\n}}\n\n                        })                };                            </script>        </div>\n</body>\n</html>"
     },
     "metadata": {},
     "output_type": "display_data"
    }
   ]
  },
  {
   "cell_type": "code",
   "metadata": {
    "tags": [],
    "cell_id": "00028-a06350a0-df11-4ce5-b6ec-0c92ff74cc44",
    "deepnote_to_be_reexecuted": false,
    "source_hash": "d4c15344",
    "execution_start": 1623692358403,
    "execution_millis": 6,
    "deepnote_cell_type": "code"
   },
   "source": "# Returns two orthogonal vectors to describe a plan based on the dimension of the space\n# and the two axes that should form the plane\ndef planeToVectors(dimension, axis1, axis2):\n    v1 = np.zeros(dimension)\n    v2 = np.zeros(dimension)\n    v1[axis1] = 1\n    v2[axis2] = 1\n    return v1, v2\n\n# e.g. In 4D between Y and W axes\n#  planeToVectors(4, 1, 3)\n#  -> [0 1 0 0], [0 0 0 1]",
   "execution_count": null,
   "outputs": []
  },
  {
   "cell_type": "code",
   "metadata": {
    "tags": [],
    "cell_id": "00029-d18005f0-1449-45f5-ac57-90e4de649ece",
    "deepnote_to_be_reexecuted": false,
    "source_hash": "cd1ef54e",
    "execution_start": 1623692358427,
    "execution_millis": 13,
    "deepnote_cell_type": "code"
   },
   "source": "# Perform a clock-wise rotation by [rotation_deg]° on a list of vectors on the plane described by the two vectors\ndef rotateOnPlane(plane_v1, plane_v2, rotation_deg, vectors):\n    # Create rotation matrix\n    rotation_rad = np.radians(rotation_deg)\n    M = mgen.rotation_from_angle_and_plane(rotation_rad, plane_v1, plane_v2)\n\n    # Rotate all vectors\n    return [M.dot(v) for v in vectors]",
   "execution_count": null,
   "outputs": []
  },
  {
   "cell_type": "code",
   "metadata": {
    "tags": [],
    "cell_id": "00030-53dcef98-f274-416d-a9e8-68006b1b7596",
    "deepnote_to_be_reexecuted": false,
    "source_hash": "19c02594",
    "execution_start": 1623692358453,
    "execution_millis": 10,
    "deepnote_cell_type": "code"
   },
   "source": "# Tries rotating vectors in both directions on the plane given by the two axes (axis1, axis2).\n# The direction is chosen that maximises the variance along the optimisation_axis\n# \n# Returns (rotation_deg or -rotation_deg), new_variance, rotated_vectors\n\ndef bestRotationOnAxes(optimisation_axis, dimension, axis1, axis2, rotation_deg, vectors):\n    # Generate orthogonal vectors describing the plane\n    plane_v1, plane_v2 = planeToVectors(dimension, axis1, axis2)\n    \n    # Try rotating left\n    vectors_left = rotateOnPlane(plane_v1, plane_v2, -rotation_deg, vectors)\n    points = unzip(vectors_left)[optimisation_axis]\n    variance_left = stats.variance(points)\n\n    # Try rotating right\n    vectors_right = rotateOnPlane(plane_v1, plane_v2, rotation_deg, vectors)\n    points = unzip(vectors_right)[optimisation_axis]\n    variance_right = stats.variance(points)\n\n    # Choose rotation the maximises the variance\n    if variance_left > variance_right:\n        return -rotation_deg, variance_left, vectors_left\n    else:\n        return rotation_deg, variance_right, vectors_right",
   "execution_count": null,
   "outputs": []
  },
  {
   "cell_type": "code",
   "metadata": {
    "tags": [],
    "cell_id": "00031-2848934d-2239-4f15-a61a-b0e34b9cb4b9",
    "deepnote_to_be_reexecuted": false,
    "source_hash": "989d309d",
    "execution_start": 1623692358485,
    "execution_millis": 1108,
    "deepnote_cell_type": "code"
   },
   "source": "def improveAxisAlignmentBy(optimisation_axis, dimensions, rotation_deg, vectors):\n    # Axes to pair with optimisation_axis to form the plane to rotate on.\n    # Assumes all axes < optimisation_axis to be fixed and immutable\n    for axis2 in range(optimisation_axis+1, dimensions):\n        angle_diff, var, vectors = bestRotationOnAxes(\n            optimisation_axis = optimisation_axis,\n            dimension = dimensions,\n            axis1 = optimisation_axis,\n            axis2 = axis2,\n            rotation_deg = rotation_deg,\n            vectors = vectors\n        )\n\n    return var, vectors",
   "execution_count": null,
   "outputs": [
    {
     "output_type": "execute_result",
     "execution_count": 27,
     "data": {
      "text/plain": "0.0259729037736349"
     },
     "metadata": {}
    }
   ]
  },
  {
   "cell_type": "markdown",
   "source": "### Algorithm",
   "metadata": {
    "tags": [],
    "cell_id": "00028-a16a3959-ef6a-43f9-a43a-142a5ae99b54",
    "deepnote_cell_type": "markdown"
   }
  },
  {
   "cell_type": "code",
   "metadata": {
    "tags": [],
    "cell_id": "00022-eb6bd281-8eb1-4172-9aea-dfccd288dc76",
    "deepnote_to_be_reexecuted": false,
    "source_hash": "e49d7547",
    "execution_start": 1623692359598,
    "execution_millis": 948,
    "deepnote_cell_type": "code"
   },
   "source": "# Find optimal x\ndimensions = 3\nX = 0\nY = 1\nZ = 2\n\nangle_change = 1\n\nvar_x = 0\nvar_y = 0\nvar_xNew = stats.variance( xsOf(vectors) )\nvar_yNew = stats.variance( ysOf(vectors) )\n\nvectors_new = vectors3d[:]\n\nwhile var_x < var_xNew or var_y < var_yNew:\n    # Align X (Component 1)\n    var_x = var_xNew\n    var_xNew, vectors_new = improveAxisAlignmentBy(X, dimensions, angle_change, vectors_new)\n\n    # Align Y (Component 2)\n    var_y = var_yNew\n    var_yNew, vectors_new = improveAxisAlignmentBy(Y, dimensions, angle_change, vectors_new)\n\n\n### PRINT RESULTS\n#print(\"Rotation:\", (angle_x, angle_y, angle_z))\nprint(\"Var. component 0:\", var_xNew)\n\n# Variance explained\nxs, ys, zs = unzip(vectors3d)\ntotal_var = (stats.variance(xs) + stats.variance(ys) + stats.variance(zs))\nvar_explained1 = var_xNew / total_var\nvar_explained2 = var_yNew / total_var\n\nprint(\"Var. expl. by components:\", (var_explained1, var_explained2))",
   "execution_count": null,
   "outputs": [
    {
     "name": "stdout",
     "text": "Var. component 0: 0.025968724369711378\nVar. expl. by components: (0.9656124242609977, 0.027908358972437427)\n",
     "output_type": "stream"
    }
   ]
  },
  {
   "cell_type": "code",
   "metadata": {
    "tags": [],
    "cell_id": "00030-d9220137-4a05-4693-822b-9bec7c11073a",
    "deepnote_to_be_reexecuted": false,
    "source_hash": "d50475f9",
    "execution_start": 1623692360543,
    "execution_millis": 26,
    "deepnote_cell_type": "code"
   },
   "source": "xs, ys, zs = unzip(vectors3d)\ntotal_var = (stats.variance(xs) + stats.variance(ys) + stats.variance(zs))\nvar_explained1 = var_xNew / total_var\nvar_explained2 = var_yNew / total_var\n\n(var_explained1, var_explained2)",
   "execution_count": null,
   "outputs": [
    {
     "output_type": "execute_result",
     "execution_count": 29,
     "data": {
      "text/plain": "(0.9656124242609977, 0.027908358972437427)"
     },
     "metadata": {}
    }
   ]
  },
  {
   "cell_type": "code",
   "metadata": {
    "tags": [],
    "cell_id": "00030-0facef8a-6d1c-4d9d-b5dd-d9358ccbb816",
    "deepnote_to_be_reexecuted": false,
    "source_hash": "bd503639",
    "execution_start": 1623692360565,
    "execution_millis": 2818,
    "deepnote_cell_type": "code"
   },
   "source": "df = pd.DataFrame(vectors_new)\nsns.pairplot(df)",
   "execution_count": null,
   "outputs": [
    {
     "output_type": "execute_result",
     "execution_count": 30,
     "data": {
      "text/plain": "<seaborn.axisgrid.PairGrid at 0x7effdf82fbd0>"
     },
     "metadata": {}
    },
    {
     "data": {
      "text/plain": "<Figure size 540x540 with 12 Axes>",
      "image/png": "[encoded data removed]"
     },
     "metadata": {
      "needs_background": "light",
      "image/png": {
       "width": 533,
       "height": 533
      }
     },
     "output_type": "display_data"
    }
   ]
  },
  {
   "cell_type": "code",
   "metadata": {
    "tags": [],
    "cell_id": "00036-c04c89dd-4814-499c-9c80-ed5e5d5e0cc6",
    "deepnote_to_be_reexecuted": false,
    "source_hash": "cd971c23",
    "execution_start": 1623692363387,
    "execution_millis": 441,
    "deepnote_cell_type": "code"
   },
   "source": "df = pd.DataFrame(X_reduced)\nsns.pairplot(df)",
   "execution_count": null,
   "outputs": [
    {
     "output_type": "execute_result",
     "execution_count": 31,
     "data": {
      "text/plain": "<seaborn.axisgrid.PairGrid at 0x7effde23b550>"
     },
     "metadata": {}
    },
    {
     "data": {
      "text/plain": "<Figure size 180x180 with 2 Axes>",
      "image/png": "[encoded data removed]"
     },
     "metadata": {
      "needs_background": "light",
      "image/png": {
       "width": 180,
       "height": 180
      }
     },
     "output_type": "display_data"
    }
   ]
  },
  {
   "cell_type": "code",
   "metadata": {
    "tags": [],
    "cell_id": "00036-950aa50a-40cf-472d-9e13-1b4cdc3f5ca4",
    "deepnote_to_be_reexecuted": false,
    "source_hash": "e924b90d",
    "execution_start": 1623692363825,
    "execution_millis": 96,
    "is_output_hidden": true,
    "deepnote_cell_type": "code"
   },
   "source": "plot3d(vectors_new)",
   "execution_count": null,
   "outputs": [
    {
     "data": {
      "text/html": "<html>\n<head><meta charset=\"utf-8\" /></head>\n<body>\n    <div>            <script src=\"https://cdnjs.cloudflare.com/ajax/libs/mathjax/2.7.5/MathJax.js?config=TeX-AMS-MML_SVG\"></script><script type=\"text/javascript\">if (window.MathJax) {MathJax.Hub.Config({SVG: {font: \"STIX-Web\"}});}</script>                <script type=\"text/javascript\">window.PlotlyConfig = {MathJaxConfig: 'local'};</script>\n        <script src=\"https://cdn.plot.ly/plotly-latest.min.js\"></script>                <div id=\"4b23fa03-ca9b-4fe5-a9e9-399c6b7bfda9\" class=\"plotly-graph-div\" style=\"height:525px; width:100%;\"></div>            <script type=\"text/javascript\">                                    window.PLOTLYENV=window.PLOTLYENV || {};                                    if (document.getElementById(\"4b23fa03-ca9b-4fe5-a9e9-399c6b7bfda9\")) {                    Plotly.newPlot(                        \"4b23fa03-ca9b-4fe5-a9e9-399c6b7bfda9\",                        [{\"hovertemplate\": \"x=%{x}<br>y=%{y}<br>z=%{z}<extra></extra>\", \"legendgroup\": \"\", \"marker\": {\"color\": \"#636efa\", \"symbol\": \"circle\"}, \"mode\": \"markers\", \"name\": \"\", \"scene\": \"scene\", \"showlegend\": false, \"type\": \"scatter3d\", \"x\": [0.4326306230977024, 0.28355852829843636, 0.3936238058109807, 0.20671319361800736, 0.5795625620855953, 0.18481163828997857, 0.33767812636698613, 0.21678771107068814, 0.15647237296208313, 0.4153640676349235, 0.2461523944671141, 0.6264816484840617, 0.71558569784578, 0.15205435185408703, 0.18584454208660006, 0.35727080002758466, 0.3191700950664568, 0.2571926152586665, 0.4754521926703273, 0.25049489935975405], \"y\": [0.08264332863286132, 0.07483591256090619, 0.03147971193324557, 0.10100043904441101, 0.08260848318787298, 0.10667156079894921, 0.025372998078525697, 0.0828948719401325, 0.12416884804707574, 0.06608863082881938, 0.08775191464034607, 0.1127027228266099, 0.11809129853067217, 0.09319443315265985, 0.0904309906350486, 0.03321053745761195, 0.08297227367232747, 0.09989230484669738, 0.06872664382913996, 0.092491257334371], \"z\": [-0.030878809426175772, -0.051231909843843564, -0.050940207049619324, -0.05352997921902257, -0.04382039455117077, -0.04289536644937672, -0.05997600366390634, -0.051772553862050284, -0.07447365317708246, -0.028395244049310077, -0.05248265266233281, -0.03403437559037195, -0.06823973862329331, -0.040765265185180165, -0.05175817938061333, -0.06143605391524793, -0.039462391728362786, -0.0488373320238098, -0.034656482130331165, -0.024095163087278753]}],                        {\"legend\": {\"tracegroupgap\": 0}, \"margin\": {\"t\": 60}, \"scene\": {\"domain\": {\"x\": [0.0, 1.0], \"y\": [0.0, 1.0]}, \"xaxis\": {\"title\": {\"text\": \"x\"}}, \"yaxis\": {\"title\": {\"text\": \"y\"}}, \"zaxis\": {\"title\": {\"text\": \"z\"}}}, \"template\": {\"data\": {\"bar\": [{\"error_x\": {\"color\": \"#2a3f5f\"}, \"error_y\": {\"color\": \"#2a3f5f\"}, \"marker\": {\"line\": {\"color\": \"#E5ECF6\", \"width\": 0.5}}, \"type\": \"bar\"}], \"barpolar\": [{\"marker\": {\"line\": {\"color\": \"#E5ECF6\", \"width\": 0.5}}, \"type\": \"barpolar\"}], \"carpet\": [{\"aaxis\": {\"endlinecolor\": \"#2a3f5f\", \"gridcolor\": \"white\", \"linecolor\": \"white\", \"minorgridcolor\": \"white\", \"startlinecolor\": \"#2a3f5f\"}, \"baxis\": {\"endlinecolor\": \"#2a3f5f\", \"gridcolor\": \"white\", \"linecolor\": \"white\", \"minorgridcolor\": \"white\", \"startlinecolor\": \"#2a3f5f\"}, \"type\": \"carpet\"}], \"choropleth\": [{\"colorbar\": {\"outlinewidth\": 0, \"ticks\": \"\"}, \"type\": \"choropleth\"}], \"contour\": [{\"colorbar\": {\"outlinewidth\": 0, \"ticks\": \"\"}, \"colorscale\": [[0.0, \"#0d0887\"], [0.1111111111111111, \"#46039f\"], [0.2222222222222222, \"#7201a8\"], [0.3333333333333333, \"#9c179e\"], [0.4444444444444444, \"#bd3786\"], [0.5555555555555556, \"#d8576b\"], [0.6666666666666666, \"#ed7953\"], [0.7777777777777778, \"#fb9f3a\"], [0.8888888888888888, \"#fdca26\"], [1.0, \"#f0f921\"]], \"type\": \"contour\"}], \"contourcarpet\": [{\"colorbar\": {\"outlinewidth\": 0, \"ticks\": \"\"}, \"type\": \"contourcarpet\"}], \"heatmap\": [{\"colorbar\": {\"outlinewidth\": 0, \"ticks\": \"\"}, \"colorscale\": [[0.0, \"#0d0887\"], [0.1111111111111111, \"#46039f\"], [0.2222222222222222, \"#7201a8\"], [0.3333333333333333, \"#9c179e\"], [0.4444444444444444, \"#bd3786\"], [0.5555555555555556, \"#d8576b\"], [0.6666666666666666, \"#ed7953\"], [0.7777777777777778, \"#fb9f3a\"], [0.8888888888888888, \"#fdca26\"], [1.0, \"#f0f921\"]], \"type\": \"heatmap\"}], \"heatmapgl\": [{\"colorbar\": {\"outlinewidth\": 0, \"ticks\": \"\"}, \"colorscale\": [[0.0, \"#0d0887\"], [0.1111111111111111, \"#46039f\"], [0.2222222222222222, \"#7201a8\"], [0.3333333333333333, \"#9c179e\"], [0.4444444444444444, \"#bd3786\"], [0.5555555555555556, \"#d8576b\"], [0.6666666666666666, \"#ed7953\"], [0.7777777777777778, \"#fb9f3a\"], [0.8888888888888888, \"#fdca26\"], [1.0, \"#f0f921\"]], \"type\": \"heatmapgl\"}], \"histogram\": [{\"marker\": {\"colorbar\": {\"outlinewidth\": 0, \"ticks\": \"\"}}, \"type\": \"histogram\"}], \"histogram2d\": [{\"colorbar\": {\"outlinewidth\": 0, \"ticks\": \"\"}, \"colorscale\": [[0.0, \"#0d0887\"], [0.1111111111111111, \"#46039f\"], [0.2222222222222222, \"#7201a8\"], [0.3333333333333333, \"#9c179e\"], [0.4444444444444444, \"#bd3786\"], [0.5555555555555556, \"#d8576b\"], [0.6666666666666666, \"#ed7953\"], [0.7777777777777778, \"#fb9f3a\"], [0.8888888888888888, \"#fdca26\"], [1.0, \"#f0f921\"]], \"type\": \"histogram2d\"}], \"histogram2dcontour\": [{\"colorbar\": {\"outlinewidth\": 0, \"ticks\": \"\"}, \"colorscale\": [[0.0, \"#0d0887\"], [0.1111111111111111, \"#46039f\"], [0.2222222222222222, \"#7201a8\"], [0.3333333333333333, \"#9c179e\"], [0.4444444444444444, \"#bd3786\"], [0.5555555555555556, \"#d8576b\"], [0.6666666666666666, \"#ed7953\"], [0.7777777777777778, \"#fb9f3a\"], [0.8888888888888888, \"#fdca26\"], [1.0, \"#f0f921\"]], \"type\": \"histogram2dcontour\"}], \"mesh3d\": [{\"colorbar\": {\"outlinewidth\": 0, \"ticks\": \"\"}, \"type\": \"mesh3d\"}], \"parcoords\": [{\"line\": {\"colorbar\": {\"outlinewidth\": 0, \"ticks\": \"\"}}, \"type\": \"parcoords\"}], \"pie\": [{\"automargin\": true, \"type\": \"pie\"}], \"scatter\": [{\"marker\": {\"colorbar\": {\"outlinewidth\": 0, \"ticks\": \"\"}}, \"type\": \"scatter\"}], \"scatter3d\": [{\"line\": {\"colorbar\": {\"outlinewidth\": 0, \"ticks\": \"\"}}, \"marker\": {\"colorbar\": {\"outlinewidth\": 0, \"ticks\": \"\"}}, \"type\": \"scatter3d\"}], \"scattercarpet\": [{\"marker\": {\"colorbar\": {\"outlinewidth\": 0, \"ticks\": \"\"}}, \"type\": \"scattercarpet\"}], \"scattergeo\": [{\"marker\": {\"colorbar\": {\"outlinewidth\": 0, \"ticks\": \"\"}}, \"type\": \"scattergeo\"}], \"scattergl\": [{\"marker\": {\"colorbar\": {\"outlinewidth\": 0, \"ticks\": \"\"}}, \"type\": \"scattergl\"}], \"scattermapbox\": [{\"marker\": {\"colorbar\": {\"outlinewidth\": 0, \"ticks\": \"\"}}, \"type\": \"scattermapbox\"}], \"scatterpolar\": [{\"marker\": {\"colorbar\": {\"outlinewidth\": 0, \"ticks\": \"\"}}, \"type\": \"scatterpolar\"}], \"scatterpolargl\": [{\"marker\": {\"colorbar\": {\"outlinewidth\": 0, \"ticks\": \"\"}}, \"type\": \"scatterpolargl\"}], \"scatterternary\": [{\"marker\": {\"colorbar\": {\"outlinewidth\": 0, \"ticks\": \"\"}}, \"type\": \"scatterternary\"}], \"surface\": [{\"colorbar\": {\"outlinewidth\": 0, \"ticks\": \"\"}, \"colorscale\": [[0.0, \"#0d0887\"], [0.1111111111111111, \"#46039f\"], [0.2222222222222222, \"#7201a8\"], [0.3333333333333333, \"#9c179e\"], [0.4444444444444444, \"#bd3786\"], [0.5555555555555556, \"#d8576b\"], [0.6666666666666666, \"#ed7953\"], [0.7777777777777778, \"#fb9f3a\"], [0.8888888888888888, \"#fdca26\"], [1.0, \"#f0f921\"]], \"type\": \"surface\"}], \"table\": [{\"cells\": {\"fill\": {\"color\": \"#EBF0F8\"}, \"line\": {\"color\": \"white\"}}, \"header\": {\"fill\": {\"color\": \"#C8D4E3\"}, \"line\": {\"color\": \"white\"}}, \"type\": \"table\"}]}, \"layout\": {\"annotationdefaults\": {\"arrowcolor\": \"#2a3f5f\", \"arrowhead\": 0, \"arrowwidth\": 1}, \"autotypenumbers\": \"strict\", \"coloraxis\": {\"colorbar\": {\"outlinewidth\": 0, \"ticks\": \"\"}}, \"colorscale\": {\"diverging\": [[0, \"#8e0152\"], [0.1, \"#c51b7d\"], [0.2, \"#de77ae\"], [0.3, \"#f1b6da\"], [0.4, \"#fde0ef\"], [0.5, \"#f7f7f7\"], [0.6, \"#e6f5d0\"], [0.7, \"#b8e186\"], [0.8, \"#7fbc41\"], [0.9, \"#4d9221\"], [1, \"#276419\"]], \"sequential\": [[0.0, \"#0d0887\"], [0.1111111111111111, \"#46039f\"], [0.2222222222222222, \"#7201a8\"], [0.3333333333333333, \"#9c179e\"], [0.4444444444444444, \"#bd3786\"], [0.5555555555555556, \"#d8576b\"], [0.6666666666666666, \"#ed7953\"], [0.7777777777777778, \"#fb9f3a\"], [0.8888888888888888, \"#fdca26\"], [1.0, \"#f0f921\"]], \"sequentialminus\": [[0.0, \"#0d0887\"], [0.1111111111111111, \"#46039f\"], [0.2222222222222222, \"#7201a8\"], [0.3333333333333333, \"#9c179e\"], [0.4444444444444444, \"#bd3786\"], [0.5555555555555556, \"#d8576b\"], [0.6666666666666666, \"#ed7953\"], [0.7777777777777778, \"#fb9f3a\"], [0.8888888888888888, \"#fdca26\"], [1.0, \"#f0f921\"]]}, \"colorway\": [\"#636efa\", \"#EF553B\", \"#00cc96\", \"#ab63fa\", \"#FFA15A\", \"#19d3f3\", \"#FF6692\", \"#B6E880\", \"#FF97FF\", \"#FECB52\"], \"font\": {\"color\": \"#2a3f5f\"}, \"geo\": {\"bgcolor\": \"white\", \"lakecolor\": \"white\", \"landcolor\": \"#E5ECF6\", \"showlakes\": true, \"showland\": true, \"subunitcolor\": \"white\"}, \"hoverlabel\": {\"align\": \"left\"}, \"hovermode\": \"closest\", \"mapbox\": {\"style\": \"light\"}, \"paper_bgcolor\": \"white\", \"plot_bgcolor\": \"#E5ECF6\", \"polar\": {\"angularaxis\": {\"gridcolor\": \"white\", \"linecolor\": \"white\", \"ticks\": \"\"}, \"bgcolor\": \"#E5ECF6\", \"radialaxis\": {\"gridcolor\": \"white\", \"linecolor\": \"white\", \"ticks\": \"\"}}, \"scene\": {\"xaxis\": {\"backgroundcolor\": \"#E5ECF6\", \"gridcolor\": \"white\", \"gridwidth\": 2, \"linecolor\": \"white\", \"showbackground\": true, \"ticks\": \"\", \"zerolinecolor\": \"white\"}, \"yaxis\": {\"backgroundcolor\": \"#E5ECF6\", \"gridcolor\": \"white\", \"gridwidth\": 2, \"linecolor\": \"white\", \"showbackground\": true, \"ticks\": \"\", \"zerolinecolor\": \"white\"}, \"zaxis\": {\"backgroundcolor\": \"#E5ECF6\", \"gridcolor\": \"white\", \"gridwidth\": 2, \"linecolor\": \"white\", \"showbackground\": true, \"ticks\": \"\", \"zerolinecolor\": \"white\"}}, \"shapedefaults\": {\"line\": {\"color\": \"#2a3f5f\"}}, \"ternary\": {\"aaxis\": {\"gridcolor\": \"white\", \"linecolor\": \"white\", \"ticks\": \"\"}, \"baxis\": {\"gridcolor\": \"white\", \"linecolor\": \"white\", \"ticks\": \"\"}, \"bgcolor\": \"#E5ECF6\", \"caxis\": {\"gridcolor\": \"white\", \"linecolor\": \"white\", \"ticks\": \"\"}}, \"title\": {\"x\": 0.05}, \"xaxis\": {\"automargin\": true, \"gridcolor\": \"white\", \"linecolor\": \"white\", \"ticks\": \"\", \"title\": {\"standoff\": 15}, \"zerolinecolor\": \"white\", \"zerolinewidth\": 2}, \"yaxis\": {\"automargin\": true, \"gridcolor\": \"white\", \"linecolor\": \"white\", \"ticks\": \"\", \"title\": {\"standoff\": 15}, \"zerolinecolor\": \"white\", \"zerolinewidth\": 2}}}},                        {\"responsive\": true}                    ).then(function(){\n                            \nvar gd = document.getElementById('4b23fa03-ca9b-4fe5-a9e9-399c6b7bfda9');\nvar x = new MutationObserver(function (mutations, observer) {{\n        var display = window.getComputedStyle(gd).display;\n        if (!display || display === 'none') {{\n            console.log([gd, 'removed!']);\n            Plotly.purge(gd);\n            observer.disconnect();\n        }}\n}});\n\n// Listen for the removal of the full notebook cells\nvar notebookContainer = gd.closest('#notebook-container');\nif (notebookContainer) {{\n    x.observe(notebookContainer, {childList: true});\n}}\n\n// Listen for the clearing of the current output cell\nvar outputEl = gd.closest('.output');\nif (outputEl) {{\n    x.observe(outputEl, {childList: true});\n}}\n\n                        })                };                            </script>        </div>\n</body>\n</html>"
     },
     "metadata": {},
     "output_type": "display_data"
    }
   ]
  },
  {
   "cell_type": "code",
   "metadata": {
    "tags": [],
    "cell_id": "00031-e8a6c087-da68-4f88-8cf9-cb05b6fc8cf7",
    "deepnote_to_be_reexecuted": false,
    "source_hash": "73e079eb",
    "execution_start": 1623692363919,
    "execution_millis": 22,
    "deepnote_cell_type": "code"
   },
   "source": "# PCA\nX = np.ndarray.transpose(np.array(unzip(vectors3d)))\n\npca = decomposition.PCA(n_components=3)\nX_reduced = pca.fit_transform(X)\npca.explained_variance_ratio_",
   "execution_count": null,
   "outputs": [
    {
     "output_type": "execute_result",
     "execution_count": 33,
     "data": {
      "text/plain": "array([0.96576968, 0.02784258, 0.00638774])"
     },
     "metadata": {}
    }
   ]
  },
  {
   "cell_type": "code",
   "metadata": {
    "tags": [],
    "cell_id": "00038-13786c96-18f6-496e-bc9e-2c6f57229129",
    "deepnote_to_be_reexecuted": false,
    "source_hash": "36a80406",
    "execution_start": 1623692363938,
    "execution_millis": 87,
    "is_output_hidden": true,
    "deepnote_cell_type": "code"
   },
   "source": "plot3d(X_reduced)",
   "execution_count": null,
   "outputs": [
    {
     "data": {
      "text/html": "<html>\n<head><meta charset=\"utf-8\" /></head>\n<body>\n    <div>            <script src=\"https://cdnjs.cloudflare.com/ajax/libs/mathjax/2.7.5/MathJax.js?config=TeX-AMS-MML_SVG\"></script><script type=\"text/javascript\">if (window.MathJax) {MathJax.Hub.Config({SVG: {font: \"STIX-Web\"}});}</script>                <script type=\"text/javascript\">window.PlotlyConfig = {MathJaxConfig: 'local'};</script>\n        <script src=\"https://cdn.plot.ly/plotly-latest.min.js\"></script>                <div id=\"d9c5e68f-1eba-4c5c-a74d-62a67c4dde9e\" class=\"plotly-graph-div\" style=\"height:525px; width:100%;\"></div>            <script type=\"text/javascript\">                                    window.PLOTLYENV=window.PLOTLYENV || {};                                    if (document.getElementById(\"d9c5e68f-1eba-4c5c-a74d-62a67c4dde9e\")) {                    Plotly.newPlot(                        \"d9c5e68f-1eba-4c5c-a74d-62a67c4dde9e\",                        [{\"hovertemplate\": \"x=%{x}<br>y=%{y}<br>z=%{z}<extra></extra>\", \"legendgroup\": \"\", \"marker\": {\"color\": \"#636efa\", \"symbol\": \"circle\"}, \"mode\": \"markers\", \"name\": \"\", \"scene\": \"scene\", \"showlegend\": false, \"type\": \"scatter3d\", \"x\": [0.09313796955494442, -0.056053460064545924, 0.05437159547644524, -0.13313565131252686, 0.2399324020256543, -0.1549800324189329, -0.0016056154947706742, -0.12289204110777027, -0.18377124918642349, 0.07603672537293231, -0.09357768997610837, 0.28668852379573884, 0.37540763063264737, -0.18760014081171664, -0.15389613679770167, 0.017905089747909886, -0.020399275572087188, -0.08260549483033199, 0.13603681899142145, -0.08899996802477837], \"y\": [-0.00045891485723932823, 0.008474027597066187, 0.05089283882737987, -0.01705097668573957, -0.001765450215985633, -0.022460731179130635, 0.05741195712345929, 0.0009800717075307073, -0.03993730077713079, 0.016259161149280013, -0.004131589092444671, -0.032188543500836726, -0.03857516462167106, -0.008690671751857094, -0.006292121140055318, 0.049397891852068464, 0.00011763478614746382, -0.01633963207880779, 0.013065952331233983, -0.008708439473267162], \"z\": [-0.015405403450616351, 0.003563353951326008, 0.00464136131456995, 0.004934112820942427, -0.0010468486677542826, -0.005951304346127386, 0.01318007149433375, 0.0034025287488857778, 0.025227094669201512, -0.01793787970538184, 0.004361422207931503, -0.010593081799405591, 0.02443128648480056, -0.008301646330921968, 0.0030361136502900393, 0.014773423365395624, -0.007919478619367164, 0.000736710885296993, -0.011116064083118403, -0.024015772590280385]}],                        {\"legend\": {\"tracegroupgap\": 0}, \"margin\": {\"t\": 60}, \"scene\": {\"domain\": {\"x\": [0.0, 1.0], \"y\": [0.0, 1.0]}, \"xaxis\": {\"title\": {\"text\": \"x\"}}, \"yaxis\": {\"title\": {\"text\": \"y\"}}, \"zaxis\": {\"title\": {\"text\": \"z\"}}}, \"template\": {\"data\": {\"bar\": [{\"error_x\": {\"color\": \"#2a3f5f\"}, \"error_y\": {\"color\": \"#2a3f5f\"}, \"marker\": {\"line\": {\"color\": \"#E5ECF6\", \"width\": 0.5}}, \"type\": \"bar\"}], \"barpolar\": [{\"marker\": {\"line\": {\"color\": \"#E5ECF6\", \"width\": 0.5}}, \"type\": \"barpolar\"}], \"carpet\": [{\"aaxis\": {\"endlinecolor\": \"#2a3f5f\", \"gridcolor\": \"white\", \"linecolor\": \"white\", \"minorgridcolor\": \"white\", \"startlinecolor\": \"#2a3f5f\"}, \"baxis\": {\"endlinecolor\": \"#2a3f5f\", \"gridcolor\": \"white\", \"linecolor\": \"white\", \"minorgridcolor\": \"white\", \"startlinecolor\": \"#2a3f5f\"}, \"type\": \"carpet\"}], \"choropleth\": [{\"colorbar\": {\"outlinewidth\": 0, \"ticks\": \"\"}, \"type\": \"choropleth\"}], \"contour\": [{\"colorbar\": {\"outlinewidth\": 0, \"ticks\": \"\"}, \"colorscale\": [[0.0, \"#0d0887\"], [0.1111111111111111, \"#46039f\"], [0.2222222222222222, \"#7201a8\"], [0.3333333333333333, \"#9c179e\"], [0.4444444444444444, \"#bd3786\"], [0.5555555555555556, \"#d8576b\"], [0.6666666666666666, \"#ed7953\"], [0.7777777777777778, \"#fb9f3a\"], [0.8888888888888888, \"#fdca26\"], [1.0, \"#f0f921\"]], \"type\": \"contour\"}], \"contourcarpet\": [{\"colorbar\": {\"outlinewidth\": 0, \"ticks\": \"\"}, \"type\": \"contourcarpet\"}], \"heatmap\": [{\"colorbar\": {\"outlinewidth\": 0, \"ticks\": \"\"}, \"colorscale\": [[0.0, \"#0d0887\"], [0.1111111111111111, \"#46039f\"], [0.2222222222222222, \"#7201a8\"], [0.3333333333333333, \"#9c179e\"], [0.4444444444444444, \"#bd3786\"], [0.5555555555555556, \"#d8576b\"], [0.6666666666666666, \"#ed7953\"], [0.7777777777777778, \"#fb9f3a\"], [0.8888888888888888, \"#fdca26\"], [1.0, \"#f0f921\"]], \"type\": \"heatmap\"}], \"heatmapgl\": [{\"colorbar\": {\"outlinewidth\": 0, \"ticks\": \"\"}, \"colorscale\": [[0.0, \"#0d0887\"], [0.1111111111111111, \"#46039f\"], [0.2222222222222222, \"#7201a8\"], [0.3333333333333333, \"#9c179e\"], [0.4444444444444444, \"#bd3786\"], [0.5555555555555556, \"#d8576b\"], [0.6666666666666666, \"#ed7953\"], [0.7777777777777778, \"#fb9f3a\"], [0.8888888888888888, \"#fdca26\"], [1.0, \"#f0f921\"]], \"type\": \"heatmapgl\"}], \"histogram\": [{\"marker\": {\"colorbar\": {\"outlinewidth\": 0, \"ticks\": \"\"}}, \"type\": \"histogram\"}], \"histogram2d\": [{\"colorbar\": {\"outlinewidth\": 0, \"ticks\": \"\"}, \"colorscale\": [[0.0, \"#0d0887\"], [0.1111111111111111, \"#46039f\"], [0.2222222222222222, \"#7201a8\"], [0.3333333333333333, \"#9c179e\"], [0.4444444444444444, \"#bd3786\"], [0.5555555555555556, \"#d8576b\"], [0.6666666666666666, \"#ed7953\"], [0.7777777777777778, \"#fb9f3a\"], [0.8888888888888888, \"#fdca26\"], [1.0, \"#f0f921\"]], \"type\": \"histogram2d\"}], \"histogram2dcontour\": [{\"colorbar\": {\"outlinewidth\": 0, \"ticks\": \"\"}, \"colorscale\": [[0.0, \"#0d0887\"], [0.1111111111111111, \"#46039f\"], [0.2222222222222222, \"#7201a8\"], [0.3333333333333333, \"#9c179e\"], [0.4444444444444444, \"#bd3786\"], [0.5555555555555556, \"#d8576b\"], [0.6666666666666666, \"#ed7953\"], [0.7777777777777778, \"#fb9f3a\"], [0.8888888888888888, \"#fdca26\"], [1.0, \"#f0f921\"]], \"type\": \"histogram2dcontour\"}], \"mesh3d\": [{\"colorbar\": {\"outlinewidth\": 0, \"ticks\": \"\"}, \"type\": \"mesh3d\"}], \"parcoords\": [{\"line\": {\"colorbar\": {\"outlinewidth\": 0, \"ticks\": \"\"}}, \"type\": \"parcoords\"}], \"pie\": [{\"automargin\": true, \"type\": \"pie\"}], \"scatter\": [{\"marker\": {\"colorbar\": {\"outlinewidth\": 0, \"ticks\": \"\"}}, \"type\": \"scatter\"}], \"scatter3d\": [{\"line\": {\"colorbar\": {\"outlinewidth\": 0, \"ticks\": \"\"}}, \"marker\": {\"colorbar\": {\"outlinewidth\": 0, \"ticks\": \"\"}}, \"type\": \"scatter3d\"}], \"scattercarpet\": [{\"marker\": {\"colorbar\": {\"outlinewidth\": 0, \"ticks\": \"\"}}, \"type\": \"scattercarpet\"}], \"scattergeo\": [{\"marker\": {\"colorbar\": {\"outlinewidth\": 0, \"ticks\": \"\"}}, \"type\": \"scattergeo\"}], \"scattergl\": [{\"marker\": {\"colorbar\": {\"outlinewidth\": 0, \"ticks\": \"\"}}, \"type\": \"scattergl\"}], \"scattermapbox\": [{\"marker\": {\"colorbar\": {\"outlinewidth\": 0, \"ticks\": \"\"}}, \"type\": \"scattermapbox\"}], \"scatterpolar\": [{\"marker\": {\"colorbar\": {\"outlinewidth\": 0, \"ticks\": \"\"}}, \"type\": \"scatterpolar\"}], \"scatterpolargl\": [{\"marker\": {\"colorbar\": {\"outlinewidth\": 0, \"ticks\": \"\"}}, \"type\": \"scatterpolargl\"}], \"scatterternary\": [{\"marker\": {\"colorbar\": {\"outlinewidth\": 0, \"ticks\": \"\"}}, \"type\": \"scatterternary\"}], \"surface\": [{\"colorbar\": {\"outlinewidth\": 0, \"ticks\": \"\"}, \"colorscale\": [[0.0, \"#0d0887\"], [0.1111111111111111, \"#46039f\"], [0.2222222222222222, \"#7201a8\"], [0.3333333333333333, \"#9c179e\"], [0.4444444444444444, \"#bd3786\"], [0.5555555555555556, \"#d8576b\"], [0.6666666666666666, \"#ed7953\"], [0.7777777777777778, \"#fb9f3a\"], [0.8888888888888888, \"#fdca26\"], [1.0, \"#f0f921\"]], \"type\": \"surface\"}], \"table\": [{\"cells\": {\"fill\": {\"color\": \"#EBF0F8\"}, \"line\": {\"color\": \"white\"}}, \"header\": {\"fill\": {\"color\": \"#C8D4E3\"}, \"line\": {\"color\": \"white\"}}, \"type\": \"table\"}]}, \"layout\": {\"annotationdefaults\": {\"arrowcolor\": \"#2a3f5f\", \"arrowhead\": 0, \"arrowwidth\": 1}, \"autotypenumbers\": \"strict\", \"coloraxis\": {\"colorbar\": {\"outlinewidth\": 0, \"ticks\": \"\"}}, \"colorscale\": {\"diverging\": [[0, \"#8e0152\"], [0.1, \"#c51b7d\"], [0.2, \"#de77ae\"], [0.3, \"#f1b6da\"], [0.4, \"#fde0ef\"], [0.5, \"#f7f7f7\"], [0.6, \"#e6f5d0\"], [0.7, \"#b8e186\"], [0.8, \"#7fbc41\"], [0.9, \"#4d9221\"], [1, \"#276419\"]], \"sequential\": [[0.0, \"#0d0887\"], [0.1111111111111111, \"#46039f\"], [0.2222222222222222, \"#7201a8\"], [0.3333333333333333, \"#9c179e\"], [0.4444444444444444, \"#bd3786\"], [0.5555555555555556, \"#d8576b\"], [0.6666666666666666, \"#ed7953\"], [0.7777777777777778, \"#fb9f3a\"], [0.8888888888888888, \"#fdca26\"], [1.0, \"#f0f921\"]], \"sequentialminus\": [[0.0, \"#0d0887\"], [0.1111111111111111, \"#46039f\"], [0.2222222222222222, \"#7201a8\"], [0.3333333333333333, \"#9c179e\"], [0.4444444444444444, \"#bd3786\"], [0.5555555555555556, \"#d8576b\"], [0.6666666666666666, \"#ed7953\"], [0.7777777777777778, \"#fb9f3a\"], [0.8888888888888888, \"#fdca26\"], [1.0, \"#f0f921\"]]}, \"colorway\": [\"#636efa\", \"#EF553B\", \"#00cc96\", \"#ab63fa\", \"#FFA15A\", \"#19d3f3\", \"#FF6692\", \"#B6E880\", \"#FF97FF\", \"#FECB52\"], \"font\": {\"color\": \"#2a3f5f\"}, \"geo\": {\"bgcolor\": \"white\", \"lakecolor\": \"white\", \"landcolor\": \"#E5ECF6\", \"showlakes\": true, \"showland\": true, \"subunitcolor\": \"white\"}, \"hoverlabel\": {\"align\": \"left\"}, \"hovermode\": \"closest\", \"mapbox\": {\"style\": \"light\"}, \"paper_bgcolor\": \"white\", \"plot_bgcolor\": \"#E5ECF6\", \"polar\": {\"angularaxis\": {\"gridcolor\": \"white\", \"linecolor\": \"white\", \"ticks\": \"\"}, \"bgcolor\": \"#E5ECF6\", \"radialaxis\": {\"gridcolor\": \"white\", \"linecolor\": \"white\", \"ticks\": \"\"}}, \"scene\": {\"xaxis\": {\"backgroundcolor\": \"#E5ECF6\", \"gridcolor\": \"white\", \"gridwidth\": 2, \"linecolor\": \"white\", \"showbackground\": true, \"ticks\": \"\", \"zerolinecolor\": \"white\"}, \"yaxis\": {\"backgroundcolor\": \"#E5ECF6\", \"gridcolor\": \"white\", \"gridwidth\": 2, \"linecolor\": \"white\", \"showbackground\": true, \"ticks\": \"\", \"zerolinecolor\": \"white\"}, \"zaxis\": {\"backgroundcolor\": \"#E5ECF6\", \"gridcolor\": \"white\", \"gridwidth\": 2, \"linecolor\": \"white\", \"showbackground\": true, \"ticks\": \"\", \"zerolinecolor\": \"white\"}}, \"shapedefaults\": {\"line\": {\"color\": \"#2a3f5f\"}}, \"ternary\": {\"aaxis\": {\"gridcolor\": \"white\", \"linecolor\": \"white\", \"ticks\": \"\"}, \"baxis\": {\"gridcolor\": \"white\", \"linecolor\": \"white\", \"ticks\": \"\"}, \"bgcolor\": \"#E5ECF6\", \"caxis\": {\"gridcolor\": \"white\", \"linecolor\": \"white\", \"ticks\": \"\"}}, \"title\": {\"x\": 0.05}, \"xaxis\": {\"automargin\": true, \"gridcolor\": \"white\", \"linecolor\": \"white\", \"ticks\": \"\", \"title\": {\"standoff\": 15}, \"zerolinecolor\": \"white\", \"zerolinewidth\": 2}, \"yaxis\": {\"automargin\": true, \"gridcolor\": \"white\", \"linecolor\": \"white\", \"ticks\": \"\", \"title\": {\"standoff\": 15}, \"zerolinecolor\": \"white\", \"zerolinewidth\": 2}}}},                        {\"responsive\": true}                    ).then(function(){\n                            \nvar gd = document.getElementById('d9c5e68f-1eba-4c5c-a74d-62a67c4dde9e');\nvar x = new MutationObserver(function (mutations, observer) {{\n        var display = window.getComputedStyle(gd).display;\n        if (!display || display === 'none') {{\n            console.log([gd, 'removed!']);\n            Plotly.purge(gd);\n            observer.disconnect();\n        }}\n}});\n\n// Listen for the removal of the full notebook cells\nvar notebookContainer = gd.closest('#notebook-container');\nif (notebookContainer) {{\n    x.observe(notebookContainer, {childList: true});\n}}\n\n// Listen for the clearing of the current output cell\nvar outputEl = gd.closest('.output');\nif (outputEl) {{\n    x.observe(outputEl, {childList: true});\n}}\n\n                        })                };                            </script>        </div>\n</body>\n</html>"
     },
     "metadata": {},
     "output_type": "display_data"
    }
   ]
  },
  {
   "cell_type": "code",
   "metadata": {
    "tags": [],
    "cell_id": "00033-56c53ef8-cc89-4080-949a-dd7884961ec9",
    "deepnote_to_be_reexecuted": false,
    "source_hash": "b623e53d",
    "execution_start": 1623692364023,
    "execution_millis": 19,
    "deepnote_cell_type": "code"
   },
   "source": "",
   "execution_count": null,
   "outputs": []
  },
  {
   "cell_type": "markdown",
   "source": "<a style='text-decoration:none;line-height:16px;display:flex;color:#5B5B62;padding:10px;justify-content:end;' href='https://deepnote.com?utm_source=created-in-deepnote-cell&projectId=3c882279-82a6-4796-9acf-70d58cb2aa76' target=\"_blank\">\n<img alt='Created in deepnote.com' style='display:inline;max-height:16px;margin:0px;margin-right:7.5px;' src='data:image/svg+xml;base64,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' > </img>\nCreated in <span style='font-weight:600;margin-left:4px;'>Deepnote</span></a>",
   "metadata": {
    "tags": [],
    "created_in_deepnote_cell": true,
    "deepnote_cell_type": "markdown"
   }
  }
 ],
 "nbformat": 4,
 "nbformat_minor": 2,
 "metadata": {
  "orig_nbformat": 2,
  "deepnote": {
   "is_reactive": false
  },
  "deepnote_notebook_id": "9c699253-703c-4f9e-9bf7-16a4573b07c7",
  "deepnote_execution_queue": []
 }
}