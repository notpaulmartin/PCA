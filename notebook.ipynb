{
 "cells": [
  {
   "cell_type": "markdown",
   "source": "# Intuitive PCApproximation\n\nThis is an exploration into Principal Component Analysis (PCA) with the aim to explain to myself (and potentially others) in an intuitive way how PCA works.\n\nI managed to create an algorithm that, while not as efficient as typical implementations of PCA (e.g. [sklearn](https://scikit-learn.org/stable/modules/generated/sklearn.decomposition.PCA.html)), still runs reasonably quickly and, most importantly, is rather easy to understand – at least so I think.\n\n\n**What is PCA?**  \nPCA is a form of dimensionality reduction very commonly used in Data Science and Machine Learning. Most datasets contain a very large amount of variables, which makes it difficult to identify trends. PCA helps with this, as it reduces the number of variables while retaining as much variance (information) as possible. Visually, PCA works by plotting the points and then finding n orthogonal lines that maximise the variance, as seen in the image below. The spread of the points along these lines represent the n new variables.  \n\n_Example:_  \nTo reduce a dataset from two variables to one, we first plot the points on a 2D plane and then find a single line that maximises their variance.  \n![](assets/pca-illustration.jpg)  \n_(Taken from https://dinhanhthi.com/principal-component-analysis/)_\n\n\n**My approximation**  \nSince the axes in euclidean geometry are already, by definition, orthogonal to one another, we can simply rotate them to maximise the variance along them. In 3D, we would first rotate the X-axis in any direction to maximise variance along it and then rotate the Y-axis while keeping the X-axis fixed and the Y-axis perpendicular to it. Once the variance has been maximised along both axes, the new variables are the X and Y-axes. This can be scaled up to any number of input and output variables.\n\nSince rotating the axes is not really feasible, my algorithm rotates the points instead, but the idea remains the same.",
   "metadata": {
    "tags": [],
    "cell_id": "00000-c389d606-013b-4df5-bda1-7aeb906217c8",
    "deepnote_cell_type": "markdown"
   }
  },
  {
   "cell_type": "code",
   "metadata": {
    "tags": [],
    "cell_id": "00000-d7302252-6a93-4f4d-9841-b091e813f0e0",
    "deepnote_to_be_reexecuted": false,
    "source_hash": "5acfc48c",
    "execution_start": 1624374925853,
    "execution_millis": 1165,
    "deepnote_cell_type": "code"
   },
   "source": "import numpy as np\nimport pandas as pd\n\nimport seaborn as sns\nfrom matplotlib import pyplot as plt\n\nimport plotly.express as px\n\nfrom sklearn import decomponsition\nfrom sklearn import preprocessing\n\nimport statistics as stats\n\nimport mgen  # Generating rotation matrices",
   "execution_count": 1,
   "outputs": []
  },
  {
   "cell_type": "code",
   "source": "np.set_printoptions(suppress=True)  # Don't use scientific notation when printing numpy arrays",
   "metadata": {
    "tags": [],
    "cell_id": "00002-a5157969-7a3a-4541-9497-419fb6db2caf",
    "deepnote_to_be_reexecuted": false,
    "source_hash": "8ba29f19",
    "execution_start": 1624374927027,
    "execution_millis": 1,
    "deepnote_cell_type": "code"
   },
   "outputs": [],
   "execution_count": 2
  },
  {
   "cell_type": "markdown",
   "source": "# Data creation",
   "metadata": {
    "tags": [],
    "cell_id": "00003-2193e522-7cbf-4c16-ab03-a5c8e52077a9",
    "deepnote_cell_type": "text-cell-h1"
   }
  },
  {
   "cell_type": "code",
   "metadata": {
    "tags": [],
    "cell_id": "00002-f1450ded-9c57-43f6-b5d5-b67c7ddab913",
    "deepnote_to_be_reexecuted": false,
    "source_hash": "b7f9b487",
    "execution_start": 1624374927031,
    "execution_millis": 4,
    "deepnote_cell_type": "code"
   },
   "source": "# Function to normalize data\nnormalize = lambda arr: preprocessing.normalize([arr])[0]",
   "execution_count": 3,
   "outputs": []
  },
  {
   "cell_type": "code",
   "metadata": {
    "tags": [],
    "cell_id": "00001-387b3510-afa1-4d25-aa45-a383fa4c88b6",
    "deepnote_to_be_reexecuted": false,
    "source_hash": "e902fea2",
    "execution_start": 1624374927043,
    "execution_millis": 3,
    "deepnote_cell_type": "code"
   },
   "source": "def gen3dData(m, c, size=20, noiseFactor=0.3):\n    return genNdData(n=3, size=size, noiseFactor=noiseFactor)\n    # y=mx+c\n    xs = np.random.uniform(size=size)\n    ys = [m * x**2 + c + np.random.normal() * noiseFactor for x in xs]\n    zs = [m * x**2 + c + np.random.normal() * noiseFactor for x in xs]\n    return xs, ys, zs\n\n# Generates n-dimensional data (n input variables)\ndef genNdData(n=3, size=20, noiseFactor=0.3):\n    variables = np.zeros((n, size))\n    variables[0] = xs = np.random.uniform(size=size)\n\n    for dim in range(1, n):\n        variables[dim] = [x**(dim+1) + np.random.normal() * noiseFactor for x in xs]\n\n    variables = [normalize(xs) for xs in variables]\n\n    return variables",
   "execution_count": 4,
   "outputs": []
  },
  {
   "cell_type": "code",
   "metadata": {
    "tags": [],
    "cell_id": "00012-8ccf8805-e163-4973-8b91-4924b3a0a4c4",
    "deepnote_to_be_reexecuted": false,
    "source_hash": "17a7a674",
    "execution_start": 1624374927050,
    "execution_millis": 4,
    "deepnote_cell_type": "code"
   },
   "source": "def unzip(xs):\n    return list( zip(*xs) )\n\n# Same as transposing a matrix\ntranspose = lambda xs: unzip(xs)",
   "execution_count": 5,
   "outputs": []
  },
  {
   "cell_type": "code",
   "metadata": {
    "tags": [],
    "cell_id": "00003-c5cfa730-6c46-4383-983d-dc1e4aa95417",
    "deepnote_to_be_reexecuted": false,
    "source_hash": "ecdaffea",
    "execution_start": 1624374927112,
    "execution_millis": 139,
    "deepnote_cell_type": "code"
   },
   "source": "xs, ys = genNdData(n=2, size=20, noiseFactor=0.01)\nvectors2d = transpose([xs, ys])\n\nsns.scatterplot(x=xs, y=ys)\n\n\"Variance: \", stats.variance(xs)",
   "execution_count": 6,
   "outputs": [
    {
     "output_type": "execute_result",
     "execution_count": 6,
     "data": {
      "text/plain": "('Variance: ', 0.008650515309871048)"
     },
     "metadata": {}
    },
    {
     "data": {
      "text/plain": "<Figure size 432x288 with 1 Axes>",
      "image/png": "[encoded data removed]"
     },
     "metadata": {
      "needs_background": "light",
      "image/png": {
       "width": 378,
       "height": 248
      }
     },
     "output_type": "display_data"
    }
   ]
  },
  {
   "cell_type": "markdown",
   "source": "# PCA (sklearn)",
   "metadata": {
    "tags": [],
    "cell_id": "00006-9b76113f-0ce5-4359-a79d-43204386dbe2",
    "deepnote_cell_type": "text-cell-h1"
   }
  },
  {
   "cell_type": "code",
   "metadata": {
    "tags": [],
    "cell_id": "00009-b7ae94ab-0f62-44d4-a386-33feac7fdb2a",
    "deepnote_to_be_reexecuted": false,
    "source_hash": "d30caef6",
    "execution_start": 1624374927239,
    "execution_millis": 32,
    "deepnote_cell_type": "code"
   },
   "source": "# PCA\npca = decomposition.PCA(n_components=1)\nX_reduced = pca.fit_transform(vectors2d)\npca.explained_variance_ratio_\npca.components_",
   "execution_count": 7,
   "outputs": [
    {
     "output_type": "execute_result",
     "execution_count": 7,
     "data": {
      "text/plain": "array([[-0.57955567, -0.81493265]])"
     },
     "metadata": {}
    }
   ]
  },
  {
   "cell_type": "code",
   "metadata": {
    "tags": [],
    "cell_id": "00010-c27f5941-a8fe-4a04-8168-a75d492457c8",
    "deepnote_to_be_reexecuted": false,
    "source_hash": "3eaed2d",
    "execution_start": 1624374927245,
    "execution_millis": 89,
    "deepnote_cell_type": "code"
   },
   "source": "# Plot PCA\nxs_reduced = np.transpose(X_reduced)[0]\nsns.stripplot(x=xs_reduced, jitter=0.03)",
   "execution_count": 8,
   "outputs": [
    {
     "output_type": "execute_result",
     "execution_count": 8,
     "data": {
      "text/plain": "<AxesSubplot:>"
     },
     "metadata": {}
    },
    {
     "data": {
      "text/plain": "<Figure size 432x288 with 1 Axes>",
      "image/png": "[encoded data removed]"
     },
     "metadata": {
      "needs_background": "light",
      "image/png": {
       "width": 352,
       "height": 248
      }
     },
     "output_type": "display_data"
    }
   ]
  },
  {
   "cell_type": "markdown",
   "source": "# My approximation",
   "metadata": {
    "tags": [],
    "cell_id": "00009-ed69d45e-3cb9-4426-b006-8e109f05193c",
    "deepnote_cell_type": "text-cell-h1"
   }
  },
  {
   "cell_type": "markdown",
   "source": "**Rotations**  \nIn 3D we can generally say that we rotate around an axis or vector. This, however, is particular about the three dimensions that we live in and cannot be transferred to other dimensions: In 2D we can't rotate around an axis and neither can we in higher dimensions.\n\nWhen we say that we rotate _around_ an axis, what we are really saying is that we are keeping the points constant (invariant) along the axis. The element (pivot) that we are keeping invariant depends on the dimension we are rotating in: In 2D we are only keeping the pivot **point** constant; In 3D it is a pivot **line**; In 4D it would be a pivot **rectangle**, etc.\n\n| Dimensions ||||||| Invariant Pivot |\n| ------------- | ------------------ |\n| 2D         ||||||| 0D Point |\n| 3D         ||||||| 1D Line |\n| 4D         ||||||| 2D Rectangle |\n| 5D         ||||||| 3D Cuboid |\n| 6D         ||||||| 4D Tessaract |\n| ...        ||||||| ... |\n  \nNo matter how many dimensions we are operating in, we are always rotating on a 2D plane. Such a plane is typically described by two orthogonal vectors.\n\n**Example:**  \nIn the following code block the vector \\[1 0 0] is rotated 90° around the Z-axis, which corresponds to a rotation by 90° on the plane spanning the X and Y-axes (XY-plane).",
   "metadata": {
    "tags": [],
    "cell_id": "00011-2c77765d-8ae3-4b5e-98d4-842fd748d5b3",
    "deepnote_cell_type": "markdown"
   }
  },
  {
   "cell_type": "code",
   "metadata": {
    "tags": [],
    "cell_id": "00012-64fd3274-d875-42cf-b364-e8c53b7df6bd",
    "deepnote_to_be_reexecuted": false,
    "source_hash": "df52cc1b",
    "execution_start": 1624374927331,
    "execution_millis": 12,
    "deepnote_cell_type": "code"
   },
   "source": "vectorToRotate = [1, 0, 0]\n\nrotation_degrees = 90\nrotation_radians = np.radians(rotation_degrees)\n\nplane_v1 = np.array([1, 0, 0])\nplane_v2 = np.array([0, 1, 0])\n\n# Create two rotation matrices to compare\nM1 = mgen.rotation_around_axis([0, 0, 1], rotation_radians)\nM2 = mgen.rotation_from_angle_and_plane(rotation_radians, plane_v1, plane_v2)\n\n# e-16 is a floating point error and can be considered 0\nprint(M1.dot(vectorToRotate))\nprint(M2.dot(vectorToRotate))",
   "execution_count": 9,
   "outputs": [
    {
     "name": "stdout",
     "text": "[0. 1. 0.]\n[0. 1. 0.]\n",
     "output_type": "stream"
    }
   ]
  },
  {
   "cell_type": "markdown",
   "source": "## PCA approximation in 2D",
   "metadata": {
    "tags": [],
    "cell_id": "00012-df32d0aa-29b6-44d8-838e-133b98cfd912",
    "deepnote_cell_type": "text-cell-h2"
   }
  },
  {
   "cell_type": "markdown",
   "source": "To find the optimal rotation we rotate the points in small steps. On each step, we rotate by 1° clockwise and by 1° anti-clockwise and choose the direction that increases the variance along the X-axis. If the variance cannot be increased, we're done.",
   "metadata": {
    "tags": [],
    "cell_id": "00014-8665b1ed-c5fc-4f22-adfd-accf5bdc76b0",
    "deepnote_cell_type": "markdown"
   }
  },
  {
   "cell_type": "code",
   "metadata": {
    "tags": [],
    "cell_id": "00012-6ac51093-3278-4b4e-8216-d94e4667631e",
    "deepnote_to_be_reexecuted": false,
    "source_hash": "110d946f",
    "execution_start": 1624374927379,
    "execution_millis": 1,
    "deepnote_cell_type": "code"
   },
   "source": "# Rotate a single vector in 2D\n# (In 2D there is only one plane to rotate on)\ndef rotate(vec, angle_deg):\n    angle_rad = np.radians(angle_deg)\n    M = mgen.rotation_from_angle(angle_rad)\n    return M.dot(vec)\n\n# Rotate a list of vectors in 2D\ndef rotateAll(vectors, angle_deg):\n    angle_rad = np.radians(angle_deg)\n    M = mgen.rotation_from_angle(angle_rad)\n    return [M.dot(v) for v in vectors]",
   "execution_count": 10,
   "outputs": []
  },
  {
   "cell_type": "code",
   "metadata": {
    "tags": [],
    "cell_id": "00014-88085f75-c562-4e8b-a4ed-d43ff33032df",
    "deepnote_to_be_reexecuted": false,
    "source_hash": "57669cfa",
    "execution_start": 1624374927380,
    "execution_millis": 1,
    "deepnote_cell_type": "code"
   },
   "source": "def xsOf(vectors):\n    return list( list(unzip(vectors))[0] )\n\ndef ysOf(vectors):\n    return list( list(unzip(vectors))[1] )",
   "execution_count": 11,
   "outputs": []
  },
  {
   "cell_type": "code",
   "metadata": {
    "tags": [],
    "cell_id": "00015-00a0ca60-2bbd-45bc-8041-6ef4c7e7f1d6",
    "deepnote_to_be_reexecuted": false,
    "source_hash": "1bcdd2f0",
    "execution_start": 1624374927381,
    "execution_millis": 0,
    "deepnote_cell_type": "code"
   },
   "source": "def plot1d(xs):\n    sns.stripplot(x=xs, jitter=0.03)\n\ndef plot2d(vectors):\n    xs, ys = unzip(vectors)\n    return sns.scatterplot(xs, ys)",
   "execution_count": 12,
   "outputs": []
  },
  {
   "cell_type": "code",
   "metadata": {
    "tags": [],
    "cell_id": "00019-3df96360-c828-415d-abb9-48492fce9f9c",
    "deepnote_to_be_reexecuted": false,
    "source_hash": "46a50f95",
    "execution_start": 1624374927382,
    "execution_millis": 117,
    "deepnote_cell_type": "code"
   },
   "source": "angle = 0\nangle_change = 1\n\nvar = -1\nvar_new = 0\n\nvectors = np.copy(vectors2d)\n\nwhile var < var_new:\n    var = var_new\n\n    vectors_left = rotateAll(vectors, -angle_change)\n    vectors_right = rotateAll(vectors, angle_change)\n\n    var_left = stats.variance(xsOf(vectors_left))\n    var_right = stats.variance(xsOf(vectors_right))\n\n    if var_left < var_right:\n        var_new = var_right\n        angle += angle_change\n        vectors = vectors_right\n\n    elif var_right < var_left:\n        var_new = var_left\n        angle -= angle_change\n        vectors = vectors_left\n\n    else:\n        break\n\nprint(f'Optimal rotation: {angle}° clockwise')\nprint(f'Variance along X-axis (1st PC): {var_new}')",
   "execution_count": 13,
   "outputs": [
    {
     "name": "stdout",
     "text": "Optimal rotation: -54° clockwise\nVariance along X-axis (1st PC): 0.02544352613903337\n",
     "output_type": "stream"
    }
   ]
  },
  {
   "cell_type": "markdown",
   "source": "#### Results\nAnd now let's look at how the approximation compares to standard PCA implementations:",
   "metadata": {
    "tags": [],
    "cell_id": "00019-0797df36-ab70-440d-9560-ef65bf20dad7",
    "deepnote_cell_type": "markdown"
   }
  },
  {
   "cell_type": "code",
   "metadata": {
    "tags": [],
    "cell_id": "00019-1c4135b2-481e-4082-963e-2ec1564f1673",
    "deepnote_to_be_reexecuted": false,
    "source_hash": "ba6a609f",
    "execution_start": 1624374927468,
    "execution_millis": 31,
    "deepnote_cell_type": "code"
   },
   "source": "# Variance explained\nxs, ys = unzip(vectors2d)\nvar_explained = var_new/(stats.variance(xs) + stats.variance(ys))\n\nprint( \"Variance explained by approximation:\", var_explained)\nprint( \"Variance explained by PCA:\", pca.explained_variance_ratio_)\n\nprint(\"Error: \", (var_explained - pca.explained_variance_ratio_)/ pca.explained_variance_ratio_)",
   "execution_count": 14,
   "outputs": [
    {
     "name": "stdout",
     "text": "Variance explained by approximation: 0.9938083377771011\nVariance explained by PCA: [0.99390981]\nError:  [-0.00010209]\n",
     "output_type": "stream"
    }
   ]
  },
  {
   "cell_type": "markdown",
   "source": "Comparing the variance explained by the 1st Principal Component found by standard PCA and by the approximation, the error is roughly 0.0001% depending on the data. Not bad!\n\nTo extract the 1st Principal Component we can simply take the x-values (2nd PC is y-values) of the resulting vectors:",
   "metadata": {
    "tags": [],
    "cell_id": "00019-f7ab7175-0a94-457c-9041-db39e6f1bdcd",
    "deepnote_cell_type": "markdown"
   }
  },
  {
   "cell_type": "code",
   "metadata": {
    "tags": [],
    "cell_id": "00020-544d3e3c-9c22-4af2-8ae2-905e75519d95",
    "deepnote_to_be_reexecuted": false,
    "source_hash": "ca2c6221",
    "execution_start": 1624374927487,
    "execution_millis": 115,
    "deepnote_cell_type": "code"
   },
   "source": "plot1d(xsOf(vectors))",
   "execution_count": 15,
   "outputs": [
    {
     "data": {
      "text/plain": "<Figure size 432x288 with 1 Axes>",
      "image/png": "[encoded data removed]"
     },
     "metadata": {
      "needs_background": "light",
      "image/png": {
       "width": 353,
       "height": 248
      }
     },
     "output_type": "display_data"
    }
   ]
  },
  {
   "cell_type": "markdown",
   "source": "## PCA approximation in 3D and higher",
   "metadata": {
    "tags": [],
    "cell_id": "00019-77b2ac53-4f3a-4fd5-8c06-9395cf9b74ab",
    "deepnote_cell_type": "text-cell-h2"
   }
  },
  {
   "cell_type": "markdown",
   "source": "### Generating and visualising some sample data",
   "metadata": {
    "tags": [],
    "cell_id": "00022-57a0e0c3-fa58-4973-ad9b-ece511722d5b",
    "deepnote_cell_type": "markdown"
   }
  },
  {
   "cell_type": "code",
   "metadata": {
    "tags": [],
    "cell_id": "00020-a823b6ad-a47d-41cc-990f-339df9ae66c7",
    "deepnote_to_be_reexecuted": false,
    "source_hash": "581467c9",
    "execution_start": 1624374927596,
    "execution_millis": 1,
    "deepnote_cell_type": "code"
   },
   "source": "def plot3d(vectors):\n    xs, ys, zs = unzip(vectors)\n    fig = px.scatter_3d(x=xs, y=ys, z=zs)\n    fig.show()",
   "execution_count": 16,
   "outputs": []
  },
  {
   "cell_type": "code",
   "metadata": {
    "tags": [],
    "cell_id": "00022-53b29620-b6d8-4dcd-a18c-48c756cabbe4",
    "deepnote_to_be_reexecuted": false,
    "source_hash": "922892dc",
    "execution_start": 1624374927642,
    "execution_millis": 0,
    "deepnote_cell_type": "code"
   },
   "source": "# Generate data\nxs, ys, zs = genNdData(n=3, noiseFactor=0.02)\nvectors3d = transpose([xs, ys, zs])",
   "execution_count": 17,
   "outputs": []
  },
  {
   "cell_type": "code",
   "metadata": {
    "tags": [],
    "cell_id": "00023-7e3d3160-1a08-4752-bdd4-6f6d83a0c99c",
    "deepnote_to_be_reexecuted": false,
    "source_hash": "92e100fd",
    "execution_start": 1624374927643,
    "execution_millis": 1520,
    "deepnote_cell_type": "code"
   },
   "source": "df = pd.DataFrame(vectors3d)\nsns.pairplot(df)",
   "execution_count": 18,
   "outputs": [
    {
     "output_type": "execute_result",
     "execution_count": 18,
     "data": {
      "text/plain": "<seaborn.axisgrid.PairGrid at 0x7fd046267710>"
     },
     "metadata": {}
    },
    {
     "data": {
      "text/plain": "<Figure size 540x540 with 12 Axes>",
      "image/png": "[encoded data removed]"
     },
     "metadata": {
      "needs_background": "light",
      "image/png": {
       "width": 533,
       "height": 533
      }
     },
     "output_type": "display_data"
    }
   ]
  },
  {
   "cell_type": "code",
   "metadata": {
    "tags": [],
    "cell_id": "00022-1c151dc0-568c-4391-aaf4-6b1137a6b6e6",
    "deepnote_to_be_reexecuted": false,
    "source_hash": "c2071901",
    "execution_start": 1624374929166,
    "execution_millis": 476,
    "is_output_hidden": true,
    "deepnote_cell_type": "code"
   },
   "source": "plot3d(vectors3d)",
   "execution_count": 19,
   "outputs": [
    {
     "data": {
      "text/html": "<html>\n<head><meta charset=\"utf-8\" /></head>\n<body>\n    <div>            <script src=\"https://cdnjs.cloudflare.com/ajax/libs/mathjax/2.7.5/MathJax.js?config=TeX-AMS-MML_SVG\"></script><script type=\"text/javascript\">if (window.MathJax) {MathJax.Hub.Config({SVG: {font: \"STIX-Web\"}});}</script>                <script type=\"text/javascript\">window.PlotlyConfig = {MathJaxConfig: 'local'};</script>\n        <script src=\"https://cdn.plot.ly/plotly-latest.min.js\"></script>                <div id=\"3381c407-a8b3-4039-9052-ee4a416db210\" class=\"plotly-graph-div\" style=\"height:525px; width:100%;\"></div>            <script type=\"text/javascript\">                                    window.PLOTLYENV=window.PLOTLYENV || {};                                    if (document.getElementById(\"3381c407-a8b3-4039-9052-ee4a416db210\")) {                    Plotly.newPlot(                        \"3381c407-a8b3-4039-9052-ee4a416db210\",                        [{\"hovertemplate\": \"x=%{x}<br>y=%{y}<br>z=%{z}<extra></extra>\", \"legendgroup\": \"\", \"marker\": {\"color\": \"#636efa\", \"symbol\": \"circle\"}, \"mode\": \"markers\", \"name\": \"\", \"scene\": \"scene\", \"showlegend\": false, \"type\": \"scatter3d\", \"x\": [0.3170538275577871, 0.03599742589533022, 0.18310228022607872, 0.20686266943650333, 0.10920391715559873, 0.14974620996805285, 0.07418190649014772, 0.27338553686259304, 0.2908777722020196, 0.28072814583424616, 0.27061478613369927, 0.2843347405421928, 0.21797279584976958, 0.1885206125507925, 0.18863967683016636, 0.059433730547625255, 0.3270986893818226, 0.23192036092151364, 0.26082342206532544, 0.19696374900382824], \"y\": [0.3796213339767134, -0.01311979424981107, 0.13072015719271501, 0.169502527707228, 0.0332014762274169, 0.07981850296344743, 0.019707770211096112, 0.2966042975103325, 0.3121339930711105, 0.2978870580911336, 0.27487784767644463, 0.2895816849720594, 0.18222274108223319, 0.125757289694055, 0.13010347178219134, 0.023950427862069516, 0.421711295577326, 0.19795693156571156, 0.2474699289368103, 0.15392143800906777], \"z\": [0.4327818751491886, -0.008909777374420096, 0.07179561976995547, 0.1419536972176876, 0.03197769921979442, 0.06577899768921336, 0.010883238870661791, 0.2765987063912328, 0.31558257001420387, 0.2852324757960779, 0.2711483276074484, 0.30886250573753216, 0.13687467822112812, 0.08672678555727412, 0.09892052702620631, 0.028236160659652086, 0.4674651092348054, 0.16988353961083844, 0.24615160707897085, 0.10324462247446593]}],                        {\"legend\": {\"tracegroupgap\": 0}, \"margin\": {\"t\": 60}, \"scene\": {\"domain\": {\"x\": [0.0, 1.0], \"y\": [0.0, 1.0]}, \"xaxis\": {\"title\": {\"text\": \"x\"}}, \"yaxis\": {\"title\": {\"text\": \"y\"}}, \"zaxis\": {\"title\": {\"text\": \"z\"}}}, \"template\": {\"data\": {\"bar\": [{\"error_x\": {\"color\": \"#2a3f5f\"}, \"error_y\": {\"color\": \"#2a3f5f\"}, \"marker\": {\"line\": {\"color\": \"#E5ECF6\", \"width\": 0.5}}, \"type\": \"bar\"}], \"barpolar\": [{\"marker\": {\"line\": {\"color\": \"#E5ECF6\", \"width\": 0.5}}, \"type\": \"barpolar\"}], \"carpet\": [{\"aaxis\": {\"endlinecolor\": \"#2a3f5f\", \"gridcolor\": \"white\", \"linecolor\": \"white\", \"minorgridcolor\": \"white\", \"startlinecolor\": \"#2a3f5f\"}, \"baxis\": {\"endlinecolor\": \"#2a3f5f\", \"gridcolor\": \"white\", \"linecolor\": \"white\", \"minorgridcolor\": \"white\", \"startlinecolor\": \"#2a3f5f\"}, \"type\": \"carpet\"}], \"choropleth\": [{\"colorbar\": {\"outlinewidth\": 0, \"ticks\": \"\"}, \"type\": \"choropleth\"}], \"contour\": [{\"colorbar\": {\"outlinewidth\": 0, \"ticks\": \"\"}, \"colorscale\": [[0.0, \"#0d0887\"], [0.1111111111111111, \"#46039f\"], [0.2222222222222222, \"#7201a8\"], [0.3333333333333333, \"#9c179e\"], [0.4444444444444444, \"#bd3786\"], [0.5555555555555556, \"#d8576b\"], [0.6666666666666666, \"#ed7953\"], [0.7777777777777778, \"#fb9f3a\"], [0.8888888888888888, \"#fdca26\"], [1.0, \"#f0f921\"]], \"type\": \"contour\"}], \"contourcarpet\": [{\"colorbar\": {\"outlinewidth\": 0, \"ticks\": \"\"}, \"type\": \"contourcarpet\"}], \"heatmap\": [{\"colorbar\": {\"outlinewidth\": 0, \"ticks\": \"\"}, \"colorscale\": [[0.0, \"#0d0887\"], [0.1111111111111111, \"#46039f\"], [0.2222222222222222, \"#7201a8\"], [0.3333333333333333, \"#9c179e\"], [0.4444444444444444, \"#bd3786\"], [0.5555555555555556, \"#d8576b\"], [0.6666666666666666, \"#ed7953\"], [0.7777777777777778, \"#fb9f3a\"], [0.8888888888888888, \"#fdca26\"], [1.0, \"#f0f921\"]], \"type\": \"heatmap\"}], \"heatmapgl\": [{\"colorbar\": {\"outlinewidth\": 0, \"ticks\": \"\"}, \"colorscale\": [[0.0, \"#0d0887\"], [0.1111111111111111, \"#46039f\"], [0.2222222222222222, \"#7201a8\"], [0.3333333333333333, \"#9c179e\"], [0.4444444444444444, \"#bd3786\"], [0.5555555555555556, \"#d8576b\"], [0.6666666666666666, \"#ed7953\"], [0.7777777777777778, \"#fb9f3a\"], [0.8888888888888888, \"#fdca26\"], [1.0, \"#f0f921\"]], \"type\": \"heatmapgl\"}], \"histogram\": [{\"marker\": {\"colorbar\": {\"outlinewidth\": 0, \"ticks\": \"\"}}, \"type\": \"histogram\"}], \"histogram2d\": [{\"colorbar\": {\"outlinewidth\": 0, \"ticks\": \"\"}, \"colorscale\": [[0.0, \"#0d0887\"], [0.1111111111111111, \"#46039f\"], [0.2222222222222222, \"#7201a8\"], [0.3333333333333333, \"#9c179e\"], [0.4444444444444444, \"#bd3786\"], [0.5555555555555556, \"#d8576b\"], [0.6666666666666666, \"#ed7953\"], [0.7777777777777778, \"#fb9f3a\"], [0.8888888888888888, \"#fdca26\"], [1.0, \"#f0f921\"]], \"type\": \"histogram2d\"}], \"histogram2dcontour\": [{\"colorbar\": {\"outlinewidth\": 0, \"ticks\": \"\"}, \"colorscale\": [[0.0, \"#0d0887\"], [0.1111111111111111, \"#46039f\"], [0.2222222222222222, \"#7201a8\"], [0.3333333333333333, \"#9c179e\"], [0.4444444444444444, \"#bd3786\"], [0.5555555555555556, \"#d8576b\"], [0.6666666666666666, \"#ed7953\"], [0.7777777777777778, \"#fb9f3a\"], [0.8888888888888888, \"#fdca26\"], [1.0, \"#f0f921\"]], \"type\": \"histogram2dcontour\"}], \"mesh3d\": [{\"colorbar\": {\"outlinewidth\": 0, \"ticks\": \"\"}, \"type\": \"mesh3d\"}], \"parcoords\": [{\"line\": {\"colorbar\": {\"outlinewidth\": 0, \"ticks\": \"\"}}, \"type\": \"parcoords\"}], \"pie\": [{\"automargin\": true, \"type\": \"pie\"}], \"scatter\": [{\"marker\": {\"colorbar\": {\"outlinewidth\": 0, \"ticks\": \"\"}}, \"type\": \"scatter\"}], \"scatter3d\": [{\"line\": {\"colorbar\": {\"outlinewidth\": 0, \"ticks\": \"\"}}, \"marker\": {\"colorbar\": {\"outlinewidth\": 0, \"ticks\": \"\"}}, \"type\": \"scatter3d\"}], \"scattercarpet\": [{\"marker\": {\"colorbar\": {\"outlinewidth\": 0, \"ticks\": \"\"}}, \"type\": \"scattercarpet\"}], \"scattergeo\": [{\"marker\": {\"colorbar\": {\"outlinewidth\": 0, \"ticks\": \"\"}}, \"type\": \"scattergeo\"}], \"scattergl\": [{\"marker\": {\"colorbar\": {\"outlinewidth\": 0, \"ticks\": \"\"}}, \"type\": \"scattergl\"}], \"scattermapbox\": [{\"marker\": {\"colorbar\": {\"outlinewidth\": 0, \"ticks\": \"\"}}, \"type\": \"scattermapbox\"}], \"scatterpolar\": [{\"marker\": {\"colorbar\": {\"outlinewidth\": 0, \"ticks\": \"\"}}, \"type\": \"scatterpolar\"}], \"scatterpolargl\": [{\"marker\": {\"colorbar\": {\"outlinewidth\": 0, \"ticks\": \"\"}}, \"type\": \"scatterpolargl\"}], \"scatterternary\": [{\"marker\": {\"colorbar\": {\"outlinewidth\": 0, \"ticks\": \"\"}}, \"type\": \"scatterternary\"}], \"surface\": [{\"colorbar\": {\"outlinewidth\": 0, \"ticks\": \"\"}, \"colorscale\": [[0.0, \"#0d0887\"], [0.1111111111111111, \"#46039f\"], [0.2222222222222222, \"#7201a8\"], [0.3333333333333333, \"#9c179e\"], [0.4444444444444444, \"#bd3786\"], [0.5555555555555556, \"#d8576b\"], [0.6666666666666666, \"#ed7953\"], [0.7777777777777778, \"#fb9f3a\"], [0.8888888888888888, \"#fdca26\"], [1.0, \"#f0f921\"]], \"type\": \"surface\"}], \"table\": [{\"cells\": {\"fill\": {\"color\": \"#EBF0F8\"}, \"line\": {\"color\": \"white\"}}, \"header\": {\"fill\": {\"color\": \"#C8D4E3\"}, \"line\": {\"color\": \"white\"}}, \"type\": \"table\"}]}, \"layout\": {\"annotationdefaults\": {\"arrowcolor\": \"#2a3f5f\", \"arrowhead\": 0, \"arrowwidth\": 1}, \"autotypenumbers\": \"strict\", \"coloraxis\": {\"colorbar\": {\"outlinewidth\": 0, \"ticks\": \"\"}}, \"colorscale\": {\"diverging\": [[0, \"#8e0152\"], [0.1, \"#c51b7d\"], [0.2, \"#de77ae\"], [0.3, \"#f1b6da\"], [0.4, \"#fde0ef\"], [0.5, \"#f7f7f7\"], [0.6, \"#e6f5d0\"], [0.7, \"#b8e186\"], [0.8, \"#7fbc41\"], [0.9, \"#4d9221\"], [1, \"#276419\"]], \"sequential\": [[0.0, \"#0d0887\"], [0.1111111111111111, \"#46039f\"], [0.2222222222222222, \"#7201a8\"], [0.3333333333333333, \"#9c179e\"], [0.4444444444444444, \"#bd3786\"], [0.5555555555555556, \"#d8576b\"], [0.6666666666666666, \"#ed7953\"], [0.7777777777777778, \"#fb9f3a\"], [0.8888888888888888, \"#fdca26\"], [1.0, \"#f0f921\"]], \"sequentialminus\": [[0.0, \"#0d0887\"], [0.1111111111111111, \"#46039f\"], [0.2222222222222222, \"#7201a8\"], [0.3333333333333333, \"#9c179e\"], [0.4444444444444444, \"#bd3786\"], [0.5555555555555556, \"#d8576b\"], [0.6666666666666666, \"#ed7953\"], [0.7777777777777778, \"#fb9f3a\"], [0.8888888888888888, \"#fdca26\"], [1.0, \"#f0f921\"]]}, \"colorway\": [\"#636efa\", \"#EF553B\", \"#00cc96\", \"#ab63fa\", \"#FFA15A\", \"#19d3f3\", \"#FF6692\", \"#B6E880\", \"#FF97FF\", \"#FECB52\"], \"font\": {\"color\": \"#2a3f5f\"}, \"geo\": {\"bgcolor\": \"white\", \"lakecolor\": \"white\", \"landcolor\": \"#E5ECF6\", \"showlakes\": true, \"showland\": true, \"subunitcolor\": \"white\"}, \"hoverlabel\": {\"align\": \"left\"}, \"hovermode\": \"closest\", \"mapbox\": {\"style\": \"light\"}, \"paper_bgcolor\": \"white\", \"plot_bgcolor\": \"#E5ECF6\", \"polar\": {\"angularaxis\": {\"gridcolor\": \"white\", \"linecolor\": \"white\", \"ticks\": \"\"}, \"bgcolor\": \"#E5ECF6\", \"radialaxis\": {\"gridcolor\": \"white\", \"linecolor\": \"white\", \"ticks\": \"\"}}, \"scene\": {\"xaxis\": {\"backgroundcolor\": \"#E5ECF6\", \"gridcolor\": \"white\", \"gridwidth\": 2, \"linecolor\": \"white\", \"showbackground\": true, \"ticks\": \"\", \"zerolinecolor\": \"white\"}, \"yaxis\": {\"backgroundcolor\": \"#E5ECF6\", \"gridcolor\": \"white\", \"gridwidth\": 2, \"linecolor\": \"white\", \"showbackground\": true, \"ticks\": \"\", \"zerolinecolor\": \"white\"}, \"zaxis\": {\"backgroundcolor\": \"#E5ECF6\", \"gridcolor\": \"white\", \"gridwidth\": 2, \"linecolor\": \"white\", \"showbackground\": true, \"ticks\": \"\", \"zerolinecolor\": \"white\"}}, \"shapedefaults\": {\"line\": {\"color\": \"#2a3f5f\"}}, \"ternary\": {\"aaxis\": {\"gridcolor\": \"white\", \"linecolor\": \"white\", \"ticks\": \"\"}, \"baxis\": {\"gridcolor\": \"white\", \"linecolor\": \"white\", \"ticks\": \"\"}, \"bgcolor\": \"#E5ECF6\", \"caxis\": {\"gridcolor\": \"white\", \"linecolor\": \"white\", \"ticks\": \"\"}}, \"title\": {\"x\": 0.05}, \"xaxis\": {\"automargin\": true, \"gridcolor\": \"white\", \"linecolor\": \"white\", \"ticks\": \"\", \"title\": {\"standoff\": 15}, \"zerolinecolor\": \"white\", \"zerolinewidth\": 2}, \"yaxis\": {\"automargin\": true, \"gridcolor\": \"white\", \"linecolor\": \"white\", \"ticks\": \"\", \"title\": {\"standoff\": 15}, \"zerolinecolor\": \"white\", \"zerolinewidth\": 2}}}},                        {\"responsive\": true}                    ).then(function(){\n                            \nvar gd = document.getElementById('3381c407-a8b3-4039-9052-ee4a416db210');\nvar x = new MutationObserver(function (mutations, observer) {{\n        var display = window.getComputedStyle(gd).display;\n        if (!display || display === 'none') {{\n            console.log([gd, 'removed!']);\n            Plotly.purge(gd);\n            observer.disconnect();\n        }}\n}});\n\n// Listen for the removal of the full notebook cells\nvar notebookContainer = gd.closest('#notebook-container');\nif (notebookContainer) {{\n    x.observe(notebookContainer, {childList: true});\n}}\n\n// Listen for the clearing of the current output cell\nvar outputEl = gd.closest('.output');\nif (outputEl) {{\n    x.observe(outputEl, {childList: true});\n}}\n\n                        })                };                            </script>        </div>\n</body>\n</html>"
     },
     "metadata": {},
     "output_type": "display_data"
    }
   ]
  },
  {
   "cell_type": "markdown",
   "source": "### Algorithm in 3D and higher dimensions\n\nThe approach here is mostly the same as in 2D:\n- We first rotate the points in small steps. On each step we rotate clockwise and anti-clockwise, choosing the direction that increases variance along the X-axis until we reach a maxima. We do this on every plane where the target axis is not invariant. For the X-axis in 3D this would be the XY and XZ planes.\n- Once we reached maxima along the X-axis for rotations on all relevant planes, we focus on the Y-axis and maximise the variance along it. In order to not undo our work on the X-axis, we ignore all rotations that would affect it (all planes that include the X-axis). Hence in 3D we can only rotate on the YZ plane, but not the YX plane.\n- This is progressively done for every axis until the number of axes we have maximised equals the number of PCs wanted, or until there is only one axis remaining, as there are no planes left that the points may be rotated on to maximise the last axis. (n-1 degrees of freedom)\n\nOnce complete, the X-axis is the 1st PC, the Y-axis the 2nd, etc.",
   "metadata": {
    "tags": [],
    "cell_id": "00028-a16a3959-ef6a-43f9-a43a-142a5ae99b54",
    "deepnote_cell_type": "markdown"
   }
  },
  {
   "cell_type": "markdown",
   "source": "#### Helper functions to rotate vectors",
   "metadata": {
    "tags": [],
    "cell_id": "00027-61972ec0-8853-4164-907d-f0bcdf9508a3",
    "deepnote_cell_type": "markdown"
   }
  },
  {
   "cell_type": "code",
   "metadata": {
    "tags": [],
    "cell_id": "00028-a06350a0-df11-4ce5-b6ec-0c92ff74cc44",
    "deepnote_to_be_reexecuted": false,
    "source_hash": "e2b1a873",
    "execution_start": 1624374929639,
    "execution_millis": 7,
    "deepnote_cell_type": "code"
   },
   "source": "# Convert two axes into orthogonal vectors that describe their plane\ndef planeToVectors(dimension, axis1, axis2):\n    v1 = np.zeros(dimension)\n    v2 = np.zeros(dimension)\n    v1[axis1] = 1\n    v2[axis2] = 1\n    return v1, v2\n\n# e.g. In 3D between X and Z axes\n#  planeToVectors(3, 0, 2)\n#  -> [1 0 0], [0 0 1]",
   "execution_count": 20,
   "outputs": []
  },
  {
   "cell_type": "code",
   "metadata": {
    "tags": [],
    "cell_id": "00029-d18005f0-1449-45f5-ac57-90e4de649ece",
    "deepnote_to_be_reexecuted": false,
    "source_hash": "2db9f72d",
    "execution_start": 1624374929648,
    "execution_millis": 5,
    "deepnote_cell_type": "code"
   },
   "source": "# Perform a clock-wise rotation by [rotation_deg]° on a list of vectors on the given plane\ndef rotateOnPlane(plane_v1, plane_v2, rotation_deg, vectors):\n    # Create rotation matrix\n    rotation_rad = np.radians(rotation_deg)\n    M = mgen.rotation_from_angle_and_plane(rotation_rad, plane_v1, plane_v2)\n\n    # Rotate all vectors\n    return [M.dot(v) for v in vectors]",
   "execution_count": 21,
   "outputs": []
  },
  {
   "cell_type": "code",
   "metadata": {
    "tags": [],
    "cell_id": "00030-53dcef98-f274-416d-a9e8-68006b1b7596",
    "deepnote_to_be_reexecuted": false,
    "source_hash": "df813766",
    "execution_start": 1624374929659,
    "execution_millis": 2,
    "deepnote_cell_type": "code"
   },
   "source": "# Tries rotating vectors in both directions on the plane described by the two axes.\n# Chooses the direction that maximises the variance along the optimisation_axis.\n# \n# Returns (rotation_deg or -rotation_deg), new_variance, rotated_vectors\n\ndef bestRotationOnAxes(optimisation_axis, dimension, axis1, axis2, rotation_deg, vectors):\n    # Generate orthogonal vectors describing the plane\n    plane_v1, plane_v2 = planeToVectors(dimension, axis1, axis2)\n    \n    # Try rotating left (anti-clockwise)\n    vectors_left = rotateOnPlane(plane_v1, plane_v2, -rotation_deg, vectors)\n    points = unzip(vectors_left)[optimisation_axis]\n    variance_left = stats.variance(points)\n\n    # Try rotating right (clockwise)\n    vectors_right = rotateOnPlane(plane_v1, plane_v2, rotation_deg, vectors)\n    points = unzip(vectors_right)[optimisation_axis]\n    variance_right = stats.variance(points)\n\n    # Choose rotation the maximises the variance\n    if variance_left > variance_right:\n        return -rotation_deg, variance_left, vectors_left\n    else:\n        return rotation_deg, variance_right, vectors_right",
   "execution_count": 22,
   "outputs": []
  },
  {
   "cell_type": "code",
   "metadata": {
    "tags": [],
    "cell_id": "00031-2848934d-2239-4f15-a61a-b0e34b9cb4b9",
    "deepnote_to_be_reexecuted": false,
    "source_hash": "e8114d93",
    "execution_start": 1624374929667,
    "execution_millis": 1,
    "deepnote_cell_type": "code"
   },
   "source": "# Rotates the points by [rotation_deg]° on every plane allowed to improve the variance along the optimisation_axis\n# \n# To improve the X-axis alignment, the points are allowed to rotate on every plane,\n# but to improve the Y-axis, the rotations may not affect the X-axis alignment\n# In 3D: For X-axis alignment rotation on XY and XZ plane (YZ is also allowed, but will not affect X-axis)\n#        For Y-axis alignment rotation on YZ, but not YX plane\n\ndef improveAxisAlignmentBy(optimisation_axis, dimensions, rotation_deg, vectors):\n    if optimisation_axis == dimensions-1:\n        points = unzip(vectors)[optimisation_axis]\n        return stats.variance(points), vectors\n        # TODO\n\n    # Axes to pair with optimisation_axis to form the plane to rotate on.\n    # Assumes all axes < optimisation_axis to be fixed and immutable\n    for axis2 in range(optimisation_axis+1, dimensions):\n        angle_diff, var, vectors = bestRotationOnAxes(\n            optimisation_axis = optimisation_axis,\n            dimension = dimensions,\n            axis1 = optimisation_axis,\n            axis2 = axis2,\n            rotation_deg = rotation_deg,\n            vectors = vectors\n        )\n\n    return var, vectors",
   "execution_count": 23,
   "outputs": []
  },
  {
   "cell_type": "code",
   "metadata": {
    "tags": [],
    "cell_id": "00030-b60d9807-bc9c-412c-bc6c-1df0a6b9e2d1",
    "deepnote_to_be_reexecuted": false,
    "source_hash": "9e26169a",
    "execution_start": 1624374929673,
    "execution_millis": 4,
    "deepnote_cell_type": "code"
   },
   "source": "# Improve alignment along the optimisation_axis by rotating on the given plane (axis1, axis2)\n# until a maxima in the variance is reached.\ndef optimiseAxisOnPlane(optimisation_axis, dimensions, axis1, axis2, rotation_deg, vectors):\n    var_old = -1\n    var = 0\n\n    while var > var_old:\n        var_old = var\n        angle_diff, var, vectors = bestRotationOnAxes(\n                optimisation_axis = optimisation_axis,\n                dimension = dimensions,\n                axis1 = axis1,\n                axis2 = axis2,\n                rotation_deg = rotation_deg,\n                vectors = vectors\n            )\n\n    return var, vectors",
   "execution_count": 24,
   "outputs": []
  },
  {
   "cell_type": "markdown",
   "source": "The following helper function `approximatePC` approximates the optimal rotation to maximise the variance along the given axis. However, instead of starting at 0° and incrementally rotating by 1° until the optimum is reached, we can try an approach similar to binary search, where we \"search\" for the best rotation by initially making big jumps and then refining our search space: We start by rotating 90°, then 45°, then 22.5°, etc. until we have reached the desired precision (e.g. ≤1°). To reach a precision of 1° this method would take up to 8 steps instead of up to 90 when incrementing by 1°. If the initial efficiency of simply incrementing was $\\Theta(n)$, the new algorithm runs in $\\Theta(\\lg n)$.\n\nSince the relationship between rotation and variance is not always linear, I found that a factor of 1.5 produces better results than the factor of 2 mentioned above. Hence, we would be rotating by 90°, then 60°, 40°, 26.7°, etc. Finding the best angle would now take 13 steps instead of 8, but we still have an efficiency of $\\Theta(\\log_{1.5} n) = \\Theta(\\lg n)$ with a more accurate outcome. By decreasing the factor we can make it still more accurate but it would need longer to run.",
   "metadata": {
    "tags": [],
    "cell_id": "00036-d24cdf3c-2947-4db1-adec-f425fa204281",
    "deepnote_cell_type": "markdown"
   }
  },
  {
   "cell_type": "code",
   "metadata": {
    "tags": [],
    "cell_id": "00031-d5a01cce-11a9-4b32-a81d-7bb69f3db351",
    "deepnote_to_be_reexecuted": false,
    "source_hash": "1b8c47e",
    "execution_start": 1624374929680,
    "execution_millis": 3,
    "deepnote_cell_type": "code"
   },
   "source": "# Find the nth principal component (target_pc) by optimising variance along its corresponding axis\n# by rotating on all available planes.\n# Makes sure to not affect previous principal components.\n#\n# It is highly recommended to execute it in order of increasing PC number\n\ndef approximatePC(from_dimension, target_pc, precision, vectors, log_factor=1.5):\n    # Requires that prior PCs are already approximated in the input vectors\n\n    var_old = -1\n    var = 0\n\n    # Instead of improving by a little bit every time, initially make big adjustments and get finer and finer\n    # Approach is inspired by binary search.\n    angle = 90  # Start at 90° changes instead of 180°, since flipping by 180° results in the same variance\n    while angle > precision:\n        var_old = var\n        var, vectors = improveAxisAlignmentBy(target_pc, from_dimension, angle, vectors)\n\n        angle = angle / log_factor\n\n\n    return var, vectors",
   "execution_count": 25,
   "outputs": []
  },
  {
   "cell_type": "code",
   "metadata": {
    "tags": [],
    "cell_id": "00036-139cbb24-8442-425f-96c2-95896dd0f4c7",
    "deepnote_to_be_reexecuted": false,
    "source_hash": "89ddf194",
    "execution_start": 1624374929693,
    "execution_millis": 0,
    "deepnote_cell_type": "code"
   },
   "source": "# Simulates PCA for\n#  any number of input dimensions >= 2\n#  and any number of desired Principal Components <= no. of dimensions\ndef myPCA(input_vectors, components, log_factor=1.5):\n    precision = .1  # Smallest rotation-angle size (in degrees)\n\n    dimensions = len(input_vectors[0])\n    target_dimensions = components  # No. of Principal Components to find\n\n    if target_dimensions > dimensions:\n        raise Exception(f'Requested more components ({components}) than input data has dimensions ({dimensions})')\n\n    variances = np.zeros(target_dimensions)\n\n    vectors_new = np.copy(input_vectors)\n\n    # Compute Principal Components\n    for pc in range(target_dimensions):\n            variances[pc], vectors_new = approximatePC(dimensions, pc, precision, vectors_new, log_factor)\n\n    # Calculate variances explained by components\n    total_var = 0\n    for points in unzip(input_vectors):\n        total_var += stats.variance(points)\n    varsExplained = [var / total_var for var in variances]\n\n    return {\n        \"variance explained\": varsExplained,\n        \"components\": unzip(vectors_new)[:target_dimensions]\n    }",
   "execution_count": 26,
   "outputs": []
  },
  {
   "cell_type": "markdown",
   "source": "#### Demsonstration of approximation algorithm `myPCA`",
   "metadata": {
    "tags": [],
    "cell_id": "00038-9409a86f-1dac-40b9-bf7f-d597939a1a00",
    "deepnote_cell_type": "markdown"
   }
  },
  {
   "cell_type": "code",
   "metadata": {
    "tags": [],
    "cell_id": "00037-441d213e-e450-4203-bc98-54ccad9d5ea6",
    "deepnote_to_be_reexecuted": false,
    "source_hash": "97cdb1e3",
    "execution_start": 1624374929699,
    "execution_millis": 143,
    "is_output_hidden": false,
    "deepnote_cell_type": "code"
   },
   "source": "vectors3d = transpose(genNdData(n=3, size=100))\nresults = myPCA(vectors3d, 3)\nresults['variance explained']",
   "execution_count": 27,
   "outputs": [
    {
     "output_type": "execute_result",
     "execution_count": 27,
     "data": {
      "text/plain": "[0.8108474450655777, 0.1233672858781378, 0.06578526905628443]"
     },
     "metadata": {}
    }
   ]
  },
  {
   "cell_type": "code",
   "metadata": {
    "tags": [],
    "cell_id": "00037-d4e9b127-099d-48e9-8ed5-80f88a50446c",
    "deepnote_to_be_reexecuted": false,
    "source_hash": "b12b295a",
    "execution_start": 1624374929838,
    "execution_millis": 401,
    "is_output_hidden": false,
    "deepnote_cell_type": "code"
   },
   "source": "vectors5d = transpose(genNdData(n=5, size=100))\nresults = myPCA(vectors5d, 3)\nresults['variance explained']",
   "execution_count": 28,
   "outputs": [
    {
     "output_type": "execute_result",
     "execution_count": 28,
     "data": {
      "text/plain": "[0.5593309564391039, 0.1588819208072347, 0.12838213614982016]"
     },
     "metadata": {}
    }
   ]
  },
  {
   "cell_type": "code",
   "metadata": {
    "tags": [],
    "cell_id": "00038-29c57f21-29f9-47c7-99fb-6c59913a1718",
    "deepnote_to_be_reexecuted": false,
    "source_hash": "a5feb34c",
    "execution_start": 1624374930225,
    "execution_millis": 1167,
    "is_output_hidden": false,
    "deepnote_cell_type": "code"
   },
   "source": "vectors10d = transpose(genNdData(n=10, size=100))\nresults = myPCA(vectors10d, 3)\nresults['variance explained']",
   "execution_count": 29,
   "outputs": [
    {
     "output_type": "execute_result",
     "execution_count": 29,
     "data": {
      "text/plain": "[0.428243962604282, 0.10745071173485049, 0.10147638091951613]"
     },
     "metadata": {}
    }
   ]
  },
  {
   "cell_type": "code",
   "metadata": {
    "tags": [],
    "cell_id": "00030-0facef8a-6d1c-4d9d-b5dd-d9358ccbb816",
    "deepnote_to_be_reexecuted": false,
    "source_hash": "c50242bb",
    "execution_start": 1624374931387,
    "execution_millis": 1588,
    "is_output_hidden": true,
    "deepnote_cell_type": "code"
   },
   "source": "df = pd.DataFrame(transpose(results['components']))\nsns.pairplot(df)\nplot3d(transpose(results['components']))",
   "execution_count": 30,
   "outputs": [
    {
     "data": {
      "text/html": "<html>\n<head><meta charset=\"utf-8\" /></head>\n<body>\n    <div>            <script src=\"https://cdnjs.cloudflare.com/ajax/libs/mathjax/2.7.5/MathJax.js?config=TeX-AMS-MML_SVG\"></script><script type=\"text/javascript\">if (window.MathJax) {MathJax.Hub.Config({SVG: {font: \"STIX-Web\"}});}</script>                <script type=\"text/javascript\">window.PlotlyConfig = {MathJaxConfig: 'local'};</script>\n        <script src=\"https://cdn.plot.ly/plotly-latest.min.js\"></script>                <div id=\"1341fa94-31f7-4fd0-9f19-ba1538346c3f\" class=\"plotly-graph-div\" style=\"height:525px; width:100%;\"></div>            <script type=\"text/javascript\">                                    window.PLOTLYENV=window.PLOTLYENV || {};                                    if (document.getElementById(\"1341fa94-31f7-4fd0-9f19-ba1538346c3f\")) {                    Plotly.newPlot(                        \"1341fa94-31f7-4fd0-9f19-ba1538346c3f\",                        [{\"hovertemplate\": \"x=%{x}<br>y=%{y}<br>z=%{z}<extra></extra>\", \"legendgroup\": \"\", \"marker\": {\"color\": \"#636efa\", \"symbol\": \"circle\"}, \"mode\": \"markers\", \"name\": \"\", \"scene\": \"scene\", \"showlegend\": false, \"type\": \"scatter3d\", \"x\": [-0.04663827910493279, -0.10680069468582146, 0.35739067211141734, -0.10665627057286026, 0.13500936502878766, 0.1975447849536358, 0.3894313518945944, -0.04784822687573527, -0.040967562896971454, 0.07262906368073803, 0.25078078619679023, 0.10259360647323695, 0.12376315692453943, 0.03557072244938227, 0.06519653586646401, -0.072788895900261, 0.030119973621673596, 0.30859401841260986, -0.03216524851206539, -0.010614419022013927, 0.6641644934989237, -0.03231046288418097, 0.05260456570352015, 0.5730428609426718, 0.12687253615163838, -0.016680523704927577, -0.03611295342686414, 0.07108640506909476, -0.13260691289318627, -0.08349127953441407, -0.07428426931046027, 0.02182989239686334, 0.10223580703404146, 0.01927240179154273, 0.10687251925900926, 0.12080971391275791, 0.15993988168138318, 0.05557453350822207, 0.531910642211521, 0.623019135977584, 0.17695998023030685, -0.0613489312396901, -0.0719618791804263, 0.38153124593263915, 0.013372248656529178, 0.025711052332935327, 0.10731100844906015, 0.007149724821324425, 0.07366238487996751, 0.4931135449160775, 0.20893499516991854, 0.16717798706311038, -0.020439915626612275, 0.1026875604419305, 0.061557386593618965, -0.0037849092635092382, -0.036749503852634265, -0.004471979639748846, 0.1682071160354069, 0.02111794149032221, 0.508608468538478, 0.04622237196724751, 0.051129617015730225, 0.024995316354823504, -0.021106019497150887, -0.08442506777338153, -0.09947360360437224, -0.03533397687731892, -0.12123097314304532, 0.10553225687525468, -0.03090834535835771, -0.008323938000140023, 0.10825471232731831, 0.6938888804266965, -0.1191503615413145, 0.06433515728364869, 0.08249937333424978, -0.08961767127649244, -0.09285330849128198, 0.08133063605298398, -0.12107652326088938, 0.1910390744750052, -0.01847208523083569, -0.059529058596612706, 0.027002852875844207, -0.05254966643848825, -0.07485610356188944, 0.019625144940665314, 0.26610802236320014, 0.10488405254738543, 0.2560326825140845, 0.23891040481830308, 0.0486623522706634, -0.09368931780924569, -0.04291490380693294, 0.7642333885751899, 0.12477009570046826, 0.1511102543083845, 0.03425936886704412, 0.1752365205811549], \"y\": [-0.2806444169406752, 0.022529871580042916, -0.07256796230852061, 0.08931511300054526, -0.1511052523146782, -0.019618448361271183, 0.1283394210149132, -0.0024926419965940485, -0.07895659822077515, -0.05126339816097871, 0.11498260328901914, 0.009015773545198074, 0.06954849532151772, -0.023663243311831134, 0.08767657338297026, -0.03282337425495359, 0.10697251737029194, -0.06851730328891764, -0.04632031372457079, -0.02871401887015916, 0.12327534463552135, -0.022950867948988683, -0.1600600754992261, -0.10641815100379336, -0.07072680402901511, -0.05943151498180994, 0.08955379923946956, -0.08304660341486045, -0.027817104910156362, 0.15299403465723568, 0.056755288898456116, 0.07956067076365614, 0.14379961158203763, -0.0018836084753959621, -0.101099957390821, 0.027098434863772353, 0.18687222936921477, -0.01670474402299129, -0.019137122783690386, -0.10363351932785385, -0.06295291605760192, 0.07923464038539658, 0.04948811022022892, -0.002833608532120357, 0.21637299573371382, 0.08556471873577347, -0.04022790095083183, -0.03729208030043847, -0.005846302374465777, 0.15348299214999714, -0.11072708496580265, 0.011792040260801353, -0.16289405679781382, 0.0388811618172711, 0.010635475946864321, -0.10680235170273035, 0.19911956640993425, -0.0035667239587364686, -0.05669194239929324, 0.0461642642266431, -0.0444713947082169, -0.014564134267689452, -0.061987313603937465, 0.05824508986911111, 0.12706844660097544, -0.009685781127535655, -0.018145281327146788, -0.024858711616198945, -0.09237690491319633, -0.01931250760089069, 0.05150299569933688, -0.22345131612419017, -0.09114935614712305, 0.02021283649064086, -0.02980691310204479, -0.25824434266994095, -0.15412386763067665, -0.13588393242545543, 0.09688568396539461, -0.05484474790571547, 0.1321149161995024, -0.11270209365250893, 0.08122128881733706, -0.09728248399735508, -0.05974522274045262, 0.080744584474942, -0.0580151344671855, -0.1849580950906106, 0.018280564078965632, -0.04995346041495003, -0.005922612859605291, -0.05363711835050341, -0.12778779006686786, 0.02717940021800208, -0.03963148719686503, -0.021078691039208487, -0.11047077696289212, -0.013536249759051861, -0.03753748486906691, 0.08662288205126445], \"z\": [0.06862865113420537, 0.12383636440870509, 0.0968059149166938, 0.0683443490482144, 0.0396883856270892, 0.23059722867983187, 0.060435000992947914, 0.023207277126690393, 0.08176870318440507, 0.1440302547383876, 0.21887629650605145, 0.03551603697678453, 0.047536056401230924, 0.048652110635187255, 0.14924801094904494, 0.043040254592363124, -0.07323406819984214, 0.06215245739247002, -0.12466017148448207, 0.02210270223632946, 0.02251187085095366, -0.0200967674940772, -0.016355585561192012, 0.10916343936415361, 0.1645899059615793, -0.013109942202362656, 0.04040082781867625, -0.022087076889549126, 0.03497585789029709, -0.02395281235973624, -0.01788559639375055, 0.06297118757000086, -0.12143499787116688, 0.18943168618713718, -0.13023543507482804, 0.23134608211310168, 0.08559776162171819, 0.20037325561815433, -0.1278749831654809, -0.07590360448246448, 0.10266786048783981, 0.08654096052967569, 0.11481778882629588, 0.1255191364139529, -0.08794211861580764, -0.0027741396138650882, -0.05553047487573155, -0.000391799786113532, -0.062051757656702455, -0.062317852882466135, 0.17225726932678484, 0.11090318469004526, 0.1216790839235288, 0.11903099659714232, 0.006575198668493327, -0.021953342988455398, 0.050591350107511576, 0.020358029953553992, 0.15473504266625973, -0.02043362939430373, 0.04722334361302469, 0.07641816180417839, -0.03340579208943318, 0.010839215883246916, 0.03068624131070915, -0.143960204304404, 0.217135023272737, 0.0007753927477499432, 0.04296503884321037, 0.13308884481003644, 0.011698387605634675, -0.14620684879031737, 0.01370012061064447, 0.1069082078220401, -0.09703494455386132, 0.0769702357339479, -0.09772900939152826, -0.0462556711118172, 0.0254736794504348, 0.10414475493191691, -0.09605338416473472, -0.06112700711800715, 0.11299537950137509, -0.004440290706192378, 0.19601900939629072, 0.02923539080163347, 0.06806663411578667, -0.00875272153758399, 0.18721599939210634, 0.06404721742928592, -0.1230555438397371, -0.02057082504619617, 0.09690855133084143, 0.04548792763915996, 0.12459670978469732, -0.13211194072255694, 0.209759806336821, 0.0554894985018575, 0.042059644934589475, 0.047146167799252986]}],                        {\"legend\": {\"tracegroupgap\": 0}, \"margin\": {\"t\": 60}, \"scene\": {\"domain\": {\"x\": [0.0, 1.0], \"y\": [0.0, 1.0]}, \"xaxis\": {\"title\": {\"text\": \"x\"}}, \"yaxis\": {\"title\": {\"text\": \"y\"}}, \"zaxis\": {\"title\": {\"text\": \"z\"}}}, \"template\": {\"data\": {\"bar\": [{\"error_x\": {\"color\": \"#2a3f5f\"}, \"error_y\": {\"color\": \"#2a3f5f\"}, \"marker\": {\"line\": {\"color\": \"#E5ECF6\", \"width\": 0.5}}, \"type\": \"bar\"}], \"barpolar\": [{\"marker\": {\"line\": {\"color\": \"#E5ECF6\", \"width\": 0.5}}, \"type\": \"barpolar\"}], \"carpet\": [{\"aaxis\": {\"endlinecolor\": \"#2a3f5f\", \"gridcolor\": \"white\", \"linecolor\": \"white\", \"minorgridcolor\": \"white\", \"startlinecolor\": \"#2a3f5f\"}, \"baxis\": {\"endlinecolor\": \"#2a3f5f\", \"gridcolor\": \"white\", \"linecolor\": \"white\", \"minorgridcolor\": \"white\", \"startlinecolor\": \"#2a3f5f\"}, \"type\": \"carpet\"}], \"choropleth\": [{\"colorbar\": {\"outlinewidth\": 0, \"ticks\": \"\"}, \"type\": \"choropleth\"}], \"contour\": [{\"colorbar\": {\"outlinewidth\": 0, \"ticks\": \"\"}, \"colorscale\": [[0.0, \"#0d0887\"], [0.1111111111111111, \"#46039f\"], [0.2222222222222222, \"#7201a8\"], [0.3333333333333333, \"#9c179e\"], [0.4444444444444444, \"#bd3786\"], [0.5555555555555556, \"#d8576b\"], [0.6666666666666666, \"#ed7953\"], [0.7777777777777778, \"#fb9f3a\"], [0.8888888888888888, \"#fdca26\"], [1.0, \"#f0f921\"]], \"type\": \"contour\"}], \"contourcarpet\": [{\"colorbar\": {\"outlinewidth\": 0, \"ticks\": \"\"}, \"type\": \"contourcarpet\"}], \"heatmap\": [{\"colorbar\": {\"outlinewidth\": 0, \"ticks\": \"\"}, \"colorscale\": [[0.0, \"#0d0887\"], [0.1111111111111111, \"#46039f\"], [0.2222222222222222, \"#7201a8\"], [0.3333333333333333, \"#9c179e\"], [0.4444444444444444, \"#bd3786\"], [0.5555555555555556, \"#d8576b\"], [0.6666666666666666, \"#ed7953\"], [0.7777777777777778, \"#fb9f3a\"], [0.8888888888888888, \"#fdca26\"], [1.0, \"#f0f921\"]], \"type\": \"heatmap\"}], \"heatmapgl\": [{\"colorbar\": {\"outlinewidth\": 0, \"ticks\": \"\"}, \"colorscale\": [[0.0, \"#0d0887\"], [0.1111111111111111, \"#46039f\"], [0.2222222222222222, \"#7201a8\"], [0.3333333333333333, \"#9c179e\"], [0.4444444444444444, \"#bd3786\"], [0.5555555555555556, \"#d8576b\"], [0.6666666666666666, \"#ed7953\"], [0.7777777777777778, \"#fb9f3a\"], [0.8888888888888888, \"#fdca26\"], [1.0, \"#f0f921\"]], \"type\": \"heatmapgl\"}], \"histogram\": [{\"marker\": {\"colorbar\": {\"outlinewidth\": 0, \"ticks\": \"\"}}, \"type\": \"histogram\"}], \"histogram2d\": [{\"colorbar\": {\"outlinewidth\": 0, \"ticks\": \"\"}, \"colorscale\": [[0.0, \"#0d0887\"], [0.1111111111111111, \"#46039f\"], [0.2222222222222222, \"#7201a8\"], [0.3333333333333333, \"#9c179e\"], [0.4444444444444444, \"#bd3786\"], [0.5555555555555556, \"#d8576b\"], [0.6666666666666666, \"#ed7953\"], [0.7777777777777778, \"#fb9f3a\"], [0.8888888888888888, \"#fdca26\"], [1.0, \"#f0f921\"]], \"type\": \"histogram2d\"}], \"histogram2dcontour\": [{\"colorbar\": {\"outlinewidth\": 0, \"ticks\": \"\"}, \"colorscale\": [[0.0, \"#0d0887\"], [0.1111111111111111, \"#46039f\"], [0.2222222222222222, \"#7201a8\"], [0.3333333333333333, \"#9c179e\"], [0.4444444444444444, \"#bd3786\"], [0.5555555555555556, \"#d8576b\"], [0.6666666666666666, \"#ed7953\"], [0.7777777777777778, \"#fb9f3a\"], [0.8888888888888888, \"#fdca26\"], [1.0, \"#f0f921\"]], \"type\": \"histogram2dcontour\"}], \"mesh3d\": [{\"colorbar\": {\"outlinewidth\": 0, \"ticks\": \"\"}, \"type\": \"mesh3d\"}], \"parcoords\": [{\"line\": {\"colorbar\": {\"outlinewidth\": 0, \"ticks\": \"\"}}, \"type\": \"parcoords\"}], \"pie\": [{\"automargin\": true, \"type\": \"pie\"}], \"scatter\": [{\"marker\": {\"colorbar\": {\"outlinewidth\": 0, \"ticks\": \"\"}}, \"type\": \"scatter\"}], \"scatter3d\": [{\"line\": {\"colorbar\": {\"outlinewidth\": 0, \"ticks\": \"\"}}, \"marker\": {\"colorbar\": {\"outlinewidth\": 0, \"ticks\": \"\"}}, \"type\": \"scatter3d\"}], \"scattercarpet\": [{\"marker\": {\"colorbar\": {\"outlinewidth\": 0, \"ticks\": \"\"}}, \"type\": \"scattercarpet\"}], \"scattergeo\": [{\"marker\": {\"colorbar\": {\"outlinewidth\": 0, \"ticks\": \"\"}}, \"type\": \"scattergeo\"}], \"scattergl\": [{\"marker\": {\"colorbar\": {\"outlinewidth\": 0, \"ticks\": \"\"}}, \"type\": \"scattergl\"}], \"scattermapbox\": [{\"marker\": {\"colorbar\": {\"outlinewidth\": 0, \"ticks\": \"\"}}, \"type\": \"scattermapbox\"}], \"scatterpolar\": [{\"marker\": {\"colorbar\": {\"outlinewidth\": 0, \"ticks\": \"\"}}, \"type\": \"scatterpolar\"}], \"scatterpolargl\": [{\"marker\": {\"colorbar\": {\"outlinewidth\": 0, \"ticks\": \"\"}}, \"type\": \"scatterpolargl\"}], \"scatterternary\": [{\"marker\": {\"colorbar\": {\"outlinewidth\": 0, \"ticks\": \"\"}}, \"type\": \"scatterternary\"}], \"surface\": [{\"colorbar\": {\"outlinewidth\": 0, \"ticks\": \"\"}, \"colorscale\": [[0.0, \"#0d0887\"], [0.1111111111111111, \"#46039f\"], [0.2222222222222222, \"#7201a8\"], [0.3333333333333333, \"#9c179e\"], [0.4444444444444444, \"#bd3786\"], [0.5555555555555556, \"#d8576b\"], [0.6666666666666666, \"#ed7953\"], [0.7777777777777778, \"#fb9f3a\"], [0.8888888888888888, \"#fdca26\"], [1.0, \"#f0f921\"]], \"type\": \"surface\"}], \"table\": [{\"cells\": {\"fill\": {\"color\": \"#EBF0F8\"}, \"line\": {\"color\": \"white\"}}, \"header\": {\"fill\": {\"color\": \"#C8D4E3\"}, \"line\": {\"color\": \"white\"}}, \"type\": \"table\"}]}, \"layout\": {\"annotationdefaults\": {\"arrowcolor\": \"#2a3f5f\", \"arrowhead\": 0, \"arrowwidth\": 1}, \"autotypenumbers\": \"strict\", \"coloraxis\": {\"colorbar\": {\"outlinewidth\": 0, \"ticks\": \"\"}}, \"colorscale\": {\"diverging\": [[0, \"#8e0152\"], [0.1, \"#c51b7d\"], [0.2, \"#de77ae\"], [0.3, \"#f1b6da\"], [0.4, \"#fde0ef\"], [0.5, \"#f7f7f7\"], [0.6, \"#e6f5d0\"], [0.7, \"#b8e186\"], [0.8, \"#7fbc41\"], [0.9, \"#4d9221\"], [1, \"#276419\"]], \"sequential\": [[0.0, \"#0d0887\"], [0.1111111111111111, \"#46039f\"], [0.2222222222222222, \"#7201a8\"], [0.3333333333333333, \"#9c179e\"], [0.4444444444444444, \"#bd3786\"], [0.5555555555555556, \"#d8576b\"], [0.6666666666666666, \"#ed7953\"], [0.7777777777777778, \"#fb9f3a\"], [0.8888888888888888, \"#fdca26\"], [1.0, \"#f0f921\"]], \"sequentialminus\": [[0.0, \"#0d0887\"], [0.1111111111111111, \"#46039f\"], [0.2222222222222222, \"#7201a8\"], [0.3333333333333333, \"#9c179e\"], [0.4444444444444444, \"#bd3786\"], [0.5555555555555556, \"#d8576b\"], [0.6666666666666666, \"#ed7953\"], [0.7777777777777778, \"#fb9f3a\"], [0.8888888888888888, \"#fdca26\"], [1.0, \"#f0f921\"]]}, \"colorway\": [\"#636efa\", \"#EF553B\", \"#00cc96\", \"#ab63fa\", \"#FFA15A\", \"#19d3f3\", \"#FF6692\", \"#B6E880\", \"#FF97FF\", \"#FECB52\"], \"font\": {\"color\": \"#2a3f5f\"}, \"geo\": {\"bgcolor\": \"white\", \"lakecolor\": \"white\", \"landcolor\": \"#E5ECF6\", \"showlakes\": true, \"showland\": true, \"subunitcolor\": \"white\"}, \"hoverlabel\": {\"align\": \"left\"}, \"hovermode\": \"closest\", \"mapbox\": {\"style\": \"light\"}, \"paper_bgcolor\": \"white\", \"plot_bgcolor\": \"#E5ECF6\", \"polar\": {\"angularaxis\": {\"gridcolor\": \"white\", \"linecolor\": \"white\", \"ticks\": \"\"}, \"bgcolor\": \"#E5ECF6\", \"radialaxis\": {\"gridcolor\": \"white\", \"linecolor\": \"white\", \"ticks\": \"\"}}, \"scene\": {\"xaxis\": {\"backgroundcolor\": \"#E5ECF6\", \"gridcolor\": \"white\", \"gridwidth\": 2, \"linecolor\": \"white\", \"showbackground\": true, \"ticks\": \"\", \"zerolinecolor\": \"white\"}, \"yaxis\": {\"backgroundcolor\": \"#E5ECF6\", \"gridcolor\": \"white\", \"gridwidth\": 2, \"linecolor\": \"white\", \"showbackground\": true, \"ticks\": \"\", \"zerolinecolor\": \"white\"}, \"zaxis\": {\"backgroundcolor\": \"#E5ECF6\", \"gridcolor\": \"white\", \"gridwidth\": 2, \"linecolor\": \"white\", \"showbackground\": true, \"ticks\": \"\", \"zerolinecolor\": \"white\"}}, \"shapedefaults\": {\"line\": {\"color\": \"#2a3f5f\"}}, \"ternary\": {\"aaxis\": {\"gridcolor\": \"white\", \"linecolor\": \"white\", \"ticks\": \"\"}, \"baxis\": {\"gridcolor\": \"white\", \"linecolor\": \"white\", \"ticks\": \"\"}, \"bgcolor\": \"#E5ECF6\", \"caxis\": {\"gridcolor\": \"white\", \"linecolor\": \"white\", \"ticks\": \"\"}}, \"title\": {\"x\": 0.05}, \"xaxis\": {\"automargin\": true, \"gridcolor\": \"white\", \"linecolor\": \"white\", \"ticks\": \"\", \"title\": {\"standoff\": 15}, \"zerolinecolor\": \"white\", \"zerolinewidth\": 2}, \"yaxis\": {\"automargin\": true, \"gridcolor\": \"white\", \"linecolor\": \"white\", \"ticks\": \"\", \"title\": {\"standoff\": 15}, \"zerolinecolor\": \"white\", \"zerolinewidth\": 2}}}},                        {\"responsive\": true}                    ).then(function(){\n                            \nvar gd = document.getElementById('1341fa94-31f7-4fd0-9f19-ba1538346c3f');\nvar x = new MutationObserver(function (mutations, observer) {{\n        var display = window.getComputedStyle(gd).display;\n        if (!display || display === 'none') {{\n            console.log([gd, 'removed!']);\n            Plotly.purge(gd);\n            observer.disconnect();\n        }}\n}});\n\n// Listen for the removal of the full notebook cells\nvar notebookContainer = gd.closest('#notebook-container');\nif (notebookContainer) {{\n    x.observe(notebookContainer, {childList: true});\n}}\n\n// Listen for the clearing of the current output cell\nvar outputEl = gd.closest('.output');\nif (outputEl) {{\n    x.observe(outputEl, {childList: true});\n}}\n\n                        })                };                            </script>        </div>\n</body>\n</html>"
     },
     "metadata": {},
     "output_type": "display_data"
    },
    {
     "data": {
      "text/plain": "<Figure size 540x540 with 12 Axes>",
      "image/png": "[encoded data removed]"
     },
     "metadata": {
      "needs_background": "light",
      "image/png": {
       "width": 533,
       "height": 533
      }
     },
     "output_type": "display_data"
    }
   ]
  },
  {
   "cell_type": "markdown",
   "source": "#### Comparison with standard PCA",
   "metadata": {
    "tags": [],
    "cell_id": "00043-f15b017e-cff4-41d0-a75a-2f0387706659",
    "deepnote_cell_type": "markdown"
   }
  },
  {
   "cell_type": "code",
   "metadata": {
    "tags": [],
    "cell_id": "00031-e8a6c087-da68-4f88-8cf9-cb05b6fc8cf7",
    "deepnote_to_be_reexecuted": false,
    "source_hash": "467665d1",
    "execution_start": 1624374932977,
    "execution_millis": 9,
    "deepnote_cell_type": "code"
   },
   "source": "# PCA\nX = np.ndarray.transpose(np.array(unzip(vectors10d)))\n\npca = decomposition.PCA(n_components=3)\nX_reduced = pca.fit_transform(X)\nprint(\"Standard PCA explained variances:\", pca.explained_variance_ratio_)\n\nmyPCAErrors = np.absolute(results['variance explained'] - pca.explained_variance_ratio_) / pca.explained_variance_ratio_\nprint(\"myPCA errors per component:\", myPCAErrors)",
   "execution_count": 31,
   "outputs": [
    {
     "name": "stdout",
     "text": "Standard PCA explained variances: [0.42824768 0.10745068 0.10149645]\nmyPCA errors per component: [0.00000868 0.00000033 0.00019773]\n",
     "output_type": "stream"
    }
   ]
  },
  {
   "cell_type": "markdown",
   "source": "# Conclusion\n\nWhile it was clear from the beginning that I wasn't going to discover a revolutionary new approach to computing PCAs that is much faster than the tried and tested approach that many have worked on over the years, this approach is arguably much more intuitive to understand and is a very reasonable approximation of the standard approach (typical errors of < 0.0001% for each component).\n\nI have learnt a good amount about both, PCA as well as rotations in n-dimensional space while researching for this project and hope that you, whoever may end up reading this, have too.",
   "metadata": {
    "tags": [],
    "cell_id": "00048-e12c64d0-e721-4671-8d00-a9f5fa733b36",
    "deepnote_cell_type": "markdown"
   }
  },
  {
   "cell_type": "markdown",
   "source": "<a style='text-decoration:none;line-height:16px;display:flex;color:#5B5B62;padding:10px;justify-content:end;' href='https://deepnote.com?utm_source=created-in-deepnote-cell&projectId=3c882279-82a6-4796-9acf-70d58cb2aa76' target=\"_blank\">\n<img alt='Created in deepnote.com' style='display:inline;max-height:16px;margin:0px;margin-right:7.5px;' src='data:image/svg+xml;base64,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' > </img>\nCreated in <span style='font-weight:600;margin-left:4px;'>Deepnote</span></a>",
   "metadata": {
    "tags": [],
    "created_in_deepnote_cell": true,
    "deepnote_cell_type": "markdown"
   }
  }
 ],
 "nbformat": 4,
 "nbformat_minor": 2,
 "metadata": {
  "orig_nbformat": 2,
  "deepnote": {
   "is_reactive": false
  },
  "deepnote_notebook_id": "9c699253-703c-4f9e-9bf7-16a4573b07c7",
  "deepnote_execution_queue": []
 }
}