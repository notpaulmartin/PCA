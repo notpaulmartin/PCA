{
 "cells": [
  {
   "cell_type": "code",
   "metadata": {
    "tags": [],
    "cell_id": "00000-d7302252-6a93-4f4d-9841-b091e813f0e0",
    "deepnote_to_be_reexecuted": false,
    "source_hash": "d873cc9d",
    "execution_start": 1623787133522,
    "execution_millis": 4119,
    "deepnote_cell_type": "code"
   },
   "source": "from enum import Enum\n\nimport numpy as np\nimport pandas as pd\n\nimport seaborn as sns\nfrom matplotlib import pyplot as plt\nfrom mpl_toolkits.mplot3d import Axes3D\n\nimport plotly.express as px\n\nfrom sklearn import decomposition\nfrom sklearn import preprocessing\n\nimport statistics as stats\nfrom scipy.stats import zscore\n\nimport mgen",
   "execution_count": 1,
   "outputs": []
  },
  {
   "cell_type": "code",
   "metadata": {
    "tags": [],
    "cell_id": "00001-387b3510-afa1-4d25-aa45-a383fa4c88b6",
    "deepnote_to_be_reexecuted": false,
    "source_hash": "6eb97706",
    "execution_start": 1623787137674,
    "execution_millis": 0,
    "deepnote_cell_type": "code"
   },
   "source": "def genData(m, c, size=20, noiseFactor=0.3):\n    # y=mx+c\n    xs = np.random.uniform(size=size)\n    ys = [m * x**2 + c + np.random.normal() * noiseFactor for x in xs]\n    return xs, ys\n\ndef gen3dData(m, c, size=20, noiseFactor=0.3):\n    # y=mx+c\n    xs = np.random.uniform(size=size)\n    ys = [m * x**2 + c + np.random.normal() * noiseFactor for x in xs]\n    zs = [m * x**2 + c + np.random.normal() * noiseFactor for x in xs]\n    return xs, ys, zs\n\ndef genNdData(n=3, size=20, noiseFactor=0.3):\n    variables = np.zeros((n, size))\n    variables[0] = xs = np.random.uniform(size=size)\n\n    for dim in range(1, n):\n        variables[dim] = [np.random.normal() * x**(dim+1) + np.random.normal() * noiseFactor for x in xs]\n\n    return variables",
   "execution_count": 2,
   "outputs": []
  },
  {
   "cell_type": "code",
   "metadata": {
    "tags": [],
    "cell_id": "00002-f1450ded-9c57-43f6-b5d5-b67c7ddab913",
    "deepnote_to_be_reexecuted": false,
    "source_hash": "cd6cf3f6",
    "execution_start": 1623787137680,
    "execution_millis": 8803958,
    "deepnote_cell_type": "code"
   },
   "source": "normalize = lambda arr: preprocessing.normalize([arr])[0]",
   "execution_count": 3,
   "outputs": []
  },
  {
   "cell_type": "markdown",
   "source": "# Data creation",
   "metadata": {
    "tags": [],
    "cell_id": "00003-2193e522-7cbf-4c16-ab03-a5c8e52077a9",
    "deepnote_cell_type": "text-cell-h1"
   }
  },
  {
   "cell_type": "code",
   "metadata": {
    "tags": [],
    "cell_id": "00002-23c8bd3a-25f5-4d48-b35d-4ac55eed5fc8",
    "deepnote_to_be_reexecuted": false,
    "source_hash": "90537cc3",
    "execution_start": 1623787137696,
    "execution_millis": 8803957,
    "deepnote_cell_type": "code"
   },
   "source": "# y = mx+c\nm = 3\nc = 4",
   "execution_count": 4,
   "outputs": []
  },
  {
   "cell_type": "code",
   "metadata": {
    "tags": [],
    "cell_id": "00003-c5cfa730-6c46-4383-983d-dc1e4aa95417",
    "deepnote_to_be_reexecuted": false,
    "source_hash": "b2d14b45",
    "execution_start": 1623787137754,
    "execution_millis": 387,
    "deepnote_cell_type": "code"
   },
   "source": "xs, ys = genData(m, c, size=20, noiseFactor=0.3)\nxs = normalize(xs)\nys = normalize(ys)\n\nsns.scatterplot(x=xs, y=ys)\n\n\"Variance: \", stats.variance(xs)",
   "execution_count": 5,
   "outputs": [
    {
     "output_type": "execute_result",
     "execution_count": 5,
     "data": {
      "text/plain": "('Variance: ', 0.01457917736931003)"
     },
     "metadata": {}
    },
    {
     "data": {
      "text/plain": "<Figure size 432x288 with 1 Axes>",
      "image/png": "[encoded data removed]"
     },
     "metadata": {
      "needs_background": "light",
      "image/png": {
       "width": 378,
       "height": 248
      }
     },
     "output_type": "display_data"
    }
   ]
  },
  {
   "cell_type": "markdown",
   "source": "# PCA (sklearn)",
   "metadata": {
    "tags": [],
    "cell_id": "00006-9b76113f-0ce5-4359-a79d-43204386dbe2",
    "deepnote_cell_type": "text-cell-h1"
   }
  },
  {
   "cell_type": "code",
   "metadata": {
    "tags": [],
    "cell_id": "00009-b7ae94ab-0f62-44d4-a386-33feac7fdb2a",
    "deepnote_to_be_reexecuted": false,
    "source_hash": "21b10510",
    "execution_start": 1623787138144,
    "execution_millis": 30,
    "deepnote_cell_type": "code"
   },
   "source": "# PCA\nX = np.ndarray.transpose(np.array([xs, ys]))\n\npca = decomposition.PCA(n_components=1)\nX_reduced = pca.fit_transform(X)\npca.explained_variance_ratio_",
   "execution_count": 6,
   "outputs": [
    {
     "output_type": "execute_result",
     "execution_count": 6,
     "data": {
      "text/plain": "array([0.99512303])"
     },
     "metadata": {}
    }
   ]
  },
  {
   "cell_type": "code",
   "metadata": {
    "tags": [],
    "cell_id": "00010-c27f5941-a8fe-4a04-8168-a75d492457c8",
    "deepnote_to_be_reexecuted": false,
    "source_hash": "3eaed2d",
    "execution_start": 1623787138179,
    "execution_millis": 219,
    "deepnote_cell_type": "code"
   },
   "source": "# Plot PCA\nxs_reduced = np.transpose(X_reduced)[0]\nsns.stripplot(x=xs_reduced, jitter=0.03)",
   "execution_count": 7,
   "outputs": [
    {
     "output_type": "execute_result",
     "execution_count": 7,
     "data": {
      "text/plain": "<AxesSubplot:>"
     },
     "metadata": {}
    },
    {
     "data": {
      "text/plain": "<Figure size 432x288 with 1 Axes>",
      "image/png": "[encoded data removed]"
     },
     "metadata": {
      "needs_background": "light",
      "image/png": {
       "width": 355,
       "height": 248
      }
     },
     "output_type": "display_data"
    }
   ]
  },
  {
   "cell_type": "markdown",
   "source": "# My approximation",
   "metadata": {
    "tags": [],
    "cell_id": "00009-ed69d45e-3cb9-4426-b006-8e109f05193c",
    "deepnote_cell_type": "text-cell-h1"
   }
  },
  {
   "cell_type": "code",
   "metadata": {
    "tags": [],
    "cell_id": "00012-64fd3274-d875-42cf-b364-e8c53b7df6bd",
    "deepnote_to_be_reexecuted": false,
    "source_hash": "6b6620ea",
    "execution_start": 1623787138403,
    "execution_millis": 24,
    "deepnote_cell_type": "code"
   },
   "source": "vector = [1,0]\n\nrotation_degrees = 90\nrotation_radians = np.radians(rotation_degrees)\n\nplane_v1 = np.array([1, 0])\nplane_v2 = np.array([0, 1])\n\nM = mgen.rotation_from_angle_and_plane(rotation_radians, plane_v1, plane_v2)\nM.dot(vector)",
   "execution_count": 8,
   "outputs": [
    {
     "output_type": "execute_result",
     "execution_count": 8,
     "data": {
      "text/plain": "array([1.11022302e-16, 1.00000000e+00])"
     },
     "metadata": {}
    }
   ]
  },
  {
   "cell_type": "code",
   "metadata": {
    "tags": [],
    "cell_id": "00012-8ccf8805-e163-4973-8b91-4924b3a0a4c4",
    "deepnote_to_be_reexecuted": false,
    "source_hash": "b18120b1",
    "execution_start": 1623787138427,
    "execution_millis": 9,
    "deepnote_cell_type": "code"
   },
   "source": "def unzip(xs):\n    return list( zip(*xs) )",
   "execution_count": 9,
   "outputs": []
  },
  {
   "cell_type": "markdown",
   "source": "## In 2D",
   "metadata": {
    "tags": [],
    "cell_id": "00012-df32d0aa-29b6-44d8-838e-133b98cfd912",
    "deepnote_cell_type": "text-cell-h2"
   }
  },
  {
   "cell_type": "code",
   "metadata": {
    "tags": [],
    "cell_id": "00012-6ac51093-3278-4b4e-8216-d94e4667631e",
    "deepnote_to_be_reexecuted": false,
    "source_hash": "ff402a9",
    "execution_start": 1623787138445,
    "execution_millis": 9,
    "deepnote_cell_type": "code"
   },
   "source": "def rotate(vec, angle_deg):\n    angle_rad = np.radians(angle_deg)\n    M = mgen.rotation_from_angle(angle_rad)\n    return M.dot(vec)\n\ndef rotateAll(vectors, angle_deg):\n    angle_rad = np.radians(angle_deg)\n    M = mgen.rotation_from_angle(angle_rad)\n    return [M.dot(v) for v in vectors]",
   "execution_count": 10,
   "outputs": []
  },
  {
   "cell_type": "code",
   "metadata": {
    "tags": [],
    "cell_id": "00014-88085f75-c562-4e8b-a4ed-d43ff33032df",
    "deepnote_to_be_reexecuted": false,
    "source_hash": "57669cfa",
    "execution_start": 1623787138462,
    "execution_millis": 8,
    "deepnote_cell_type": "code"
   },
   "source": "def xsOf(vectors):\n    return list( list(unzip(vectors))[0] )\n\ndef ysOf(vectors):\n    return list( list(unzip(vectors))[1] )",
   "execution_count": 11,
   "outputs": []
  },
  {
   "cell_type": "code",
   "metadata": {
    "tags": [],
    "cell_id": "00015-00a0ca60-2bbd-45bc-8041-6ef4c7e7f1d6",
    "deepnote_to_be_reexecuted": false,
    "source_hash": "1bcdd2f0",
    "execution_start": 1623787138476,
    "execution_millis": 16,
    "deepnote_cell_type": "code"
   },
   "source": "def plot1d(xs):\n    sns.stripplot(x=xs, jitter=0.03)\n\ndef plot2d(vectors):\n    xs, ys = unzip(vectors)\n    return sns.scatterplot(xs, ys)",
   "execution_count": 12,
   "outputs": []
  },
  {
   "cell_type": "code",
   "metadata": {
    "tags": [],
    "cell_id": "00015-809506ae-4e83-4799-a8d6-dcd7843c8805",
    "deepnote_to_be_reexecuted": false,
    "source_hash": "77beabcf",
    "execution_start": 1623787138501,
    "execution_millis": 17,
    "deepnote_cell_type": "code"
   },
   "source": "vectors = list(zip(xs, ys))",
   "execution_count": 13,
   "outputs": []
  },
  {
   "cell_type": "code",
   "metadata": {
    "tags": [],
    "cell_id": "00019-3df96360-c828-415d-abb9-48492fce9f9c",
    "deepnote_to_be_reexecuted": false,
    "source_hash": "af733ef8",
    "execution_start": 1623787138520,
    "execution_millis": 84,
    "deepnote_cell_type": "code"
   },
   "source": "angle = 0\nangle_change = 1\n\nvar = 0\nvar_new = stats.variance( xsOf(vectors) )\n\nvectors_new = vectors[:]\n\nwhile var < var_new:\n    var = var_new\n\n    vectors_left = rotateAll(vectors_new, -angle_change)\n    vectors_right = rotateAll(vectors_new, angle_change)\n\n    var_left = stats.variance(xsOf(vectors_left))\n    var_right = stats.variance(xsOf(vectors_right))\n\n    if var_left < var_right:\n        var_new = var_right\n        angle += angle_change\n        vectors_new = vectors_right\n\n    elif var_right < var_left:\n        var_new = var_left\n        angle -= angle_change\n        vectors_new = vectors_left\n\n    else:\n        break\n\nif angle < 0:\n    angle = 360 - angle\n\nprint(angle)\nvar_new",
   "execution_count": 14,
   "outputs": [
    {
     "name": "stdout",
     "text": "379\n",
     "output_type": "stream"
    },
    {
     "output_type": "execute_result",
     "execution_count": 14,
     "data": {
      "text/plain": "0.016493812831418708"
     },
     "metadata": {}
    }
   ]
  },
  {
   "cell_type": "code",
   "metadata": {
    "tags": [],
    "cell_id": "00019-1c4135b2-481e-4082-963e-2ec1564f1673",
    "deepnote_to_be_reexecuted": false,
    "source_hash": "58da141d",
    "execution_start": 1623787138594,
    "execution_millis": 26,
    "deepnote_cell_type": "code"
   },
   "source": "# Variance explained\nxs, ys = unzip(vectors)\nvar_explained = var_new/(stats.variance(xs) + stats.variance(ys))\n\nprint( \"Variance explained by Game:\", var_explained)\nprint( \"Variance explained by PCA:\", pca.explained_variance_ratio_)",
   "execution_count": 15,
   "outputs": [
    {
     "name": "stdout",
     "text": "Variance explained by Game: 0.9948245030451965\nVariance explained by PCA: [0.99512303]\n",
     "output_type": "stream"
    }
   ]
  },
  {
   "cell_type": "code",
   "metadata": {
    "tags": [],
    "cell_id": "00020-544d3e3c-9c22-4af2-8ae2-905e75519d95",
    "deepnote_to_be_reexecuted": false,
    "source_hash": "325c990e",
    "execution_start": 1623787138615,
    "execution_millis": 216,
    "deepnote_cell_type": "code"
   },
   "source": "plot1d(xsOf(vectors_new))",
   "execution_count": 16,
   "outputs": [
    {
     "data": {
      "text/plain": "<Figure size 432x288 with 1 Axes>",
      "image/png": "[encoded data removed]"
     },
     "metadata": {
      "needs_background": "light",
      "image/png": {
       "width": 354,
       "height": 248
      }
     },
     "output_type": "display_data"
    }
   ]
  },
  {
   "cell_type": "markdown",
   "source": "## In 3D",
   "metadata": {
    "tags": [],
    "cell_id": "00019-77b2ac53-4f3a-4fd5-8c06-9395cf9b74ab",
    "deepnote_cell_type": "text-cell-h2"
   }
  },
  {
   "cell_type": "code",
   "metadata": {
    "tags": [],
    "cell_id": "00020-a823b6ad-a47d-41cc-990f-339df9ae66c7",
    "deepnote_to_be_reexecuted": false,
    "source_hash": "581467c9",
    "execution_start": 1623787138826,
    "execution_millis": 8,
    "deepnote_cell_type": "code"
   },
   "source": "def plot3d(vectors):\n    xs, ys, zs = unzip(vectors)\n    fig = px.scatter_3d(x=xs, y=ys, z=zs)\n    fig.show()",
   "execution_count": 17,
   "outputs": []
  },
  {
   "cell_type": "code",
   "metadata": {
    "tags": [],
    "cell_id": "00022-53b29620-b6d8-4dcd-a18c-48c756cabbe4",
    "deepnote_to_be_reexecuted": false,
    "source_hash": "67e20ca1",
    "execution_start": 1623787138840,
    "execution_millis": 12,
    "deepnote_cell_type": "code"
   },
   "source": "# Generate data\nxs, ys, zs = gen3dData(5, 2)\nxs = normalize(xs)\nys = normalize(ys)\nzs = normalize(zs)",
   "execution_count": 18,
   "outputs": []
  },
  {
   "cell_type": "code",
   "metadata": {
    "tags": [],
    "cell_id": "00021-1afce68d-608b-43c0-811a-bf1bbc65cb11",
    "deepnote_to_be_reexecuted": false,
    "source_hash": "de05b094",
    "execution_start": 1623787138870,
    "execution_millis": 24,
    "deepnote_cell_type": "code"
   },
   "source": "# Package data\nvectors3d = list(zip(xs, ys, zs))\ndf = pd.DataFrame(vectors3d)",
   "execution_count": 19,
   "outputs": []
  },
  {
   "cell_type": "code",
   "metadata": {
    "tags": [],
    "cell_id": "00023-7e3d3160-1a08-4752-bdd4-6f6d83a0c99c",
    "deepnote_to_be_reexecuted": false,
    "source_hash": "4cf530ad",
    "execution_start": 1623787138912,
    "execution_millis": 3535,
    "deepnote_cell_type": "code"
   },
   "source": "sns.pairplot(df)",
   "execution_count": 20,
   "outputs": [
    {
     "output_type": "execute_result",
     "execution_count": 20,
     "data": {
      "text/plain": "<seaborn.axisgrid.PairGrid at 0x7fe73aae0b90>"
     },
     "metadata": {}
    },
    {
     "data": {
      "text/plain": "<Figure size 540x540 with 12 Axes>",
      "image/png": "[encoded data removed]"
     },
     "metadata": {
      "needs_background": "light",
      "image/png": {
       "width": 533,
       "height": 533
      }
     },
     "output_type": "display_data"
    }
   ]
  },
  {
   "cell_type": "code",
   "metadata": {
    "tags": [],
    "cell_id": "00022-1c151dc0-568c-4391-aaf4-6b1137a6b6e6",
    "deepnote_to_be_reexecuted": false,
    "source_hash": "c2071901",
    "execution_start": 1623787142452,
    "execution_millis": 2715,
    "is_output_hidden": true,
    "deepnote_cell_type": "code"
   },
   "source": "plot3d(vectors3d)",
   "execution_count": 21,
   "outputs": [
    {
     "data": {
      "text/html": "<html>\n<head><meta charset=\"utf-8\" /></head>\n<body>\n    <div>            <script src=\"https://cdnjs.cloudflare.com/ajax/libs/mathjax/2.7.5/MathJax.js?config=TeX-AMS-MML_SVG\"></script><script type=\"text/javascript\">if (window.MathJax) {MathJax.Hub.Config({SVG: {font: \"STIX-Web\"}});}</script>                <script type=\"text/javascript\">window.PlotlyConfig = {MathJaxConfig: 'local'};</script>\n        <script src=\"https://cdn.plot.ly/plotly-latest.min.js\"></script>                <div id=\"3368156d-beaa-4fef-a3cd-e9e92d43c871\" class=\"plotly-graph-div\" style=\"height:525px; width:100%;\"></div>            <script type=\"text/javascript\">                                    window.PLOTLYENV=window.PLOTLYENV || {};                                    if (document.getElementById(\"3368156d-beaa-4fef-a3cd-e9e92d43c871\")) {                    Plotly.newPlot(                        \"3368156d-beaa-4fef-a3cd-e9e92d43c871\",                        [{\"hovertemplate\": \"x=%{x}<br>y=%{y}<br>z=%{z}<extra></extra>\", \"legendgroup\": \"\", \"marker\": {\"color\": \"#636efa\", \"symbol\": \"circle\"}, \"mode\": \"markers\", \"name\": \"\", \"scene\": \"scene\", \"showlegend\": false, \"type\": \"scatter3d\", \"x\": [0.40577495838708105, 0.27505912857423825, 0.28418068922251216, 0.12736815702045132, 0.33581637695842886, 0.12819013502680668, 0.25990613175436433, 0.15825603301910882, 0.20093712086035095, 0.07103440957697611, 0.07066877003161709, 0.34263439601871815, 0.08708250995660206, 0.08660804474175246, 0.2308304023629372, 0.15044453382240186, 0.19491467469641408, 0.20593095805664474, 0.3086576890911429, 0.08014300809127507], \"y\": [0.4055891180315123, 0.233117659478059, 0.2641727705539618, 0.13544070678345185, 0.3324199668045265, 0.1357441322865705, 0.2552454266558971, 0.18698818718935414, 0.18498352228894083, 0.10021132841137703, 0.15398421132149603, 0.317024236316934, 0.13357667952643665, 0.13078041055468367, 0.23356908666189896, 0.1723917674983705, 0.2168364990197398, 0.19945635867707473, 0.27591561957516925, 0.11554711055747423], \"z\": [0.38028464020205194, 0.24612214246394457, 0.30119464536211377, 0.15110540720653726, 0.32341796301971276, 0.16288013456756867, 0.24722098335788031, 0.17511637902652677, 0.22278951164887664, 0.13211346035360244, 0.12688550199249407, 0.3361702943394025, 0.14849674833765594, 0.1440040534851197, 0.20739030656822718, 0.1606205166781135, 0.1926730988446498, 0.17444061613257464, 0.2600724950761496, 0.12391739653490969]}],                        {\"legend\": {\"tracegroupgap\": 0}, \"margin\": {\"t\": 60}, \"scene\": {\"domain\": {\"x\": [0.0, 1.0], \"y\": [0.0, 1.0]}, \"xaxis\": {\"title\": {\"text\": \"x\"}}, \"yaxis\": {\"title\": {\"text\": \"y\"}}, \"zaxis\": {\"title\": {\"text\": \"z\"}}}, \"template\": {\"data\": {\"bar\": [{\"error_x\": {\"color\": \"#2a3f5f\"}, \"error_y\": {\"color\": \"#2a3f5f\"}, \"marker\": {\"line\": {\"color\": \"#E5ECF6\", \"width\": 0.5}}, \"type\": \"bar\"}], \"barpolar\": [{\"marker\": {\"line\": {\"color\": \"#E5ECF6\", \"width\": 0.5}}, \"type\": \"barpolar\"}], \"carpet\": [{\"aaxis\": {\"endlinecolor\": \"#2a3f5f\", \"gridcolor\": \"white\", \"linecolor\": \"white\", \"minorgridcolor\": \"white\", \"startlinecolor\": \"#2a3f5f\"}, \"baxis\": {\"endlinecolor\": \"#2a3f5f\", \"gridcolor\": \"white\", \"linecolor\": \"white\", \"minorgridcolor\": \"white\", \"startlinecolor\": \"#2a3f5f\"}, \"type\": \"carpet\"}], \"choropleth\": [{\"colorbar\": {\"outlinewidth\": 0, \"ticks\": \"\"}, \"type\": \"choropleth\"}], \"contour\": [{\"colorbar\": {\"outlinewidth\": 0, \"ticks\": \"\"}, \"colorscale\": [[0.0, \"#0d0887\"], [0.1111111111111111, \"#46039f\"], [0.2222222222222222, \"#7201a8\"], [0.3333333333333333, \"#9c179e\"], [0.4444444444444444, \"#bd3786\"], [0.5555555555555556, \"#d8576b\"], [0.6666666666666666, \"#ed7953\"], [0.7777777777777778, \"#fb9f3a\"], [0.8888888888888888, \"#fdca26\"], [1.0, \"#f0f921\"]], \"type\": \"contour\"}], \"contourcarpet\": [{\"colorbar\": {\"outlinewidth\": 0, \"ticks\": \"\"}, \"type\": \"contourcarpet\"}], \"heatmap\": [{\"colorbar\": {\"outlinewidth\": 0, \"ticks\": \"\"}, \"colorscale\": [[0.0, \"#0d0887\"], [0.1111111111111111, \"#46039f\"], [0.2222222222222222, \"#7201a8\"], [0.3333333333333333, \"#9c179e\"], [0.4444444444444444, \"#bd3786\"], [0.5555555555555556, \"#d8576b\"], [0.6666666666666666, \"#ed7953\"], [0.7777777777777778, \"#fb9f3a\"], [0.8888888888888888, \"#fdca26\"], [1.0, \"#f0f921\"]], \"type\": \"heatmap\"}], \"heatmapgl\": [{\"colorbar\": {\"outlinewidth\": 0, \"ticks\": \"\"}, \"colorscale\": [[0.0, \"#0d0887\"], [0.1111111111111111, \"#46039f\"], [0.2222222222222222, \"#7201a8\"], [0.3333333333333333, \"#9c179e\"], [0.4444444444444444, \"#bd3786\"], [0.5555555555555556, \"#d8576b\"], [0.6666666666666666, \"#ed7953\"], [0.7777777777777778, \"#fb9f3a\"], [0.8888888888888888, \"#fdca26\"], [1.0, \"#f0f921\"]], \"type\": \"heatmapgl\"}], \"histogram\": [{\"marker\": {\"colorbar\": {\"outlinewidth\": 0, \"ticks\": \"\"}}, \"type\": \"histogram\"}], \"histogram2d\": [{\"colorbar\": {\"outlinewidth\": 0, \"ticks\": \"\"}, \"colorscale\": [[0.0, \"#0d0887\"], [0.1111111111111111, \"#46039f\"], [0.2222222222222222, \"#7201a8\"], [0.3333333333333333, \"#9c179e\"], [0.4444444444444444, \"#bd3786\"], [0.5555555555555556, \"#d8576b\"], [0.6666666666666666, \"#ed7953\"], [0.7777777777777778, \"#fb9f3a\"], [0.8888888888888888, \"#fdca26\"], [1.0, \"#f0f921\"]], \"type\": \"histogram2d\"}], \"histogram2dcontour\": [{\"colorbar\": {\"outlinewidth\": 0, \"ticks\": \"\"}, \"colorscale\": [[0.0, \"#0d0887\"], [0.1111111111111111, \"#46039f\"], [0.2222222222222222, \"#7201a8\"], [0.3333333333333333, \"#9c179e\"], [0.4444444444444444, \"#bd3786\"], [0.5555555555555556, \"#d8576b\"], [0.6666666666666666, \"#ed7953\"], [0.7777777777777778, \"#fb9f3a\"], [0.8888888888888888, \"#fdca26\"], [1.0, \"#f0f921\"]], \"type\": \"histogram2dcontour\"}], \"mesh3d\": [{\"colorbar\": {\"outlinewidth\": 0, \"ticks\": \"\"}, \"type\": \"mesh3d\"}], \"parcoords\": [{\"line\": {\"colorbar\": {\"outlinewidth\": 0, \"ticks\": \"\"}}, \"type\": \"parcoords\"}], \"pie\": [{\"automargin\": true, \"type\": \"pie\"}], \"scatter\": [{\"marker\": {\"colorbar\": {\"outlinewidth\": 0, \"ticks\": \"\"}}, \"type\": \"scatter\"}], \"scatter3d\": [{\"line\": {\"colorbar\": {\"outlinewidth\": 0, \"ticks\": \"\"}}, \"marker\": {\"colorbar\": {\"outlinewidth\": 0, \"ticks\": \"\"}}, \"type\": \"scatter3d\"}], \"scattercarpet\": [{\"marker\": {\"colorbar\": {\"outlinewidth\": 0, \"ticks\": \"\"}}, \"type\": \"scattercarpet\"}], \"scattergeo\": [{\"marker\": {\"colorbar\": {\"outlinewidth\": 0, \"ticks\": \"\"}}, \"type\": \"scattergeo\"}], \"scattergl\": [{\"marker\": {\"colorbar\": {\"outlinewidth\": 0, \"ticks\": \"\"}}, \"type\": \"scattergl\"}], \"scattermapbox\": [{\"marker\": {\"colorbar\": {\"outlinewidth\": 0, \"ticks\": \"\"}}, \"type\": \"scattermapbox\"}], \"scatterpolar\": [{\"marker\": {\"colorbar\": {\"outlinewidth\": 0, \"ticks\": \"\"}}, \"type\": \"scatterpolar\"}], \"scatterpolargl\": [{\"marker\": {\"colorbar\": {\"outlinewidth\": 0, \"ticks\": \"\"}}, \"type\": \"scatterpolargl\"}], \"scatterternary\": [{\"marker\": {\"colorbar\": {\"outlinewidth\": 0, \"ticks\": \"\"}}, \"type\": \"scatterternary\"}], \"surface\": [{\"colorbar\": {\"outlinewidth\": 0, \"ticks\": \"\"}, \"colorscale\": [[0.0, \"#0d0887\"], [0.1111111111111111, \"#46039f\"], [0.2222222222222222, \"#7201a8\"], [0.3333333333333333, \"#9c179e\"], [0.4444444444444444, \"#bd3786\"], [0.5555555555555556, \"#d8576b\"], [0.6666666666666666, \"#ed7953\"], [0.7777777777777778, \"#fb9f3a\"], [0.8888888888888888, \"#fdca26\"], [1.0, \"#f0f921\"]], \"type\": \"surface\"}], \"table\": [{\"cells\": {\"fill\": {\"color\": \"#EBF0F8\"}, \"line\": {\"color\": \"white\"}}, \"header\": {\"fill\": {\"color\": \"#C8D4E3\"}, \"line\": {\"color\": \"white\"}}, \"type\": \"table\"}]}, \"layout\": {\"annotationdefaults\": {\"arrowcolor\": \"#2a3f5f\", \"arrowhead\": 0, \"arrowwidth\": 1}, \"autotypenumbers\": \"strict\", \"coloraxis\": {\"colorbar\": {\"outlinewidth\": 0, \"ticks\": \"\"}}, \"colorscale\": {\"diverging\": [[0, \"#8e0152\"], [0.1, \"#c51b7d\"], [0.2, \"#de77ae\"], [0.3, \"#f1b6da\"], [0.4, \"#fde0ef\"], [0.5, \"#f7f7f7\"], [0.6, \"#e6f5d0\"], [0.7, \"#b8e186\"], [0.8, \"#7fbc41\"], [0.9, \"#4d9221\"], [1, \"#276419\"]], \"sequential\": [[0.0, \"#0d0887\"], [0.1111111111111111, \"#46039f\"], [0.2222222222222222, \"#7201a8\"], [0.3333333333333333, \"#9c179e\"], [0.4444444444444444, \"#bd3786\"], [0.5555555555555556, \"#d8576b\"], [0.6666666666666666, \"#ed7953\"], [0.7777777777777778, \"#fb9f3a\"], [0.8888888888888888, \"#fdca26\"], [1.0, \"#f0f921\"]], \"sequentialminus\": [[0.0, \"#0d0887\"], [0.1111111111111111, \"#46039f\"], [0.2222222222222222, \"#7201a8\"], [0.3333333333333333, \"#9c179e\"], [0.4444444444444444, \"#bd3786\"], [0.5555555555555556, \"#d8576b\"], [0.6666666666666666, \"#ed7953\"], [0.7777777777777778, \"#fb9f3a\"], [0.8888888888888888, \"#fdca26\"], [1.0, \"#f0f921\"]]}, \"colorway\": [\"#636efa\", \"#EF553B\", \"#00cc96\", \"#ab63fa\", \"#FFA15A\", \"#19d3f3\", \"#FF6692\", \"#B6E880\", \"#FF97FF\", \"#FECB52\"], \"font\": {\"color\": \"#2a3f5f\"}, \"geo\": {\"bgcolor\": \"white\", \"lakecolor\": \"white\", \"landcolor\": \"#E5ECF6\", \"showlakes\": true, \"showland\": true, \"subunitcolor\": \"white\"}, \"hoverlabel\": {\"align\": \"left\"}, \"hovermode\": \"closest\", \"mapbox\": {\"style\": \"light\"}, \"paper_bgcolor\": \"white\", \"plot_bgcolor\": \"#E5ECF6\", \"polar\": {\"angularaxis\": {\"gridcolor\": \"white\", \"linecolor\": \"white\", \"ticks\": \"\"}, \"bgcolor\": \"#E5ECF6\", \"radialaxis\": {\"gridcolor\": \"white\", \"linecolor\": \"white\", \"ticks\": \"\"}}, \"scene\": {\"xaxis\": {\"backgroundcolor\": \"#E5ECF6\", \"gridcolor\": \"white\", \"gridwidth\": 2, \"linecolor\": \"white\", \"showbackground\": true, \"ticks\": \"\", \"zerolinecolor\": \"white\"}, \"yaxis\": {\"backgroundcolor\": \"#E5ECF6\", \"gridcolor\": \"white\", \"gridwidth\": 2, \"linecolor\": \"white\", \"showbackground\": true, \"ticks\": \"\", \"zerolinecolor\": \"white\"}, \"zaxis\": {\"backgroundcolor\": \"#E5ECF6\", \"gridcolor\": \"white\", \"gridwidth\": 2, \"linecolor\": \"white\", \"showbackground\": true, \"ticks\": \"\", \"zerolinecolor\": \"white\"}}, \"shapedefaults\": {\"line\": {\"color\": \"#2a3f5f\"}}, \"ternary\": {\"aaxis\": {\"gridcolor\": \"white\", \"linecolor\": \"white\", \"ticks\": \"\"}, \"baxis\": {\"gridcolor\": \"white\", \"linecolor\": \"white\", \"ticks\": \"\"}, \"bgcolor\": \"#E5ECF6\", \"caxis\": {\"gridcolor\": \"white\", \"linecolor\": \"white\", \"ticks\": \"\"}}, \"title\": {\"x\": 0.05}, \"xaxis\": {\"automargin\": true, \"gridcolor\": \"white\", \"linecolor\": \"white\", \"ticks\": \"\", \"title\": {\"standoff\": 15}, \"zerolinecolor\": \"white\", \"zerolinewidth\": 2}, \"yaxis\": {\"automargin\": true, \"gridcolor\": \"white\", \"linecolor\": \"white\", \"ticks\": \"\", \"title\": {\"standoff\": 15}, \"zerolinecolor\": \"white\", \"zerolinewidth\": 2}}}},                        {\"responsive\": true}                    ).then(function(){\n                            \nvar gd = document.getElementById('3368156d-beaa-4fef-a3cd-e9e92d43c871');\nvar x = new MutationObserver(function (mutations, observer) {{\n        var display = window.getComputedStyle(gd).display;\n        if (!display || display === 'none') {{\n            console.log([gd, 'removed!']);\n            Plotly.purge(gd);\n            observer.disconnect();\n        }}\n}});\n\n// Listen for the removal of the full notebook cells\nvar notebookContainer = gd.closest('#notebook-container');\nif (notebookContainer) {{\n    x.observe(notebookContainer, {childList: true});\n}}\n\n// Listen for the clearing of the current output cell\nvar outputEl = gd.closest('.output');\nif (outputEl) {{\n    x.observe(outputEl, {childList: true});\n}}\n\n                        })                };                            </script>        </div>\n</body>\n</html>"
     },
     "metadata": {},
     "output_type": "display_data"
    }
   ]
  },
  {
   "cell_type": "code",
   "metadata": {
    "tags": [],
    "cell_id": "00028-a06350a0-df11-4ce5-b6ec-0c92ff74cc44",
    "deepnote_to_be_reexecuted": false,
    "source_hash": "d4c15344",
    "execution_start": 1623787145172,
    "execution_millis": 12,
    "deepnote_cell_type": "code"
   },
   "source": "# Returns two orthogonal vectors to describe a plan based on the dimension of the space\n# and the two axes that should form the plane\ndef planeToVectors(dimension, axis1, axis2):\n    v1 = np.zeros(dimension)\n    v2 = np.zeros(dimension)\n    v1[axis1] = 1\n    v2[axis2] = 1\n    return v1, v2\n\n# e.g. In 4D between Y and W axes\n#  planeToVectors(4, 1, 3)\n#  -> [0 1 0 0], [0 0 0 1]",
   "execution_count": 22,
   "outputs": []
  },
  {
   "cell_type": "code",
   "metadata": {
    "tags": [],
    "cell_id": "00029-d18005f0-1449-45f5-ac57-90e4de649ece",
    "deepnote_to_be_reexecuted": false,
    "source_hash": "cd1ef54e",
    "execution_start": 1623787145190,
    "execution_millis": 11,
    "deepnote_cell_type": "code"
   },
   "source": "# Perform a clock-wise rotation by [rotation_deg]° on a list of vectors on the plane described by the two vectors\ndef rotateOnPlane(plane_v1, plane_v2, rotation_deg, vectors):\n    # Create rotation matrix\n    rotation_rad = np.radians(rotation_deg)\n    M = mgen.rotation_from_angle_and_plane(rotation_rad, plane_v1, plane_v2)\n\n    # Rotate all vectors\n    return [M.dot(v) for v in vectors]",
   "execution_count": 23,
   "outputs": []
  },
  {
   "cell_type": "code",
   "metadata": {
    "tags": [],
    "cell_id": "00030-53dcef98-f274-416d-a9e8-68006b1b7596",
    "deepnote_to_be_reexecuted": false,
    "source_hash": "c6b84be3",
    "execution_start": 1623787145208,
    "execution_millis": 13,
    "deepnote_cell_type": "code"
   },
   "source": "# Tries rotating vectors in both directions on the plane given by the two axes (axis1, axis2).\n# The direction is chosen that maximises the variance along the optimisation_axis\n# \n# Returns (rotation_deg or -rotation_deg), new_variance, rotated_vectors\n\ndef bestRotationOnAxes(optimisation_axis, dimension, axis1, axis2, rotation_deg, vectors):\n    # Generate orthogonal vectors describing the plane\n    plane_v1, plane_v2 = planeToVectors(dimension, axis1, axis2)\n    \n    # Try rotating left (anti-clockwise)\n    vectors_left = rotateOnPlane(plane_v1, plane_v2, -rotation_deg, vectors)\n    points = unzip(vectors_left)[optimisation_axis]\n    variance_left = stats.variance(points)\n\n    # Try rotating right (clockwise)\n    vectors_right = rotateOnPlane(plane_v1, plane_v2, rotation_deg, vectors)\n    points = unzip(vectors_right)[optimisation_axis]\n    variance_right = stats.variance(points)\n\n    # Choose rotation the maximises the variance\n    if variance_left > variance_right:\n        return -rotation_deg, variance_left, vectors_left\n    else:\n        return rotation_deg, variance_right, vectors_right",
   "execution_count": 24,
   "outputs": []
  },
  {
   "cell_type": "code",
   "metadata": {
    "tags": [],
    "cell_id": "00031-2848934d-2239-4f15-a61a-b0e34b9cb4b9",
    "deepnote_to_be_reexecuted": false,
    "source_hash": "e8114d93",
    "execution_start": 1623787145227,
    "execution_millis": 15,
    "deepnote_cell_type": "code"
   },
   "source": "# Rotates the points by [rotation_deg]° on every plane allowed to improve the variance along the optimisation_axis\n# \n# To improve the X-axis alignment, the points are allowed to rotate on every plane,\n# but to improve the Y-axis, the rotations may not affect the X-axis alignment\n# In 3D: For X-axis alignment rotation on XY and XZ plane (YZ is also allowed, but will not affect X-axis)\n#        For Y-axis alignment rotation on YZ, but not YX plane\n\ndef improveAxisAlignmentBy(optimisation_axis, dimensions, rotation_deg, vectors):\n    if optimisation_axis == dimensions-1:\n        points = unzip(vectors)[optimisation_axis]\n        return stats.variance(points), vectors\n        # TODO\n\n    # Axes to pair with optimisation_axis to form the plane to rotate on.\n    # Assumes all axes < optimisation_axis to be fixed and immutable\n    for axis2 in range(optimisation_axis+1, dimensions):\n        angle_diff, var, vectors = bestRotationOnAxes(\n            optimisation_axis = optimisation_axis,\n            dimension = dimensions,\n            axis1 = optimisation_axis,\n            axis2 = axis2,\n            rotation_deg = rotation_deg,\n            vectors = vectors\n        )\n\n    return var, vectors",
   "execution_count": 25,
   "outputs": []
  },
  {
   "cell_type": "code",
   "metadata": {
    "tags": [],
    "cell_id": "00030-b60d9807-bc9c-412c-bc6c-1df0a6b9e2d1",
    "deepnote_to_be_reexecuted": false,
    "source_hash": "2f98baca",
    "execution_start": 1623787145248,
    "execution_millis": 12,
    "deepnote_cell_type": "code"
   },
   "source": "def optimiseAxisOnPlane(optimisation_axis, dimensions, axis1, axis2, rotation_deg, vectors):\n    var_old = -1\n    var = 0\n\n    while var > var_old:\n        var_old = var\n        angle_diff, var, vectors = bestRotationOnAxes(\n                optimisation_axis = optimisation_axis,\n                dimension = dimensions,\n                axis1 = axis1,\n                axis2 = axis2,\n                rotation_deg = rotation_deg,\n                vectors = vectors\n            )\n\n    return var, vectors",
   "execution_count": 26,
   "outputs": []
  },
  {
   "cell_type": "code",
   "metadata": {
    "tags": [],
    "cell_id": "00031-016ba597-d816-4f87-a434-ccba3c9e45f4",
    "deepnote_to_be_reexecuted": false,
    "source_hash": "471ffc4f",
    "execution_start": 1623787145265,
    "execution_millis": 8,
    "deepnote_cell_type": "code"
   },
   "source": "# axes\nclass Axis(Enum):\n    X,Y,Z = 0,1,2",
   "execution_count": 27,
   "outputs": []
  },
  {
   "cell_type": "markdown",
   "source": "### Algorithm",
   "metadata": {
    "tags": [],
    "cell_id": "00028-a16a3959-ef6a-43f9-a43a-142a5ae99b54",
    "deepnote_cell_type": "markdown"
   }
  },
  {
   "cell_type": "code",
   "metadata": {
    "tags": [],
    "cell_id": "00031-d5a01cce-11a9-4b32-a81d-7bb69f3db351",
    "deepnote_to_be_reexecuted": false,
    "source_hash": "55eded63",
    "execution_start": 1623788156530,
    "execution_millis": 0,
    "deepnote_cell_type": "code"
   },
   "source": "def approximatePC(from_dimension, target_pc, precision, vectors):\n    # Requires that prior PCs are already approximated in the input vectors\n\n    var_old = -1\n    var = 0\n\n    # Instead of improving by a little bit every time, initially make big adjustments and get finer and finer\n    # Approach is inspired by binary search.\n    angle = 90  # Start at 90° changes instead of 180°, since flipping by 180° results in the same variance\n    while angle > precision:\n        var_old = var\n        var, vectors = improveAxisAlignmentBy(target_pc, from_dimension, angle, vectors)\n\n        angle = angle / 1.5\n\n\n    return var, vectors",
   "execution_count": 72,
   "outputs": []
  },
  {
   "cell_type": "code",
   "metadata": {
    "tags": [],
    "cell_id": "00036-139cbb24-8442-425f-96c2-95896dd0f4c7",
    "deepnote_to_be_reexecuted": false,
    "source_hash": "c9c1b2f",
    "execution_start": 1623788235486,
    "execution_millis": 0,
    "deepnote_cell_type": "code"
   },
   "source": "def myPCA(input_vectors, components):\n    precision = .1  # Smallest rotation-angle size (in degrees)\n\n    dimensions = len(input_vectors[0])\n    target_dimensions = components  # No. of Principal Components to find\n\n    if target_dimensions > dimensions:\n        raise Exception(f'Requested more components ({components}) than input data has dimensions ({dimensions})')\n\n    variances = np.zeros(target_dimensions)\n\n    vectors_new = np.copy(input_vectors)\n\n    # Compute Principal Components\n    for pc in range(target_dimensions):\n            variances[pc], vectors_new = approximatePC(dimensions, pc, precision, vectors_new)\n\n    # Calculate variances explained by components\n    total_var = 0\n    for points in unzip(input_vectors):\n        total_var += stats.variance(points)\n    varsExplained = [var / total_var for var in variances]\n\n    return {\n        \"variance explained\": varsExplained,\n        \"components\": unzip(vectors_new)[:target_dimensions]\n    }",
   "execution_count": 73,
   "outputs": []
  },
  {
   "cell_type": "code",
   "metadata": {
    "tags": [],
    "cell_id": "00035-b13126ef-3384-4d5a-b794-8d090d896904",
    "deepnote_to_be_reexecuted": false,
    "source_hash": "f81b254",
    "execution_start": 1623787145318,
    "execution_millis": 15,
    "deepnote_cell_type": "code"
   },
   "source": "vectors3d = unzip(genNdData(n=3, size=100))",
   "execution_count": 30,
   "outputs": []
  },
  {
   "cell_type": "code",
   "metadata": {
    "tags": [],
    "cell_id": "00037-441d213e-e450-4203-bc98-54ccad9d5ea6",
    "deepnote_to_be_reexecuted": false,
    "source_hash": "f32156db",
    "execution_start": 1623787145338,
    "execution_millis": 1478,
    "is_output_hidden": false,
    "deepnote_cell_type": "code"
   },
   "source": "results = myPCA(vectors3d, 3)\nresults['variance explained']",
   "execution_count": 31,
   "outputs": [
    {
     "output_type": "execute_result",
     "execution_count": 31,
     "data": {
      "text/plain": "[0.5288862848147936, 0.3265388690930836, 0.14457484609213248]"
     },
     "metadata": {}
    }
   ]
  },
  {
   "cell_type": "code",
   "metadata": {
    "tags": [],
    "cell_id": "00036-a59f9d91-c208-4ef5-b334-a0e327ad24ec",
    "deepnote_to_be_reexecuted": false,
    "source_hash": "f32156db",
    "execution_start": 1623787146824,
    "execution_millis": 1487,
    "deepnote_cell_type": "code"
   },
   "source": "results = myPCA(vectors3d, 3)\nresults['variance explained']",
   "execution_count": 32,
   "outputs": [
    {
     "output_type": "execute_result",
     "execution_count": 32,
     "data": {
      "text/plain": "[0.5288862848147936, 0.3265388690930836, 0.14457484609213248]"
     },
     "metadata": {}
    }
   ]
  },
  {
   "cell_type": "code",
   "metadata": {
    "tags": [],
    "cell_id": "00037-d4e9b127-099d-48e9-8ed5-80f88a50446c",
    "deepnote_to_be_reexecuted": false,
    "source_hash": "21431afa",
    "execution_start": 1623787148304,
    "execution_millis": 3895,
    "is_output_hidden": false,
    "deepnote_cell_type": "code"
   },
   "source": "vectors5d = unzip(genNdData(n=5, size=100))\nresults = myPCA(vectors5d, 3)\nresults['variance explained']",
   "execution_count": 33,
   "outputs": [
    {
     "output_type": "execute_result",
     "execution_count": 33,
     "data": {
      "text/plain": "[0.3090840995354638, 0.23240644693238693, 0.20458047818502373]"
     },
     "metadata": {}
    }
   ]
  },
  {
   "cell_type": "code",
   "metadata": {
    "tags": [],
    "cell_id": "00039-c0ee3ccd-5210-4494-a277-3ea563325633",
    "deepnote_to_be_reexecuted": false,
    "source_hash": "cff8100d",
    "execution_start": 1623787968844,
    "execution_millis": 6,
    "deepnote_cell_type": "code"
   },
   "source": "vectors10d = unzip(genNdData(n=10, size=100))",
   "execution_count": 68,
   "outputs": []
  },
  {
   "cell_type": "code",
   "metadata": {
    "tags": [],
    "cell_id": "00038-29c57f21-29f9-47c7-99fb-6c59913a1718",
    "deepnote_to_be_reexecuted": false,
    "source_hash": "1fff6764",
    "execution_start": 1623787969593,
    "execution_millis": 1652,
    "is_output_hidden": false,
    "deepnote_cell_type": "code"
   },
   "source": "results = myPCA(vectors10d, 3)\nresults['variance explained']",
   "execution_count": 69,
   "outputs": [
    {
     "output_type": "execute_result",
     "execution_count": 69,
     "data": {
      "text/plain": "[0.1865712065288528, 0.17033919445087034, 0.16157194438610298]"
     },
     "metadata": {}
    }
   ]
  },
  {
   "cell_type": "code",
   "metadata": {
    "tags": [],
    "cell_id": "00030-0facef8a-6d1c-4d9d-b5dd-d9358ccbb816",
    "deepnote_to_be_reexecuted": false,
    "source_hash": "1168c77f",
    "execution_start": 1623787160799,
    "execution_millis": 2299,
    "is_output_hidden": true,
    "deepnote_cell_type": "code"
   },
   "source": "df = pd.DataFrame(unzip(results['components']))\nsns.pairplot(df)",
   "execution_count": 36,
   "outputs": [
    {
     "output_type": "execute_result",
     "execution_count": 36,
     "data": {
      "text/plain": "<seaborn.axisgrid.PairGrid at 0x7fe73ab52850>"
     },
     "metadata": {}
    },
    {
     "data": {
      "text/plain": "<Figure size 540x540 with 12 Axes>",
      "image/png": "[encoded data removed]"
     },
     "metadata": {
      "needs_background": "light",
      "image/png": {
       "width": 533,
       "height": 533
      }
     },
     "output_type": "display_data"
    }
   ]
  },
  {
   "cell_type": "code",
   "metadata": {
    "tags": [],
    "cell_id": "00031-e8a6c087-da68-4f88-8cf9-cb05b6fc8cf7",
    "deepnote_to_be_reexecuted": false,
    "source_hash": "c9260f1f",
    "execution_start": 1623787972715,
    "execution_millis": 15,
    "deepnote_cell_type": "code"
   },
   "source": "# PCA\nX = np.ndarray.transpose(np.array(unzip(vectors10d)))\n\npca = decomposition.PCA(n_components=3)\nX_reduced = pca.fit_transform(X)\npca.explained_variance_ratio_",
   "execution_count": 70,
   "outputs": [
    {
     "output_type": "execute_result",
     "execution_count": 70,
     "data": {
      "text/plain": "array([0.18661317, 0.17031086, 0.16156809])"
     },
     "metadata": {}
    }
   ]
  },
  {
   "cell_type": "code",
   "metadata": {
    "tags": [],
    "cell_id": "00036-c04c89dd-4814-499c-9c80-ed5e5d5e0cc6",
    "deepnote_to_be_reexecuted": false,
    "source_hash": "cd971c23",
    "execution_start": 1623787163150,
    "execution_millis": 2374,
    "deepnote_cell_type": "code"
   },
   "source": "df = pd.DataFrame(X_reduced)\nsns.pairplot(df)",
   "execution_count": 38,
   "outputs": [
    {
     "output_type": "execute_result",
     "execution_count": 38,
     "data": {
      "text/plain": "<seaborn.axisgrid.PairGrid at 0x7fe73153e310>"
     },
     "metadata": {}
    },
    {
     "data": {
      "text/plain": "<Figure size 540x540 with 12 Axes>",
      "image/png": "[encoded data removed]"
     },
     "metadata": {
      "needs_background": "light",
      "image/png": {
       "width": 533,
       "height": 533
      }
     },
     "output_type": "display_data"
    }
   ]
  },
  {
   "cell_type": "markdown",
   "source": "<a style='text-decoration:none;line-height:16px;display:flex;color:#5B5B62;padding:10px;justify-content:end;' href='https://deepnote.com?utm_source=created-in-deepnote-cell&projectId=3c882279-82a6-4796-9acf-70d58cb2aa76' target=\"_blank\">\n<img alt='Created in deepnote.com' style='display:inline;max-height:16px;margin:0px;margin-right:7.5px;' src='data:image/svg+xml;base64,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' > </img>\nCreated in <span style='font-weight:600;margin-left:4px;'>Deepnote</span></a>",
   "metadata": {
    "tags": [],
    "created_in_deepnote_cell": true,
    "deepnote_cell_type": "markdown"
   }
  }
 ],
 "nbformat": 4,
 "nbformat_minor": 2,
 "metadata": {
  "orig_nbformat": 2,
  "deepnote": {
   "is_reactive": false
  },
  "deepnote_notebook_id": "9c699253-703c-4f9e-9bf7-16a4573b07c7",
  "deepnote_execution_queue": []
 }
}